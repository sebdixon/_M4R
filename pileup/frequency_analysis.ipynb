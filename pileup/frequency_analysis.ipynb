{
 "cells": [
  {
   "cell_type": "code",
   "execution_count": 1,
   "metadata": {},
   "outputs": [
    {
     "name": "stderr",
     "output_type": "stream",
     "text": [
      "/Library/Frameworks/Python.framework/Versions/3.10/lib/python3.10/site-packages/tqdm/auto.py:21: TqdmWarning: IProgress not found. Please update jupyter and ipywidgets. See https://ipywidgets.readthedocs.io/en/stable/user_install.html\n",
      "  from .autonotebook import tqdm as notebook_tqdm\n",
      "2024-03-21 15:13:33.108105: I tensorflow/core/platform/cpu_feature_guard.cc:193] This TensorFlow binary is optimized with oneAPI Deep Neural Network Library (oneDNN) to use the following CPU instructions in performance-critical operations:  AVX2 AVX512F AVX512_VNNI FMA\n",
      "To enable them in other operations, rebuild TensorFlow with the appropriate compiler flags.\n"
     ]
    }
   ],
   "source": [
    "import numpy as np\n",
    "import torch\n",
    "from sbi import utils as utils\n",
    "from sbi import analysis as analysis\n",
    "from utils.data_formats import timeseries_to_channels\n",
    "from simulators import Simulator\n",
    "from spectralcomponents import PowerLaw, GaussianEmissionLine, Spectrum\n",
    "from sbi.inference import SNRE_B, SNLE, prepare_for_sbi, simulate_for_sbi\n",
    "from sbi.neural_nets.embedding_nets import FCEmbedding, CNNEmbedding, PermutationInvariantEmbedding\n",
    "from sbi_tools import BoxUniform\n",
    "from sbi.inference import SNPE\n",
    "from sbi.utils import posterior_nn\n",
    "\n",
    "c1 = PowerLaw()\n",
    "spectrum = Spectrum(c1)\n",
    "\n",
    "prior = BoxUniform(low=torch.tensor([0.1, 0.1]), high=torch.tensor([1, 2]))\n",
    "def simulate_simple(params):\n",
    "    simulator =  Simulator(spectrum, 1000, pileup='channels')\n",
    "    data = simulator(params)\n",
    "    return np.histogram(data[data>0], bins=50)[0]"
   ]
  },
  {
   "cell_type": "code",
   "execution_count": 2,
   "metadata": {},
   "outputs": [
    {
     "name": "stdout",
     "output_type": "stream",
     "text": [
      " Neural network successfully converged after 71 epochs."
     ]
    }
   ],
   "source": [
    "\n",
    "num_sims = 100000\n",
    "\n",
    "inference = SNPE(prior=prior)\n",
    "theta = torch.Tensor(np.load('theta.npy'))\n",
    "x = torch.Tensor(np.load('x.npy'))\n",
    "\n",
    "_ = inference.append_simulations(theta, x, proposal=prior).train()\n",
    "posterior = inference.build_posterior()\n"
   ]
  },
  {
   "cell_type": "code",
   "execution_count": 14,
   "metadata": {},
   "outputs": [
    {
     "name": "stderr",
     "output_type": "stream",
     "text": [
      "Drawing 10000 posterior samples: 100%|██████████| 10000/10000 [00:00<00:00, 65461.23it/s]\n"
     ]
    },
    {
     "data": {
      "image/png": "[encoded data removed]",
      "text/plain": [
       "<Figure size 360x360 with 4 Axes>"
      ]
     },
     "metadata": {
      "needs_background": "light"
     },
     "output_type": "display_data"
    }
   ],
   "source": [
    "true_params = (0.4, 0.5)\n",
    "x_0 = simulate_simple(true_params)\n",
    "\n",
    "posterior = inference.build_posterior().set_default_x(x_0)\n",
    "\n",
    "samples = posterior.sample((10000,), x=x_0)\n",
    "fig, axes = analysis.pairplot(\n",
    "    samples,\n",
    "    limits=[[0.1, 1], [0.1, 2]],\n",
    "    ticks=[[0.1, 1], [0.1, 2]],\n",
    "    figsize=(5, 5),\n",
    "    points=true_params,\n",
    "    points_offdiag={\"markersize\": 6},\n",
    "    points_colors=\"r\",\n",
    ")"
   ]
  },
  {
   "cell_type": "code",
   "execution_count": 65,
   "metadata": {},
   "outputs": [
    {
     "name": "stderr",
     "output_type": "stream",
     "text": [
      "Drawing 1000 posterior samples: 1070it [00:00, 2300.37it/s]             \n",
      "Drawing 1000 posterior samples: 1081it [00:00, 7205.28it/s]                         \n",
      "Drawing 1000 posterior samples: 1087it [00:00, 3243.34it/s]                         \n",
      "Drawing 1000 posterior samples: 1059it [00:00, 6313.68it/s]                         \n",
      "Drawing 1000 posterior samples: 1067it [00:00, 5719.43it/s]                         \n",
      "Drawing 1000 posterior samples: 1079it [00:00, 7861.80it/s]                         \n",
      "Drawing 1000 posterior samples: 1087it [00:00, 3375.95it/s]                         \n",
      "Drawing 1000 posterior samples: 1073it [00:00, 13314.50it/s]            \n",
      "Drawing 1000 posterior samples: 1077it [00:00, 13705.59it/s]            \n",
      "Drawing 1000 posterior samples: 1055it [00:00, 12718.23it/s]            \n",
      "Drawing 1000 posterior samples: 1059it [00:00, 14976.07it/s]            \n",
      "Drawing 1000 posterior samples: 1089it [00:00, 16298.06it/s]            \n",
      "Drawing 1000 posterior samples: 1053it [00:00, 15803.95it/s]            \n",
      "Drawing 1000 posterior samples: 1060it [00:00, 5674.34it/s]             \n",
      "Drawing 1000 posterior samples: 1067it [00:00, 16288.29it/s]            \n",
      "Drawing 1000 posterior samples: 1081it [00:00, 15712.60it/s]            \n",
      "Drawing 1000 posterior samples: 1083it [00:00, 7864.52it/s]             \n",
      "Drawing 1000 posterior samples: 1060it [00:00, 14687.54it/s]            \n",
      "Drawing 1000 posterior samples: 1085it [00:00, 15037.87it/s]            \n",
      "Drawing 1000 posterior samples: 1078it [00:00, 15605.12it/s]            \n",
      "Drawing 1000 posterior samples: 1065it [00:00, 12294.09it/s]            \n",
      "Drawing 1000 posterior samples: 1074it [00:00, 21058.87it/s]            \n",
      "Drawing 1000 posterior samples: 1079it [00:00, 14551.61it/s]            \n",
      "Drawing 1000 posterior samples: 1076it [00:00, 15441.55it/s]            \n",
      "Drawing 1000 posterior samples: 1084it [00:00, 15549.65it/s]            \n",
      "Drawing 1000 posterior samples: 1082it [00:00, 14856.96it/s]            \n",
      "Drawing 1000 posterior samples: 1089it [00:00, 12546.55it/s]            \n",
      "Drawing 1000 posterior samples: 1084it [00:00, 12949.48it/s]            \n",
      "Drawing 1000 posterior samples: 1052it [00:00, 13308.06it/s]            \n",
      "Drawing 1000 posterior samples: 1060it [00:00, 4894.25it/s]                         \n",
      "Drawing 1000 posterior samples: 1085it [00:00, 15937.14it/s]            \n",
      "Drawing 1000 posterior samples: 1079it [00:00, 12030.62it/s]            \n",
      "Drawing 1000 posterior samples: 1052it [00:00, 7033.98it/s]                         \n",
      "Drawing 1000 posterior samples: 1082it [00:00, 9388.61it/s]             \n",
      "Drawing 1000 posterior samples: 1094it [00:00, 12416.87it/s]            \n",
      "Drawing 1000 posterior samples: 1068it [00:00, 15962.24it/s]            \n",
      "Drawing 1000 posterior samples: 1093it [00:00, 16085.58it/s]            \n",
      "Drawing 1000 posterior samples: 1076it [00:00, 10887.36it/s]            \n",
      "Drawing 1000 posterior samples: 1060it [00:00, 2488.60it/s]                         \n",
      "Drawing 1000 posterior samples: 1064it [00:00, 17257.91it/s]            \n",
      "Drawing 1000 posterior samples: 1053it [00:00, 17435.22it/s]            \n",
      "Drawing 1000 posterior samples: 1079it [00:00, 14399.93it/s]            \n",
      "Drawing 1000 posterior samples: 1086it [00:00, 13370.71it/s]            \n",
      "Drawing 1000 posterior samples: 1053it [00:00, 15427.24it/s]            \n",
      "Drawing 1000 posterior samples: 1051it [00:00, 13968.43it/s]            \n",
      "Drawing 1000 posterior samples: 1087it [00:00, 14115.07it/s]            \n",
      "Drawing 1000 posterior samples: 1090it [00:00, 16105.46it/s]            \n",
      "Drawing 1000 posterior samples: 1089it [00:00, 11018.95it/s]            \n",
      "Drawing 1000 posterior samples: 1096it [00:00, 14967.17it/s]            \n",
      "Drawing 1000 posterior samples: 1068it [00:00, 13153.19it/s]            \n",
      "Drawing 1000 posterior samples: 1077it [00:00, 17945.81it/s]            \n",
      "Drawing 1000 posterior samples: 1067it [00:00, 14371.39it/s]            \n",
      "Drawing 1000 posterior samples: 1043it [00:00, 16859.59it/s]            \n",
      "Drawing 1000 posterior samples: 1091it [00:00, 16505.09it/s]            \n",
      "Drawing 1000 posterior samples: 1063it [00:00, 13500.15it/s]            \n",
      "Drawing 1000 posterior samples: 1084it [00:00, 13681.14it/s]            \n",
      "Drawing 1000 posterior samples: 1086it [00:00, 15766.75it/s]            \n",
      "Drawing 1000 posterior samples: 1074it [00:00, 16078.50it/s]            \n",
      "Drawing 1000 posterior samples: 1093it [00:00, 18257.38it/s]            \n",
      "Drawing 1000 posterior samples: 1085it [00:00, 21864.02it/s]            \n",
      "Drawing 1000 posterior samples: 1074it [00:00, 20183.44it/s]            \n",
      "Drawing 1000 posterior samples: 1079it [00:00, 20466.59it/s]            \n",
      "Drawing 1000 posterior samples: 1094it [00:00, 18989.04it/s]            \n",
      "Drawing 1000 posterior samples: 1091it [00:00, 15322.80it/s]            \n",
      "Drawing 1000 posterior samples: 1046it [00:00, 13421.44it/s]            \n",
      "Drawing 1000 posterior samples: 1089it [00:00, 15722.25it/s]            \n",
      "Drawing 1000 posterior samples: 1041it [00:00, 1681.51it/s]                         \n",
      "Drawing 1000 posterior samples: 1097it [00:00, 17117.89it/s]            \n",
      "Drawing 1000 posterior samples: 1050it [00:00, 10956.66it/s]            \n",
      "Drawing 1000 posterior samples: 1075it [00:00, 13913.15it/s]            \n",
      "Drawing 1000 posterior samples: 1089it [00:00, 14856.34it/s]            \n",
      "Drawing 1000 posterior samples: 1088it [00:00, 16471.11it/s]            \n",
      "Drawing 1000 posterior samples: 1080it [00:00, 15309.18it/s]            \n",
      "Drawing 1000 posterior samples: 1075it [00:00, 17246.05it/s]            \n",
      "Drawing 1000 posterior samples: 1087it [00:00, 15651.78it/s]            \n",
      "Drawing 1000 posterior samples: 1052it [00:00, 14445.03it/s]            \n",
      "Drawing 1000 posterior samples: 1080it [00:00, 14050.62it/s]            \n",
      "Drawing 1000 posterior samples: 1036it [00:00, 12893.56it/s]            \n",
      "Drawing 1000 posterior samples: 1088it [00:00, 15181.99it/s]            \n",
      "Drawing 1000 posterior samples: 1086it [00:00, 11783.19it/s]            \n",
      "Drawing 1000 posterior samples: 1093it [00:00, 11271.30it/s]            \n",
      "Drawing 1000 posterior samples: 1071it [00:00, 15299.34it/s]            \n",
      "Drawing 1000 posterior samples: 1083it [00:00, 15333.00it/s]            \n",
      "Drawing 1000 posterior samples: 1093it [00:00, 13643.20it/s]            \n",
      "Drawing 1000 posterior samples: 1077it [00:00, 13981.58it/s]            \n",
      "Drawing 1000 posterior samples: 1065it [00:00, 13105.78it/s]            \n",
      "Drawing 1000 posterior samples: 1033it [00:00, 12479.78it/s]            \n",
      "Drawing 1000 posterior samples: 1085it [00:00, 14268.40it/s]            \n",
      "Drawing 1000 posterior samples: 1089it [00:00, 13554.75it/s]            \n",
      "Drawing 1000 posterior samples: 1086it [00:00, 13386.71it/s]            \n",
      "Drawing 1000 posterior samples: 1053it [00:00, 12724.62it/s]            \n",
      "Drawing 1000 posterior samples: 1066it [00:00, 13567.37it/s]            \n",
      "Drawing 1000 posterior samples: 1077it [00:00, 7212.60it/s]                         \n",
      "Drawing 1000 posterior samples: 1066it [00:00, 13779.19it/s]            \n",
      "Drawing 1000 posterior samples: 1072it [00:00, 12953.74it/s]            \n",
      "Drawing 1000 posterior samples: 1085it [00:00, 15964.15it/s]            \n",
      "Drawing 1000 posterior samples: 1069it [00:00, 12849.04it/s]            \n",
      "Drawing 1000 posterior samples: 1084it [00:00, 18373.17it/s]            \n",
      "Drawing 1000 posterior samples: 1045it [00:00, 17713.01it/s]            \n",
      "Drawing 1000 posterior samples: 1093it [00:00, 19716.72it/s]            \n",
      "Drawing 1000 posterior samples: 100%|██████████| 1000/1000 [00:00<00:00, 18786.05it/s]\n",
      "Drawing 1000 posterior samples: 100%|██████████| 1000/1000 [00:00<00:00, 20497.62it/s]\n",
      "Drawing 1000 posterior samples: 100%|██████████| 1000/1000 [00:00<00:00, 18851.57it/s]\n",
      "Drawing 1000 posterior samples: 1098it [00:00, 16072.77it/s]            \n",
      "Drawing 1000 posterior samples: 100%|██████████| 1000/1000 [00:00<00:00, 15455.24it/s]\n",
      "Drawing 1000 posterior samples: 100%|██████████| 1000/1000 [00:00<00:00, 13708.58it/s]\n",
      "Drawing 1000 posterior samples: 100%|██████████| 1000/1000 [00:00<00:00, 16985.39it/s]\n",
      "Drawing 1000 posterior samples: 100%|██████████| 1000/1000 [00:00<00:00, 15792.22it/s]\n",
      "Drawing 1000 posterior samples: 100%|██████████| 1000/1000 [00:00<00:00, 22128.86it/s]\n",
      "Drawing 1000 posterior samples: 100%|██████████| 1000/1000 [00:00<00:00, 10576.75it/s]\n",
      "Drawing 1000 posterior samples: 100%|██████████| 1000/1000 [00:00<00:00, 23652.27it/s]\n",
      "Drawing 1000 posterior samples: 1096it [00:00, 4018.70it/s]                         \n",
      "Drawing 1000 posterior samples: 100%|██████████| 1000/1000 [00:00<00:00, 19302.44it/s]\n",
      "Drawing 1000 posterior samples: 100%|██████████| 1000/1000 [00:00<00:00, 13778.88it/s]\n",
      "Drawing 1000 posterior samples: 100%|██████████| 1000/1000 [00:00<00:00, 15658.51it/s]\n",
      "Drawing 1000 posterior samples: 100%|██████████| 1000/1000 [00:00<00:00, 12932.25it/s]\n",
      "Drawing 1000 posterior samples: 100%|██████████| 1000/1000 [00:00<00:00, 13414.95it/s]\n",
      "Drawing 1000 posterior samples: 100%|██████████| 1000/1000 [00:00<00:00, 14860.77it/s]\n",
      "Drawing 1000 posterior samples: 100%|██████████| 1000/1000 [00:00<00:00, 14619.29it/s]\n",
      "Drawing 1000 posterior samples: 1097it [00:00, 10082.00it/s]            \n",
      "Drawing 1000 posterior samples: 100%|██████████| 1000/1000 [00:00<00:00, 12118.13it/s]\n",
      "Drawing 1000 posterior samples: 1096it [00:00, 15334.08it/s]            \n",
      "Drawing 1000 posterior samples: 100%|██████████| 1000/1000 [00:00<00:00, 3209.87it/s]\n",
      "Drawing 1000 posterior samples: 100%|██████████| 1000/1000 [00:00<00:00, 20087.95it/s]\n",
      "Drawing 1000 posterior samples: 100%|██████████| 1000/1000 [00:00<00:00, 12406.61it/s]\n",
      "Drawing 1000 posterior samples: 1099it [00:00, 17102.08it/s]            \n",
      "Drawing 1000 posterior samples: 1082it [00:00, 5502.30it/s]                         \n",
      "Drawing 1000 posterior samples: 100%|██████████| 1000/1000 [00:00<00:00, 15685.09it/s]\n",
      "Drawing 1000 posterior samples: 100%|██████████| 1000/1000 [00:00<00:00, 19254.06it/s]\n",
      "Drawing 1000 posterior samples: 100%|██████████| 1000/1000 [00:00<00:00, 21522.94it/s]\n",
      "Drawing 1000 posterior samples: 100%|██████████| 1000/1000 [00:00<00:00, 17414.59it/s]\n",
      "Drawing 1000 posterior samples: 100%|██████████| 1000/1000 [00:00<00:00, 17177.45it/s]\n",
      "Drawing 1000 posterior samples: 1096it [00:00, 14047.53it/s]            \n",
      "Drawing 1000 posterior samples: 100%|██████████| 1000/1000 [00:00<00:00, 19913.99it/s]\n",
      "Drawing 1000 posterior samples: 1099it [00:00, 15582.93it/s]            \n",
      "Drawing 1000 posterior samples: 100%|██████████| 1000/1000 [00:00<00:00, 15357.68it/s]\n",
      "Drawing 1000 posterior samples: 100%|██████████| 1000/1000 [00:00<00:00, 14384.35it/s]\n",
      "Drawing 1000 posterior samples: 100%|██████████| 1000/1000 [00:00<00:00, 14306.58it/s]\n",
      "Drawing 1000 posterior samples: 100%|██████████| 1000/1000 [00:00<00:00, 16216.89it/s]\n",
      "Drawing 1000 posterior samples: 100%|██████████| 1000/1000 [00:00<00:00, 16363.67it/s]\n",
      "Drawing 1000 posterior samples: 100%|██████████| 1000/1000 [00:00<00:00, 19934.90it/s]\n",
      "Drawing 1000 posterior samples: 100%|██████████| 1000/1000 [00:00<00:00, 19146.04it/s]\n",
      "Drawing 1000 posterior samples: 100%|██████████| 1000/1000 [00:00<00:00, 19824.38it/s]\n",
      "Drawing 1000 posterior samples: 100%|██████████| 1000/1000 [00:00<00:00, 12887.75it/s]\n",
      "Drawing 1000 posterior samples: 100%|██████████| 1000/1000 [00:00<00:00, 15274.57it/s]\n",
      "Drawing 1000 posterior samples: 1099it [00:00, 13843.92it/s]            \n",
      "Drawing 1000 posterior samples: 100%|██████████| 1000/1000 [00:00<00:00, 5016.84it/s]\n",
      "Drawing 1000 posterior samples: 100%|██████████| 1000/1000 [00:00<00:00, 11346.87it/s]\n",
      "Drawing 1000 posterior samples: 100%|██████████| 1000/1000 [00:00<00:00, 14403.42it/s]\n",
      "Drawing 1000 posterior samples: 1062it [00:00, 12645.42it/s]            \n",
      "Drawing 1000 posterior samples: 100%|██████████| 1000/1000 [00:00<00:00, 14279.79it/s]\n",
      "Drawing 1000 posterior samples: 100%|██████████| 1000/1000 [00:00<00:00, 11524.17it/s]\n",
      "Drawing 1000 posterior samples: 100%|██████████| 1000/1000 [00:00<00:00, 15486.85it/s]\n",
      "Drawing 1000 posterior samples: 100%|██████████| 1000/1000 [00:00<00:00, 11757.25it/s]\n",
      "Drawing 1000 posterior samples: 100%|██████████| 1000/1000 [00:00<00:00, 14167.07it/s]\n",
      "Drawing 1000 posterior samples: 100%|██████████| 1000/1000 [00:00<00:00, 20313.27it/s]\n",
      "Drawing 1000 posterior samples: 100%|██████████| 1000/1000 [00:00<00:00, 4988.55it/s]\n",
      "Drawing 1000 posterior samples: 1099it [00:00, 14967.21it/s]            \n",
      "Drawing 1000 posterior samples: 100%|██████████| 1000/1000 [00:00<00:00, 12972.17it/s]\n",
      "Drawing 1000 posterior samples: 100%|██████████| 1000/1000 [00:00<00:00, 5797.01it/s]\n",
      "Drawing 1000 posterior samples: 100%|██████████| 1000/1000 [00:00<00:00, 12870.03it/s]\n"
     ]
    }
   ],
   "source": [
    "\n",
    "percentage_list = []\n",
    "for _ in range(100):\n",
    "    total_theta_correct = 0\n",
    "    total_x_correct = 0\n",
    "    true_params = prior.sample()\n",
    "    for _ in range(100):  \n",
    "        x_0 = simulate_simple(true_params)      \n",
    "        posterior = inference.build_posterior().set_default_x(x_0) \n",
    "        samples = posterior.sample((1000,), x=x_0)\n",
    "        la, ua = np.percentile(samples.numpy(), [5, 95], axis=0)[:, 0]\n",
    "        lb, ub = np.percentile(samples.numpy(), [5, 95], axis=0)[:, 1]\n",
    "        if la < true_params[0] < ua:\n",
    "            total_theta_correct += 1\n",
    "        if lb < true_params[1] < ub:    \n",
    "            total_x_correct += 1\n",
    "    percentage_list.append((total_theta_correct/100, total_x_correct/100))\n"
   ]
  },
  {
   "cell_type": "code",
   "execution_count": 64,
   "metadata": {},
   "outputs": [
    {
     "name": "stderr",
     "output_type": "stream",
     "text": [
      "/var/folders/17/2brgtwwj25d0g2886hjmjkyc0000gn/T/ipykernel_20118/4193104716.py:1: RuntimeWarning: Mean of empty slice.\n",
      "  np.array(percentage_list).mean(axis=0)\n",
      "/Library/Frameworks/Python.framework/Versions/3.10/lib/python3.10/site-packages/numpy/core/_methods.py:189: RuntimeWarning: invalid value encountered in double_scalars\n",
      "  ret = ret.dtype.type(ret / rcount)\n"
     ]
    },
    {
     "data": {
      "text/plain": [
       "nan"
      ]
     },
     "execution_count": 64,
     "metadata": {},
     "output_type": "execute_result"
    }
   ],
   "source": [
    "np.array(percentage_list).mean(axis=0)"
   ]
  },
  {
   "cell_type": "code",
   "execution_count": 43,
   "metadata": {},
   "outputs": [
    {
     "data": {
      "text/plain": [
       "array([[0.33957488, 0.84722128],\n",
       "       [0.45197154, 1.10686787]])"
      ]
     },
     "execution_count": 43,
     "metadata": {},
     "output_type": "execute_result"
    }
   ],
   "source": [
    "np.percentile(samples.numpy(), [5, 95], axis=0)\n"
   ]
  },
  {
   "cell_type": "code",
   "execution_count": 47,
   "metadata": {},
   "outputs": [
    {
     "data": {
      "text/plain": [
       "array([0.39232865, 0.9738209 ], dtype=float32)"
      ]
     },
     "execution_count": 47,
     "metadata": {},
     "output_type": "execute_result"
    }
   ],
   "source": [
    "np.median(samples.numpy(), axis=0)"
   ]
  },
  {
   "cell_type": "code",
   "execution_count": 48,
   "metadata": {},
   "outputs": [
    {
     "data": {
      "image/png": "[encoded data removed]",
      "text/plain": [
       "<Figure size 360x360 with 4 Axes>"
      ]
     },
     "metadata": {
      "needs_background": "light"
     },
     "output_type": "display_data"
    }
   ],
   "source": [
    "fig, axes = analysis.pairplot(\n",
    "    samples,\n",
    "    limits=[[0.1, 1], [0.1, 2]],\n",
    "    ticks=[[0.1, 1], [0.1, 2]],\n",
    "    figsize=(5, 5),\n",
    "    points=true_params,\n",
    "    points_offdiag={\"markersize\": 6},\n",
    "    points_colors=\"r\",\n",
    ")"
   ]
  },
  {
   "cell_type": "code",
   "execution_count": 50,
   "metadata": {},
   "outputs": [
    {
     "data": {
      "text/plain": [
       "array([0.33957488, 0.84722128])"
      ]
     },
     "execution_count": 50,
     "metadata": {},
     "output_type": "execute_result"
    }
   ],
   "source": [
    "np.percentile(samples.numpy(), [5, 95], axis=0)[:, 0]"
   ]
  },
  {
   "cell_type": "code",
   "execution_count": null,
   "metadata": {},
   "outputs": [],
   "source": []
  }
 ],
 "metadata": {
  "kernelspec": {
   "display_name": "Python 3",
   "language": "python",
   "name": "python3"
  },
  "language_info": {
   "codemirror_mode": {
    "name": "ipython",
    "version": 3
   },
   "file_extension": ".py",
   "mimetype": "text/x-python",
   "name": "python",
   "nbconvert_exporter": "python",
   "pygments_lexer": "ipython3",
   "version": "3.10.1"
  }
 },
 "nbformat": 4,
 "nbformat_minor": 2
}
