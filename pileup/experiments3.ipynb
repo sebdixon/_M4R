{
 "cells": [
  {
   "cell_type": "code",
   "execution_count": 1,
   "metadata": {},
   "outputs": [
    {
     "name": "stderr",
     "output_type": "stream",
     "text": [
      "/Library/Frameworks/Python.framework/Versions/3.10/lib/python3.10/site-packages/tqdm/auto.py:21: TqdmWarning: IProgress not found. Please update jupyter and ipywidgets. See https://ipywidgets.readthedocs.io/en/stable/user_install.html\n",
      "  from .autonotebook import tqdm as notebook_tqdm\n",
      "2024-03-14 10:19:08.792418: I tensorflow/core/platform/cpu_feature_guard.cc:193] This TensorFlow binary is optimized with oneAPI Deep Neural Network Library (oneDNN) to use the following CPU instructions in performance-critical operations:  AVX2 AVX512F AVX512_VNNI FMA\n",
      "To enable them in other operations, rebuild TensorFlow with the appropriate compiler flags.\n"
     ]
    }
   ],
   "source": [
    "import numpy as np\n",
    "import torch\n",
    "from sbi import utils as utils\n",
    "from sbi import analysis as analysis\n",
    "from utils.data_formats import timeseries_to_channels\n",
    "from simulators import Simulator\n",
    "from spectralcomponents import PowerLaw, GaussianEmissionLine, Spectrum\n",
    "from sbi.inference import SNRE_B, SNLE, prepare_for_sbi, simulate_for_sbi\n",
    "from sbi.neural_nets.embedding_nets import FCEmbedding, CNNEmbedding, PermutationInvariantEmbedding\n",
    "from sbi_tools import BoxUniform\n",
    "from sbi.inference import SNPE\n",
    "from sbi.utils import posterior_nn\n",
    "\n",
    "\n",
    "\n",
    "c1 = PowerLaw()\n",
    "spectrum = Spectrum(c1)\n",
    "\n",
    "prior = BoxUniform(low=torch.tensor([0.1, 0.1]), high=torch.tensor([1, 2]))\n",
    "def simulate_simple(params):\n",
    "    simulator =  Simulator(spectrum, 1000, pileup='channels')\n",
    "    data = simulator(params)\n",
    "    return np.histogram(data[data>0], bins=50)[0]"
   ]
  },
  {
   "cell_type": "code",
   "execution_count": 17,
   "metadata": {},
   "outputs": [
    {
     "data": {
      "text/plain": [
       "array([15, 36, 42, 39, 37, 44, 26, 32, 28, 25, 31, 25, 28, 20, 25, 15, 23,\n",
       "       21, 17, 23, 13, 16,  8, 19, 10, 15, 11, 13,  7,  7,  8,  9,  5,  6,\n",
       "        8,  5,  3,  4,  9,  7,  7,  6,  1,  2,  4,  2,  5,  2,  1,  1])"
      ]
     },
     "execution_count": 17,
     "metadata": {},
     "output_type": "execute_result"
    }
   ],
   "source": [
    "true_params = (0.3, 1)\n",
    "x0 = simulate_simple(true_params)\n",
    "x0"
   ]
  },
  {
   "cell_type": "code",
   "execution_count": 18,
   "metadata": {},
   "outputs": [
    {
     "name": "stderr",
     "output_type": "stream",
     "text": [
      "Running 1000 simulations.: 100%|██████████| 1000/1000 [00:38<00:00, 25.74it/s]\n"
     ]
    },
    {
     "name": "stdout",
     "output_type": "stream",
     "text": [
      " Neural network successfully converged after 71 epochs."
     ]
    },
    {
     "name": "stderr",
     "output_type": "stream",
     "text": [
      "Drawing 1000 posterior samples: 1157it [00:00, 107950.57it/s]           \n",
      "Running 1000 simulations.: 100%|██████████| 1000/1000 [00:47<00:00, 21.20it/s]\n"
     ]
    },
    {
     "name": "stdout",
     "output_type": "stream",
     "text": [
      "Using SNPE-C with atomic loss\n",
      " Neural network successfully converged after 63 epochs."
     ]
    },
    {
     "name": "stderr",
     "output_type": "stream",
     "text": [
      "Drawing 10000 posterior samples: 10447it [00:00, 71837.79it/s]                          \n"
     ]
    },
    {
     "data": {
      "image/png": "[encoded data removed]",
      "text/plain": [
       "<Figure size 360x360 with 4 Axes>"
      ]
     },
     "metadata": {
      "needs_background": "light"
     },
     "output_type": "display_data"
    }
   ],
   "source": [
    "\n",
    "simulator, prior = prepare_for_sbi(simulate_simple, prior)\n",
    "embedding_net = FCEmbedding(input_dim=50, output_dim=10)\n",
    "neural_posterior = posterior_nn(\n",
    "    model=\"maf\", \n",
    "    embedding_net=embedding_net, \n",
    "    hidden_features=10, \n",
    "    num_transforms=2\n",
    ")\n",
    "\n",
    "rounds = 2\n",
    "num_sims = 1000\n",
    "x_0 = simulate_simple(true_params)\n",
    "\n",
    "inference = SNPE(\n",
    "    prior=prior, \n",
    "    density_estimator=neural_posterior\n",
    ")\n",
    "\n",
    "proposal = prior\n",
    "for _ in range(rounds):\n",
    "    theta, x = simulate_for_sbi(simulator, proposal, num_sims)\n",
    "    _ = inference.append_simulations(theta, x, proposal=proposal).train()\n",
    "    posterior = inference.build_posterior().set_default_x(x_0)\n",
    "    proposal = posterior\n",
    "\n",
    "samples = posterior.sample((10000,), x=x_0)\n",
    "fig, axes = analysis.pairplot(\n",
    "    samples,\n",
    "    limits=[[0.1, 1], [0.1, 2]],\n",
    "    ticks=[[0.1, 1], [0.1, 2]],\n",
    "    figsize=(5, 5),\n",
    "    points=true_params,\n",
    "    points_offdiag={\"markersize\": 6},\n",
    "    points_colors=\"r\",\n",
    ")"
   ]
  },
  {
   "cell_type": "code",
   "execution_count": 19,
   "metadata": {},
   "outputs": [
    {
     "name": "stderr",
     "output_type": "stream",
     "text": [
      "Running 1000 simulations.: 100%|██████████| 1000/1000 [00:53<00:00, 18.57it/s]\n"
     ]
    },
    {
     "name": "stdout",
     "output_type": "stream",
     "text": [
      " Neural network successfully converged after 162 epochs."
     ]
    },
    {
     "name": "stderr",
     "output_type": "stream",
     "text": [
      "Drawing 1000 posterior samples: 100%|██████████| 1000/1000 [00:00<00:00, 154874.23it/s]\n",
      "Running 1000 simulations.: 100%|██████████| 1000/1000 [00:43<00:00, 22.76it/s]\n"
     ]
    },
    {
     "name": "stdout",
     "output_type": "stream",
     "text": [
      "Using SNPE-C with atomic loss\n",
      " Neural network successfully converged after 73 epochs."
     ]
    },
    {
     "name": "stderr",
     "output_type": "stream",
     "text": [
      "Drawing 1000 posterior samples: 100%|██████████| 1000/1000 [00:00<00:00, 27633.56it/s]\n",
      "Running 1000 simulations.: 100%|██████████| 1000/1000 [00:44<00:00, 22.38it/s]\n"
     ]
    },
    {
     "name": "stdout",
     "output_type": "stream",
     "text": [
      "Using SNPE-C with atomic loss\n",
      " Neural network successfully converged after 21 epochs."
     ]
    },
    {
     "name": "stderr",
     "output_type": "stream",
     "text": [
      "Drawing 1000 posterior samples: 100%|██████████| 1000/1000 [00:00<00:00, 184373.12it/s]\n",
      "Running 1000 simulations.: 100%|██████████| 1000/1000 [01:00<00:00, 16.49it/s]\n"
     ]
    },
    {
     "name": "stdout",
     "output_type": "stream",
     "text": [
      "Using SNPE-C with atomic loss\n",
      " Neural network successfully converged after 49 epochs."
     ]
    },
    {
     "name": "stderr",
     "output_type": "stream",
     "text": [
      "Drawing 1000 posterior samples: 100%|██████████| 1000/1000 [00:00<00:00, 17838.69it/s]\n",
      "Running 1000 simulations.: 100%|██████████| 1000/1000 [01:50<00:00,  9.03it/s]\n"
     ]
    },
    {
     "name": "stdout",
     "output_type": "stream",
     "text": [
      "Using SNPE-C with atomic loss\n",
      " Neural network successfully converged after 21 epochs."
     ]
    },
    {
     "name": "stderr",
     "output_type": "stream",
     "text": [
      "Drawing 1000 posterior samples: 100%|██████████| 1000/1000 [00:00<00:00, 137414.54it/s]\n",
      "Running 1000 simulations.: 100%|██████████| 1000/1000 [00:42<00:00, 23.80it/s]\n"
     ]
    },
    {
     "name": "stdout",
     "output_type": "stream",
     "text": [
      "Using SNPE-C with atomic loss\n",
      " Neural network successfully converged after 28 epochs."
     ]
    },
    {
     "name": "stderr",
     "output_type": "stream",
     "text": [
      "Drawing 1000 posterior samples: 100%|██████████| 1000/1000 [00:00<00:00, 138179.61it/s]\n",
      "Running 1000 simulations.: 100%|██████████| 1000/1000 [00:41<00:00, 23.97it/s]\n"
     ]
    },
    {
     "name": "stdout",
     "output_type": "stream",
     "text": [
      "Using SNPE-C with atomic loss\n",
      " Neural network successfully converged after 38 epochs."
     ]
    },
    {
     "name": "stderr",
     "output_type": "stream",
     "text": [
      "Drawing 1000 posterior samples: 100%|██████████| 1000/1000 [00:00<00:00, 144966.09it/s]\n",
      "Running 1000 simulations.: 100%|██████████| 1000/1000 [00:42<00:00, 23.71it/s]\n"
     ]
    },
    {
     "name": "stdout",
     "output_type": "stream",
     "text": [
      "Using SNPE-C with atomic loss\n",
      " Neural network successfully converged after 32 epochs."
     ]
    },
    {
     "name": "stderr",
     "output_type": "stream",
     "text": [
      "Drawing 1000 posterior samples: 100%|██████████| 1000/1000 [00:00<00:00, 110446.18it/s]\n",
      "Running 1000 simulations.: 100%|██████████| 1000/1000 [00:40<00:00, 24.55it/s]\n"
     ]
    },
    {
     "name": "stdout",
     "output_type": "stream",
     "text": [
      "Using SNPE-C with atomic loss\n",
      " Neural network successfully converged after 23 epochs."
     ]
    },
    {
     "name": "stderr",
     "output_type": "stream",
     "text": [
      "Drawing 1000 posterior samples: 100%|██████████| 1000/1000 [00:00<00:00, 189530.23it/s]\n",
      "Running 1000 simulations.: 100%|██████████| 1000/1000 [00:42<00:00, 23.33it/s]\n"
     ]
    },
    {
     "name": "stdout",
     "output_type": "stream",
     "text": [
      "Using SNPE-C with atomic loss\n",
      " Neural network successfully converged after 27 epochs."
     ]
    },
    {
     "name": "stderr",
     "output_type": "stream",
     "text": [
      "Drawing 10000 posterior samples: 100%|██████████| 10000/10000 [00:00<00:00, 225723.51it/s]\n"
     ]
    },
    {
     "data": {
      "image/png": "[encoded data removed]",
      "text/plain": [
       "<Figure size 360x360 with 4 Axes>"
      ]
     },
     "metadata": {
      "needs_background": "light"
     },
     "output_type": "display_data"
    }
   ],
   "source": [
    "true_params = (0.4, 1)\n",
    "x0 = simulate_simple(true_params)\n",
    "\n",
    "simulator, prior = prepare_for_sbi(simulate_simple, prior)\n",
    "embedding_net = FCEmbedding(input_dim=50, output_dim=10)\n",
    "neural_posterior = posterior_nn(\n",
    "model=\"maf\", embedding_net=embedding_net, hidden_features=10, num_transforms=2)\n",
    "\n",
    "rounds = 10\n",
    "num_sims = 1000\n",
    "x_0 = simulate_simple(true_params)\n",
    "\n",
    "inference = SNPE(prior=prior, density_estimator=neural_posterior)\n",
    "proposal = prior\n",
    "for _ in range(rounds):\n",
    "    theta, x = simulate_for_sbi(simulator, proposal, num_sims)\n",
    "    _ = inference.append_simulations(theta, x, proposal=proposal).train()\n",
    "    posterior = inference.build_posterior().set_default_x(x_0)\n",
    "    proposal = posterior\n",
    "\n",
    "samples = posterior.sample((10000,), x=x_0)\n",
    "fig, axes = analysis.pairplot(\n",
    "    samples,\n",
    "    limits=[[0.1, 1], [0.1, 2]],\n",
    "    ticks=[[0.1, 1], [0.1, 2]],\n",
    "    figsize=(5, 5),\n",
    "    points=true_params,\n",
    "    points_offdiag={\"markersize\": 6},\n",
    "    points_colors=\"r\",\n",
    ")"
   ]
  },
  {
   "cell_type": "code",
   "execution_count": 20,
   "metadata": {},
   "outputs": [
    {
     "name": "stderr",
     "output_type": "stream",
     "text": [
      "Running 1000 simulations.: 100%|██████████| 1000/1000 [00:46<00:00, 21.58it/s]\n"
     ]
    },
    {
     "name": "stdout",
     "output_type": "stream",
     "text": [
      " Neural network successfully converged after 89 epochs."
     ]
    },
    {
     "name": "stderr",
     "output_type": "stream",
     "text": [
      "Drawing 1000 posterior samples: 1080it [00:00, 122325.84it/s]           \n",
      "Running 1000 simulations.: 100%|██████████| 1000/1000 [00:37<00:00, 26.51it/s]\n"
     ]
    },
    {
     "name": "stdout",
     "output_type": "stream",
     "text": [
      "Using SNPE-C with atomic loss\n",
      " Neural network successfully converged after 57 epochs."
     ]
    },
    {
     "name": "stderr",
     "output_type": "stream",
     "text": [
      "Drawing 1000 posterior samples: 1134it [00:00, 116645.59it/s]           \n",
      "Running 1000 simulations.: 100%|██████████| 1000/1000 [00:37<00:00, 26.99it/s]\n"
     ]
    },
    {
     "name": "stdout",
     "output_type": "stream",
     "text": [
      "Using SNPE-C with atomic loss\n",
      " Neural network successfully converged after 55 epochs."
     ]
    },
    {
     "name": "stderr",
     "output_type": "stream",
     "text": [
      "Drawing 1000 posterior samples: 1250it [00:00, 120379.31it/s]           \n",
      "Running 1000 simulations.: 100%|██████████| 1000/1000 [00:37<00:00, 26.69it/s]\n"
     ]
    },
    {
     "name": "stdout",
     "output_type": "stream",
     "text": [
      "Using SNPE-C with atomic loss\n",
      " Neural network successfully converged after 35 epochs."
     ]
    },
    {
     "name": "stderr",
     "output_type": "stream",
     "text": [
      "Drawing 1000 posterior samples: 1208it [00:00, 104092.85it/s]           \n",
      "Running 1000 simulations.: 100%|██████████| 1000/1000 [00:36<00:00, 27.13it/s]\n"
     ]
    },
    {
     "name": "stdout",
     "output_type": "stream",
     "text": [
      "Using SNPE-C with atomic loss\n",
      " Neural network successfully converged after 41 epochs."
     ]
    },
    {
     "name": "stderr",
     "output_type": "stream",
     "text": [
      "Drawing 1000 posterior samples: 1121it [00:00, 112370.70it/s]           \n",
      "Running 1000 simulations.: 100%|██████████| 1000/1000 [00:42<00:00, 23.80it/s]\n"
     ]
    },
    {
     "name": "stdout",
     "output_type": "stream",
     "text": [
      "Using SNPE-C with atomic loss\n",
      " Neural network successfully converged after 42 epochs."
     ]
    },
    {
     "name": "stderr",
     "output_type": "stream",
     "text": [
      "Drawing 1000 posterior samples: 1098it [00:00, 120068.46it/s]           \n",
      "Running 1000 simulations.: 100%|██████████| 1000/1000 [01:12<00:00, 13.85it/s]\n"
     ]
    },
    {
     "name": "stdout",
     "output_type": "stream",
     "text": [
      "Using SNPE-C with atomic loss\n",
      " Neural network successfully converged after 76 epochs."
     ]
    },
    {
     "name": "stderr",
     "output_type": "stream",
     "text": [
      "Drawing 1000 posterior samples: 1067it [00:00, 22543.43it/s]            \n",
      "Running 1000 simulations.: 100%|██████████| 1000/1000 [00:57<00:00, 17.30it/s]\n"
     ]
    },
    {
     "name": "stdout",
     "output_type": "stream",
     "text": [
      "Using SNPE-C with atomic loss\n",
      " Neural network successfully converged after 28 epochs."
     ]
    },
    {
     "name": "stderr",
     "output_type": "stream",
     "text": [
      "Drawing 1000 posterior samples: 1086it [00:00, 138361.96it/s]           \n",
      "Running 1000 simulations.: 100%|██████████| 1000/1000 [00:41<00:00, 23.88it/s]\n"
     ]
    },
    {
     "name": "stdout",
     "output_type": "stream",
     "text": [
      "Using SNPE-C with atomic loss\n",
      " Neural network successfully converged after 29 epochs."
     ]
    },
    {
     "name": "stderr",
     "output_type": "stream",
     "text": [
      "Drawing 1000 posterior samples: 1106it [00:00, 127201.19it/s]           \n",
      "Running 1000 simulations.: 100%|██████████| 1000/1000 [00:46<00:00, 21.50it/s]\n"
     ]
    },
    {
     "name": "stdout",
     "output_type": "stream",
     "text": [
      "Using SNPE-C with atomic loss\n",
      " Neural network successfully converged after 21 epochs."
     ]
    },
    {
     "name": "stderr",
     "output_type": "stream",
     "text": [
      "Drawing 10000 posterior samples: 10957it [00:00, 130256.19it/s]           \n"
     ]
    },
    {
     "data": {
      "image/png": "[encoded data removed]",
      "text/plain": [
       "<Figure size 360x360 with 4 Axes>"
      ]
     },
     "metadata": {
      "needs_background": "light"
     },
     "output_type": "display_data"
    }
   ],
   "source": [
    "true_params = (0.7, 1)\n",
    "x0 = simulate_simple(true_params)\n",
    "\n",
    "simulator, prior = prepare_for_sbi(simulate_simple, prior)\n",
    "embedding_net = FCEmbedding(input_dim=50, output_dim=10)\n",
    "neural_posterior = posterior_nn(\n",
    "model=\"maf\", embedding_net=embedding_net, hidden_features=10, num_transforms=2)\n",
    "\n",
    "rounds = 10\n",
    "num_sims = 1000\n",
    "x_0 = simulate_simple(true_params)\n",
    "\n",
    "inference = SNPE(prior=prior, density_estimator=neural_posterior)\n",
    "proposal = prior\n",
    "for _ in range(rounds):\n",
    "    theta, x = simulate_for_sbi(simulator, proposal, num_sims)\n",
    "    _ = inference.append_simulations(theta, x, proposal=proposal).train()\n",
    "    posterior = inference.build_posterior().set_default_x(x_0)\n",
    "    proposal = posterior\n",
    "\n",
    "samples = posterior.sample((10000,), x=x_0)\n",
    "fig, axes = analysis.pairplot(\n",
    "    samples,\n",
    "    limits=[[0.1, 1], [0.1, 2]],\n",
    "    ticks=[[0.1, 1], [0.1, 2]],\n",
    "    figsize=(5, 5),\n",
    "    points=true_params,\n",
    "    points_offdiag={\"markersize\": 6},\n",
    "    points_colors=\"r\",\n",
    ")"
   ]
  },
  {
   "cell_type": "code",
   "execution_count": 21,
   "metadata": {},
   "outputs": [
    {
     "name": "stderr",
     "output_type": "stream",
     "text": [
      "Running 1000 simulations.: 100%|██████████| 1000/1000 [00:46<00:00, 21.67it/s]\n"
     ]
    },
    {
     "name": "stdout",
     "output_type": "stream",
     "text": [
      " Neural network successfully converged after 118 epochs."
     ]
    },
    {
     "name": "stderr",
     "output_type": "stream",
     "text": [
      "Drawing 1000 posterior samples: 1096it [00:00, 107250.18it/s]           \n",
      "Running 1000 simulations.: 100%|██████████| 1000/1000 [00:43<00:00, 23.00it/s]\n"
     ]
    },
    {
     "name": "stdout",
     "output_type": "stream",
     "text": [
      "Using SNPE-C with atomic loss\n",
      " Neural network successfully converged after 87 epochs."
     ]
    },
    {
     "name": "stderr",
     "output_type": "stream",
     "text": [
      "Drawing 1000 posterior samples: 1158it [00:00, 121270.48it/s]           \n",
      "Running 1000 simulations.: 100%|██████████| 1000/1000 [00:41<00:00, 24.28it/s]\n"
     ]
    },
    {
     "name": "stdout",
     "output_type": "stream",
     "text": [
      "Using SNPE-C with atomic loss\n",
      " Neural network successfully converged after 45 epochs."
     ]
    },
    {
     "name": "stderr",
     "output_type": "stream",
     "text": [
      "Drawing 1000 posterior samples: 1265it [00:00, 108957.50it/s]           \n",
      "Running 1000 simulations.: 100%|██████████| 1000/1000 [00:42<00:00, 23.55it/s]\n"
     ]
    },
    {
     "name": "stdout",
     "output_type": "stream",
     "text": [
      "Using SNPE-C with atomic loss\n",
      " Neural network successfully converged after 33 epochs."
     ]
    },
    {
     "name": "stderr",
     "output_type": "stream",
     "text": [
      "Drawing 1000 posterior samples: 1267it [00:00, 104062.96it/s]           \n",
      "Running 1000 simulations.: 100%|██████████| 1000/1000 [00:42<00:00, 23.53it/s]\n"
     ]
    },
    {
     "name": "stdout",
     "output_type": "stream",
     "text": [
      "Using SNPE-C with atomic loss\n",
      " Neural network successfully converged after 32 epochs."
     ]
    },
    {
     "name": "stderr",
     "output_type": "stream",
     "text": [
      "Drawing 1000 posterior samples: 1261it [00:00, 38347.89it/s]            \n",
      "Running 1000 simulations.: 100%|██████████| 1000/1000 [00:43<00:00, 23.26it/s]\n"
     ]
    },
    {
     "name": "stdout",
     "output_type": "stream",
     "text": [
      "Using SNPE-C with atomic loss\n",
      " Neural network successfully converged after 52 epochs."
     ]
    },
    {
     "name": "stderr",
     "output_type": "stream",
     "text": [
      "Drawing 1000 posterior samples: 1225it [00:00, 31880.11it/s]            \n",
      "Running 1000 simulations.: 100%|██████████| 1000/1000 [00:42<00:00, 23.62it/s]\n"
     ]
    },
    {
     "name": "stdout",
     "output_type": "stream",
     "text": [
      "Using SNPE-C with atomic loss\n",
      " Neural network successfully converged after 32 epochs."
     ]
    },
    {
     "name": "stderr",
     "output_type": "stream",
     "text": [
      "Drawing 1000 posterior samples: 1292it [00:00, 45419.08it/s]            \n",
      "Running 1000 simulations.: 100%|██████████| 1000/1000 [00:43<00:00, 22.94it/s]\n"
     ]
    },
    {
     "name": "stdout",
     "output_type": "stream",
     "text": [
      "Using SNPE-C with atomic loss\n",
      " Neural network successfully converged after 29 epochs."
     ]
    },
    {
     "name": "stderr",
     "output_type": "stream",
     "text": [
      "Drawing 1000 posterior samples: 1383it [00:00, 35046.51it/s]            \n",
      "Running 1000 simulations.: 100%|██████████| 1000/1000 [00:40<00:00, 24.58it/s]\n"
     ]
    },
    {
     "name": "stdout",
     "output_type": "stream",
     "text": [
      "Using SNPE-C with atomic loss\n",
      " Neural network successfully converged after 103 epochs."
     ]
    },
    {
     "name": "stderr",
     "output_type": "stream",
     "text": [
      "Drawing 1000 posterior samples: 1092it [00:00, 11164.72it/s]            \n",
      "Running 1000 simulations.: 100%|██████████| 1000/1000 [00:42<00:00, 23.72it/s]\n"
     ]
    },
    {
     "name": "stdout",
     "output_type": "stream",
     "text": [
      "Using SNPE-C with atomic loss\n",
      " Neural network successfully converged after 21 epochs."
     ]
    },
    {
     "name": "stderr",
     "output_type": "stream",
     "text": [
      "Drawing 10000 posterior samples: 10032it [00:00, 15691.87it/s]                          \n"
     ]
    },
    {
     "data": {
      "image/png": "[encoded data removed]",
      "text/plain": [
       "<Figure size 360x360 with 4 Axes>"
      ]
     },
     "metadata": {
      "needs_background": "light"
     },
     "output_type": "display_data"
    }
   ],
   "source": [
    "true_params = (0.9, 1)\n",
    "x0 = simulate_simple(true_params)\n",
    "\n",
    "simulator, prior = prepare_for_sbi(simulate_simple, prior)\n",
    "embedding_net = FCEmbedding(input_dim=50, output_dim=10)\n",
    "neural_posterior = posterior_nn(\n",
    "model=\"maf\", embedding_net=embedding_net, hidden_features=10, num_transforms=2)\n",
    "\n",
    "rounds = 10\n",
    "num_sims = 1000\n",
    "x_0 = simulate_simple(true_params)\n",
    "\n",
    "inference = SNPE(prior=prior, density_estimator=neural_posterior)\n",
    "proposal = prior\n",
    "for _ in range(rounds):\n",
    "    theta, x = simulate_for_sbi(simulator, proposal, num_sims)\n",
    "    _ = inference.append_simulations(theta, x, proposal=proposal).train()\n",
    "    posterior = inference.build_posterior().set_default_x(x_0)\n",
    "    proposal = posterior\n",
    "\n",
    "samples = posterior.sample((10000,), x=x_0)\n",
    "fig, axes = analysis.pairplot(\n",
    "    samples,\n",
    "    limits=[[0.1, 1], [0.1, 2]],\n",
    "    ticks=[[0.1, 1], [0.1, 2]],\n",
    "    figsize=(5, 5),\n",
    "    points=true_params,\n",
    "    points_offdiag={\"markersize\": 6},\n",
    "    points_colors=\"r\",\n",
    ")"
   ]
  },
  {
   "cell_type": "markdown",
   "metadata": {},
   "source": [
    "### Now we try basic 10-bin histogram summary statistic with no embedding net\n"
   ]
  },
  {
   "cell_type": "code",
   "execution_count": 41,
   "metadata": {},
   "outputs": [],
   "source": [
    "def simulate_simple(params):\n",
    "    simulator =  Simulator(spectrum, 1000, pileup='channels')\n",
    "    data = simulator(params)\n",
    "    return np.histogram(data[data>0], bins=10)[0]"
   ]
  },
  {
   "cell_type": "code",
   "execution_count": 43,
   "metadata": {},
   "outputs": [
    {
     "name": "stderr",
     "output_type": "stream",
     "text": [
      "Running 1000 simulations.: 100%|██████████| 1000/1000 [00:45<00:00, 21.86it/s]\n"
     ]
    },
    {
     "name": "stdout",
     "output_type": "stream",
     "text": [
      " Neural network successfully converged after 202 epochs."
     ]
    },
    {
     "name": "stderr",
     "output_type": "stream",
     "text": [
      "Drawing 1000 posterior samples: 100%|██████████| 1000/1000 [00:00<00:00, 21306.13it/s]\n",
      "Running 1000 simulations.: 100%|██████████| 1000/1000 [00:50<00:00, 19.94it/s]\n"
     ]
    },
    {
     "name": "stdout",
     "output_type": "stream",
     "text": [
      "Using SNPE-C with atomic loss\n",
      " Neural network successfully converged after 69 epochs."
     ]
    },
    {
     "name": "stderr",
     "output_type": "stream",
     "text": [
      "Drawing 1000 posterior samples: 1078it [00:00, 15549.20it/s]            \n",
      "Running 1000 simulations.: 100%|██████████| 1000/1000 [00:39<00:00, 25.57it/s]\n"
     ]
    },
    {
     "name": "stdout",
     "output_type": "stream",
     "text": [
      "Using SNPE-C with atomic loss\n",
      " Neural network successfully converged after 24 epochs."
     ]
    },
    {
     "name": "stderr",
     "output_type": "stream",
     "text": [
      "Drawing 1000 posterior samples: 1087it [00:00, 22111.79it/s]            \n",
      "Running 1000 simulations.: 100%|██████████| 1000/1000 [00:44<00:00, 22.56it/s]\n"
     ]
    },
    {
     "name": "stdout",
     "output_type": "stream",
     "text": [
      "Using SNPE-C with atomic loss\n",
      " Neural network successfully converged after 31 epochs."
     ]
    },
    {
     "name": "stderr",
     "output_type": "stream",
     "text": [
      "Drawing 1000 posterior samples: 1078it [00:00, 17861.29it/s]            \n",
      "Running 1000 simulations.: 100%|██████████| 1000/1000 [00:42<00:00, 23.55it/s]\n"
     ]
    },
    {
     "name": "stdout",
     "output_type": "stream",
     "text": [
      "Using SNPE-C with atomic loss\n",
      " Neural network successfully converged after 48 epochs."
     ]
    },
    {
     "name": "stderr",
     "output_type": "stream",
     "text": [
      "Drawing 1000 posterior samples: 1078it [00:00, 18475.00it/s]            \n",
      "Running 1000 simulations.: 100%|██████████| 1000/1000 [00:39<00:00, 25.08it/s]\n"
     ]
    },
    {
     "name": "stdout",
     "output_type": "stream",
     "text": [
      "Using SNPE-C with atomic loss\n",
      " Neural network successfully converged after 41 epochs."
     ]
    },
    {
     "name": "stderr",
     "output_type": "stream",
     "text": [
      "Drawing 1000 posterior samples: 1056it [00:00, 21573.47it/s]            \n",
      "Running 1000 simulations.: 100%|██████████| 1000/1000 [00:38<00:00, 25.82it/s]\n"
     ]
    },
    {
     "name": "stdout",
     "output_type": "stream",
     "text": [
      "Using SNPE-C with atomic loss\n",
      " Neural network successfully converged after 37 epochs."
     ]
    },
    {
     "name": "stderr",
     "output_type": "stream",
     "text": [
      "Drawing 1000 posterior samples: 1074it [00:00, 22189.57it/s]            \n",
      "Running 1000 simulations.: 100%|██████████| 1000/1000 [00:40<00:00, 24.76it/s]\n"
     ]
    },
    {
     "name": "stdout",
     "output_type": "stream",
     "text": [
      "Using SNPE-C with atomic loss\n",
      " Neural network successfully converged after 55 epochs."
     ]
    },
    {
     "name": "stderr",
     "output_type": "stream",
     "text": [
      "Drawing 1000 posterior samples: 1063it [00:00, 16962.12it/s]            \n",
      "Running 1000 simulations.: 100%|██████████| 1000/1000 [00:40<00:00, 24.57it/s]\n"
     ]
    },
    {
     "name": "stdout",
     "output_type": "stream",
     "text": [
      "Using SNPE-C with atomic loss\n",
      " Neural network successfully converged after 21 epochs."
     ]
    },
    {
     "name": "stderr",
     "output_type": "stream",
     "text": [
      "Drawing 1000 posterior samples: 1065it [00:00, 9120.19it/s]                         \n",
      "Running 1000 simulations.: 100%|██████████| 1000/1000 [01:06<00:00, 15.04it/s]\n"
     ]
    },
    {
     "name": "stdout",
     "output_type": "stream",
     "text": [
      "Using SNPE-C with atomic loss\n",
      " Neural network successfully converged after 37 epochs."
     ]
    },
    {
     "name": "stderr",
     "output_type": "stream",
     "text": [
      "Drawing 10000 posterior samples: 10122it [00:00, 13582.11it/s]                          \n"
     ]
    },
    {
     "data": {
      "image/png": "[encoded data removed]",
      "text/plain": [
       "<Figure size 360x360 with 4 Axes>"
      ]
     },
     "metadata": {
      "needs_background": "light"
     },
     "output_type": "display_data"
    }
   ],
   "source": [
    "\n",
    "true_params = (0.7, 1)\n",
    "simulator, prior = prepare_for_sbi(simulate_simple, prior)\n",
    "x_0 = simulate_simple(true_params)\n",
    "\n",
    "\n",
    "rounds = 10\n",
    "num_sims = 1000\n",
    "\n",
    "inference = SNPE(prior=prior)\n",
    "proposal = prior\n",
    "for _ in range(rounds):\n",
    "    theta, x = simulate_for_sbi(simulator, proposal, num_sims)\n",
    "    _ = inference.append_simulations(theta, x, proposal=proposal).train()\n",
    "    posterior = inference.build_posterior().set_default_x(x_0)\n",
    "    proposal = posterior\n",
    "\n",
    "samples = posterior.sample((10000,), x=x_0)\n",
    "fig, axes = analysis.pairplot(\n",
    "    samples,\n",
    "    limits=[[0.1, 1], [0.1, 2]],\n",
    "    ticks=[[0.1, 1], [0.1, 2]],\n",
    "    figsize=(5, 5),\n",
    "    points=true_params,\n",
    "    points_offdiag={\"markersize\": 6},\n",
    "    points_colors=\"r\",\n",
    ")"
   ]
  },
  {
   "cell_type": "code",
   "execution_count": 44,
   "metadata": {},
   "outputs": [
    {
     "name": "stderr",
     "output_type": "stream",
     "text": [
      "Running 1000 simulations.: 100%|██████████| 1000/1000 [00:43<00:00, 22.78it/s]\n"
     ]
    },
    {
     "name": "stdout",
     "output_type": "stream",
     "text": [
      " Neural network successfully converged after 112 epochs."
     ]
    },
    {
     "name": "stderr",
     "output_type": "stream",
     "text": [
      "Drawing 1000 posterior samples: 100%|██████████| 1000/1000 [00:00<00:00, 5356.35it/s]\n",
      "Running 1000 simulations.: 100%|██████████| 1000/1000 [00:46<00:00, 21.63it/s]\n"
     ]
    },
    {
     "name": "stdout",
     "output_type": "stream",
     "text": [
      "Using SNPE-C with atomic loss\n",
      " Neural network successfully converged after 40 epochs."
     ]
    },
    {
     "name": "stderr",
     "output_type": "stream",
     "text": [
      "Drawing 1000 posterior samples: 100%|██████████| 1000/1000 [00:00<00:00, 9652.60it/s]\n",
      "Running 1000 simulations.: 100%|██████████| 1000/1000 [00:46<00:00, 21.32it/s]\n"
     ]
    },
    {
     "name": "stdout",
     "output_type": "stream",
     "text": [
      "Using SNPE-C with atomic loss\n",
      " Neural network successfully converged after 26 epochs."
     ]
    },
    {
     "name": "stderr",
     "output_type": "stream",
     "text": [
      "Drawing 1000 posterior samples: 100%|██████████| 1000/1000 [00:00<00:00, 2848.62it/s]\n",
      "Running 1000 simulations.: 100%|██████████| 1000/1000 [00:47<00:00, 21.19it/s]\n"
     ]
    },
    {
     "name": "stdout",
     "output_type": "stream",
     "text": [
      "Using SNPE-C with atomic loss\n",
      " Neural network successfully converged after 36 epochs."
     ]
    },
    {
     "name": "stderr",
     "output_type": "stream",
     "text": [
      "Drawing 1000 posterior samples: 100%|██████████| 1000/1000 [00:00<00:00, 16433.36it/s]\n",
      "Running 1000 simulations.: 100%|██████████| 1000/1000 [00:48<00:00, 20.81it/s]\n"
     ]
    },
    {
     "name": "stdout",
     "output_type": "stream",
     "text": [
      "Using SNPE-C with atomic loss\n",
      " Neural network successfully converged after 64 epochs."
     ]
    },
    {
     "name": "stderr",
     "output_type": "stream",
     "text": [
      "Drawing 1000 posterior samples: 100%|██████████| 1000/1000 [00:00<00:00, 11894.42it/s]\n",
      "Running 1000 simulations.: 100%|██████████| 1000/1000 [00:44<00:00, 22.36it/s]\n"
     ]
    },
    {
     "name": "stdout",
     "output_type": "stream",
     "text": [
      "Using SNPE-C with atomic loss\n",
      " Neural network successfully converged after 65 epochs."
     ]
    },
    {
     "name": "stderr",
     "output_type": "stream",
     "text": [
      "Drawing 1000 posterior samples: 100%|██████████| 1000/1000 [00:00<00:00, 18492.18it/s]\n",
      "Running 1000 simulations.: 100%|██████████| 1000/1000 [00:45<00:00, 22.22it/s]\n"
     ]
    },
    {
     "name": "stdout",
     "output_type": "stream",
     "text": [
      "Using SNPE-C with atomic loss\n",
      " Neural network successfully converged after 28 epochs."
     ]
    },
    {
     "name": "stderr",
     "output_type": "stream",
     "text": [
      "Drawing 1000 posterior samples: 100%|██████████| 1000/1000 [00:00<00:00, 22308.94it/s]\n",
      "Running 1000 simulations.: 100%|██████████| 1000/1000 [00:46<00:00, 21.52it/s]\n"
     ]
    },
    {
     "name": "stdout",
     "output_type": "stream",
     "text": [
      "Using SNPE-C with atomic loss\n",
      " Neural network successfully converged after 22 epochs."
     ]
    },
    {
     "name": "stderr",
     "output_type": "stream",
     "text": [
      "Drawing 1000 posterior samples: 100%|██████████| 1000/1000 [00:00<00:00, 20246.30it/s]\n",
      "Running 1000 simulations.: 100%|██████████| 1000/1000 [00:44<00:00, 22.61it/s]\n"
     ]
    },
    {
     "name": "stdout",
     "output_type": "stream",
     "text": [
      "Using SNPE-C with atomic loss\n",
      " Neural network successfully converged after 27 epochs."
     ]
    },
    {
     "name": "stderr",
     "output_type": "stream",
     "text": [
      "Drawing 1000 posterior samples: 100%|██████████| 1000/1000 [00:00<00:00, 14810.66it/s]\n",
      "Running 1000 simulations.: 100%|██████████| 1000/1000 [00:48<00:00, 20.77it/s]\n"
     ]
    },
    {
     "name": "stdout",
     "output_type": "stream",
     "text": [
      "Using SNPE-C with atomic loss\n",
      " Neural network successfully converged after 62 epochs."
     ]
    },
    {
     "name": "stderr",
     "output_type": "stream",
     "text": [
      "Drawing 10000 posterior samples: 100%|██████████| 10000/10000 [00:00<00:00, 46418.37it/s]\n"
     ]
    },
    {
     "data": {
      "image/png": "[encoded data removed]",
      "text/plain": [
       "<Figure size 360x360 with 4 Axes>"
      ]
     },
     "metadata": {
      "needs_background": "light"
     },
     "output_type": "display_data"
    }
   ],
   "source": [
    "\n",
    "true_params = (0.7, 1.5)\n",
    "simulator, prior = prepare_for_sbi(simulate_simple, prior)\n",
    "x_0 = simulate_simple(true_params)\n",
    "\n",
    "\n",
    "rounds = 10\n",
    "num_sims = 1000\n",
    "\n",
    "inference = SNPE(prior=prior)\n",
    "proposal = prior\n",
    "for _ in range(rounds):\n",
    "    theta, x = simulate_for_sbi(simulator, proposal, num_sims)\n",
    "    _ = inference.append_simulations(theta, x, proposal=proposal).train()\n",
    "    posterior = inference.build_posterior().set_default_x(x_0)\n",
    "    proposal = posterior\n",
    "\n",
    "samples = posterior.sample((10000,), x=x_0)\n",
    "fig, axes = analysis.pairplot(\n",
    "    samples,\n",
    "    limits=[[0.1, 1], [0.1, 2]],\n",
    "    ticks=[[0.1, 1], [0.1, 2]],\n",
    "    figsize=(5, 5),\n",
    "    points=true_params,\n",
    "    points_offdiag={\"markersize\": 6},\n",
    "    points_colors=\"r\",\n",
    ")"
   ]
  },
  {
   "cell_type": "code",
   "execution_count": 45,
   "metadata": {},
   "outputs": [
    {
     "name": "stderr",
     "output_type": "stream",
     "text": [
      "Running 1000 simulations.: 100%|██████████| 1000/1000 [00:44<00:00, 22.27it/s]\n"
     ]
    },
    {
     "name": "stdout",
     "output_type": "stream",
     "text": [
      " Neural network successfully converged after 120 epochs."
     ]
    },
    {
     "name": "stderr",
     "output_type": "stream",
     "text": [
      "Drawing 1000 posterior samples: 1086it [00:00, 12245.72it/s]            \n",
      "Running 1000 simulations.: 100%|██████████| 1000/1000 [00:43<00:00, 22.77it/s]\n"
     ]
    },
    {
     "name": "stdout",
     "output_type": "stream",
     "text": [
      "Using SNPE-C with atomic loss\n",
      " Neural network successfully converged after 60 epochs."
     ]
    },
    {
     "name": "stderr",
     "output_type": "stream",
     "text": [
      "Drawing 1000 posterior samples: 1066it [00:00, 11831.32it/s]            \n",
      "Running 1000 simulations.: 100%|██████████| 1000/1000 [00:43<00:00, 22.80it/s]\n"
     ]
    },
    {
     "name": "stdout",
     "output_type": "stream",
     "text": [
      "Using SNPE-C with atomic loss\n",
      " Neural network successfully converged after 38 epochs."
     ]
    },
    {
     "name": "stderr",
     "output_type": "stream",
     "text": [
      "Drawing 1000 posterior samples: 1069it [00:00, 15585.60it/s]            \n",
      "Running 1000 simulations.: 100%|██████████| 1000/1000 [00:42<00:00, 23.77it/s]\n"
     ]
    },
    {
     "name": "stdout",
     "output_type": "stream",
     "text": [
      "Using SNPE-C with atomic loss\n",
      " Neural network successfully converged after 51 epochs."
     ]
    },
    {
     "name": "stderr",
     "output_type": "stream",
     "text": [
      "Drawing 1000 posterior samples: 1098it [00:00, 17740.84it/s]            \n",
      "Running 1000 simulations.: 100%|██████████| 1000/1000 [00:43<00:00, 23.05it/s]\n"
     ]
    },
    {
     "name": "stdout",
     "output_type": "stream",
     "text": [
      "Using SNPE-C with atomic loss\n",
      " Neural network successfully converged after 28 epochs."
     ]
    },
    {
     "name": "stderr",
     "output_type": "stream",
     "text": [
      "Drawing 1000 posterior samples: 1089it [00:00, 34468.53it/s]            \n",
      "Running 1000 simulations.: 100%|██████████| 1000/1000 [00:41<00:00, 24.04it/s]\n"
     ]
    },
    {
     "name": "stdout",
     "output_type": "stream",
     "text": [
      "Using SNPE-C with atomic loss\n",
      " Neural network successfully converged after 37 epochs."
     ]
    },
    {
     "name": "stderr",
     "output_type": "stream",
     "text": [
      "Drawing 1000 posterior samples: 1096it [00:00, 16983.00it/s]            \n",
      "Running 1000 simulations.: 100%|██████████| 1000/1000 [00:49<00:00, 20.19it/s]\n"
     ]
    },
    {
     "name": "stdout",
     "output_type": "stream",
     "text": [
      "Using SNPE-C with atomic loss\n",
      " Neural network successfully converged after 32 epochs."
     ]
    },
    {
     "name": "stderr",
     "output_type": "stream",
     "text": [
      "Drawing 1000 posterior samples: 100%|██████████| 1000/1000 [00:00<00:00, 36067.00it/s]\n",
      "Running 1000 simulations.: 100%|██████████| 1000/1000 [01:02<00:00, 16.08it/s]\n"
     ]
    },
    {
     "name": "stdout",
     "output_type": "stream",
     "text": [
      "Using SNPE-C with atomic loss\n",
      " Neural network successfully converged after 55 epochs."
     ]
    },
    {
     "name": "stderr",
     "output_type": "stream",
     "text": [
      "Drawing 1000 posterior samples: 1096it [00:00, 11563.39it/s]            \n",
      "Running 1000 simulations.: 100%|██████████| 1000/1000 [00:43<00:00, 23.13it/s]\n"
     ]
    },
    {
     "name": "stdout",
     "output_type": "stream",
     "text": [
      "Using SNPE-C with atomic loss\n",
      " Neural network successfully converged after 61 epochs."
     ]
    },
    {
     "name": "stderr",
     "output_type": "stream",
     "text": [
      "Drawing 1000 posterior samples: 1090it [00:00, 20384.85it/s]            \n",
      "Running 1000 simulations.: 100%|██████████| 1000/1000 [00:40<00:00, 24.99it/s]\n"
     ]
    },
    {
     "name": "stdout",
     "output_type": "stream",
     "text": [
      "Using SNPE-C with atomic loss\n",
      " Neural network successfully converged after 45 epochs."
     ]
    },
    {
     "name": "stderr",
     "output_type": "stream",
     "text": [
      "Drawing 10000 posterior samples: 10037it [00:00, 51374.64it/s]                          \n"
     ]
    },
    {
     "data": {
      "image/png": "[encoded data removed]",
      "text/plain": [
       "<Figure size 360x360 with 4 Axes>"
      ]
     },
     "metadata": {
      "needs_background": "light"
     },
     "output_type": "display_data"
    }
   ],
   "source": [
    "\n",
    "true_params = (0.2, 0.4)\n",
    "simulator, prior = prepare_for_sbi(simulate_simple, prior)\n",
    "x_0 = simulate_simple(true_params)\n",
    "\n",
    "\n",
    "rounds = 10\n",
    "num_sims = 1000\n",
    "\n",
    "inference = SNPE(prior=prior)\n",
    "proposal = prior\n",
    "for _ in range(rounds):\n",
    "    theta, x = simulate_for_sbi(simulator, proposal, num_sims)\n",
    "    _ = inference.append_simulations(theta, x, proposal=proposal).train()\n",
    "    posterior = inference.build_posterior().set_default_x(x_0)\n",
    "    proposal = posterior\n",
    "\n",
    "samples = posterior.sample((10000,), x=x_0)\n",
    "fig, axes = analysis.pairplot(\n",
    "    samples,\n",
    "    limits=[[0.1, 1], [0.1, 2]],\n",
    "    ticks=[[0.1, 1], [0.1, 2]],\n",
    "    figsize=(5, 5),\n",
    "    points=true_params,\n",
    "    points_offdiag={\"markersize\": 6},\n",
    "    points_colors=\"r\",\n",
    ")"
   ]
  },
  {
   "cell_type": "code",
   "execution_count": 53,
   "metadata": {},
   "outputs": [
    {
     "name": "stderr",
     "output_type": "stream",
     "text": [
      "Running 1000 simulations.: 100%|██████████| 1000/1000 [00:38<00:00, 26.05it/s]\n"
     ]
    },
    {
     "name": "stdout",
     "output_type": "stream",
     "text": [
      " Neural network successfully converged after 55 epochs."
     ]
    },
    {
     "name": "stderr",
     "output_type": "stream",
     "text": [
      "Drawing 1000 posterior samples: 1327it [00:00, 4893.63it/s]             \n",
      "Running 1000 simulations.: 100%|██████████| 1000/1000 [00:46<00:00, 21.47it/s]\n"
     ]
    },
    {
     "name": "stdout",
     "output_type": "stream",
     "text": [
      "Using SNPE-C with atomic loss\n",
      " Neural network successfully converged after 29 epochs."
     ]
    },
    {
     "name": "stderr",
     "output_type": "stream",
     "text": [
      "Drawing 1000 posterior samples: 1031it [00:00, 2080.63it/s]                         \n",
      "Running 1000 simulations.: 100%|██████████| 1000/1000 [00:48<00:00, 20.51it/s]\n"
     ]
    },
    {
     "name": "stdout",
     "output_type": "stream",
     "text": [
      "Using SNPE-C with atomic loss\n",
      " Neural network successfully converged after 74 epochs."
     ]
    },
    {
     "name": "stderr",
     "output_type": "stream",
     "text": [
      "Drawing 1000 posterior samples: 1017it [00:01, 777.18it/s]                         \n",
      "Running 1000 simulations.: 100%|██████████| 1000/1000 [00:47<00:00, 21.11it/s]\n"
     ]
    },
    {
     "name": "stdout",
     "output_type": "stream",
     "text": [
      "Using SNPE-C with atomic loss\n",
      " Neural network successfully converged after 82 epochs."
     ]
    },
    {
     "name": "stderr",
     "output_type": "stream",
     "text": [
      "Drawing 1000 posterior samples:   9%|▉         | 93/1000 [00:00<00:02, 383.72it/s]WARNING:root:Only 0.845% proposal samples are\n",
      "                    accepted. It may take a long time to collect the remaining\n",
      "                    907 samples. Consider interrupting (Ctrl-C) and switching to\n",
      "                    `build_posterior(..., sample_with='mcmc')`.\n",
      "Drawing 1000 posterior samples: 1026it [00:01, 574.50it/s]                         \n",
      "Running 1000 simulations.: 100%|██████████| 1000/1000 [00:44<00:00, 22.28it/s]\n"
     ]
    },
    {
     "name": "stdout",
     "output_type": "stream",
     "text": [
      "Using SNPE-C with atomic loss\n",
      " Neural network successfully converged after 25 epochs."
     ]
    },
    {
     "name": "stderr",
     "output_type": "stream",
     "text": [
      "Drawing 1000 posterior samples: 1033it [00:01, 948.58it/s]                         \n",
      "Running 1000 simulations.: 100%|██████████| 1000/1000 [00:43<00:00, 23.22it/s]\n"
     ]
    },
    {
     "name": "stdout",
     "output_type": "stream",
     "text": [
      "Using SNPE-C with atomic loss\n",
      " Neural network successfully converged after 55 epochs."
     ]
    },
    {
     "name": "stderr",
     "output_type": "stream",
     "text": [
      "Drawing 1000 posterior samples: 1018it [00:02, 484.65it/s]                         \n",
      "Running 1000 simulations.: 100%|██████████| 1000/1000 [00:51<00:00, 19.44it/s]\n"
     ]
    },
    {
     "name": "stdout",
     "output_type": "stream",
     "text": [
      "Using SNPE-C with atomic loss\n",
      " Neural network successfully converged after 51 epochs."
     ]
    },
    {
     "name": "stderr",
     "output_type": "stream",
     "text": [
      "Drawing 1000 posterior samples: 100%|██████████| 1000/1000 [00:01<00:00, 795.05it/s]\n",
      "Running 1000 simulations.: 100%|██████████| 1000/1000 [00:46<00:00, 21.47it/s]\n"
     ]
    },
    {
     "name": "stdout",
     "output_type": "stream",
     "text": [
      "Using SNPE-C with atomic loss\n",
      " Neural network successfully converged after 36 epochs."
     ]
    },
    {
     "name": "stderr",
     "output_type": "stream",
     "text": [
      "Drawing 1000 posterior samples: 1039it [00:01, 927.53it/s]                         \n",
      "Running 1000 simulations.: 100%|██████████| 1000/1000 [00:44<00:00, 22.58it/s]\n"
     ]
    },
    {
     "name": "stdout",
     "output_type": "stream",
     "text": [
      "Using SNPE-C with atomic loss\n",
      " Neural network successfully converged after 34 epochs."
     ]
    },
    {
     "name": "stderr",
     "output_type": "stream",
     "text": [
      "Drawing 1000 posterior samples: 1003it [00:01, 720.89it/s]                         \n",
      "Running 1000 simulations.: 100%|██████████| 1000/1000 [00:42<00:00, 23.37it/s]\n"
     ]
    },
    {
     "name": "stdout",
     "output_type": "stream",
     "text": [
      "Using SNPE-C with atomic loss\n",
      " Neural network successfully converged after 34 epochs."
     ]
    },
    {
     "name": "stderr",
     "output_type": "stream",
     "text": [
      "Drawing 10000 posterior samples: 10027it [00:15, 645.32it/s]                          \n"
     ]
    },
    {
     "data": {
      "image/png": "[encoded data removed]",
      "text/plain": [
       "<Figure size 360x360 with 4 Axes>"
      ]
     },
     "metadata": {
      "needs_background": "light"
     },
     "output_type": "display_data"
    }
   ],
   "source": [
    "\n",
    "true_params = (0.2, 1.8)\n",
    "simulator, prior = prepare_for_sbi(simulate_simple, prior)\n",
    "x_0 = simulate_simple(true_params)\n",
    "\n",
    "\n",
    "rounds = 10\n",
    "num_sims = 1000\n",
    "\n",
    "inference = SNPE(prior=prior)\n",
    "proposal = prior\n",
    "for _ in range(rounds):\n",
    "    theta, x = simulate_for_sbi(simulator, proposal, num_sims)\n",
    "    _ = inference.append_simulations(theta, x, proposal=proposal).train()\n",
    "    posterior = inference.build_posterior().set_default_x(x_0)\n",
    "    proposal = posterior\n",
    "\n",
    "samples = posterior.sample((10000,), x=x_0)\n",
    "fig, axes = analysis.pairplot(\n",
    "    samples,\n",
    "    limits=[[0.1, 1], [0.1, 2]],\n",
    "    ticks=[[0.1, 1], [0.1, 2]],\n",
    "    figsize=(5, 5),\n",
    "    points=true_params,\n",
    "    points_offdiag={\"markersize\": 6},\n",
    "    points_colors=\"r\",\n",
    ")"
   ]
  },
  {
   "cell_type": "markdown",
   "metadata": {},
   "source": [
    "### Now we try amortized with 100k sims and same 10 bin summary stat\n"
   ]
  },
  {
   "cell_type": "code",
   "execution_count": 57,
   "metadata": {},
   "outputs": [
    {
     "name": "stderr",
     "output_type": "stream",
     "text": [
      "Running 100000 simulations.: 100%|██████████| 100000/100000 [1:08:29<00:00, 24.33it/s]\n"
     ]
    },
    {
     "name": "stdout",
     "output_type": "stream",
     "text": [
      "Using SNPE-C with atomic loss\n",
      " Neural network successfully converged after 67 epochs."
     ]
    },
    {
     "name": "stderr",
     "output_type": "stream",
     "text": [
      "Drawing 10000 posterior samples: 10772it [00:00, 15400.12it/s]                          \n"
     ]
    },
    {
     "data": {
      "image/png": "[encoded data removed]",
      "text/plain": [
       "<Figure size 360x360 with 4 Axes>"
      ]
     },
     "metadata": {
      "needs_background": "light"
     },
     "output_type": "display_data"
    }
   ],
   "source": [
    "true_params = (0.2, 1.8)\n",
    "simulator, prior = prepare_for_sbi(simulate_simple, prior)\n",
    "x_0 = simulate_simple(true_params)\n",
    "\n",
    "num_sims = 100000\n",
    "\n",
    "inference = SNPE(prior=prior)\n",
    "theta, x = simulate_for_sbi(simulator, prior, num_sims)\n",
    "\n",
    "_ = inference.append_simulations(theta, x, proposal=proposal).train()\n",
    "posterior = inference.build_posterior().set_default_x(x_0)\n",
    "\n",
    "samples = posterior.sample((10000,), x=x_0)\n",
    "fig, axes = analysis.pairplot(\n",
    "    samples,\n",
    "    limits=[[0.1, 1], [0.1, 2]],\n",
    "    ticks=[[0.1, 1], [0.1, 2]],\n",
    "    figsize=(5, 5),\n",
    "    points=true_params,\n",
    "    points_offdiag={\"markersize\": 6},\n",
    "    points_colors=\"r\",\n",
    ")"
   ]
  },
  {
   "cell_type": "code",
   "execution_count": 58,
   "metadata": {},
   "outputs": [],
   "source": [
    "np.save('theta.npy', theta)\n",
    "np.save('x.npy', x)"
   ]
  },
  {
   "cell_type": "code",
   "execution_count": 59,
   "metadata": {},
   "outputs": [
    {
     "name": "stderr",
     "output_type": "stream",
     "text": [
      "Drawing 10000 posterior samples: 10326it [00:00, 27312.55it/s]                          \n"
     ]
    },
    {
     "data": {
      "image/png": "[encoded data removed]",
      "text/plain": [
       "<Figure size 360x360 with 4 Axes>"
      ]
     },
     "metadata": {
      "needs_background": "light"
     },
     "output_type": "display_data"
    }
   ],
   "source": [
    "true_params = (0.2, 1.5)\n",
    "x_0 = simulate_simple(true_params)\n",
    "\n",
    "posterior = inference.build_posterior().set_default_x(x_0)\n",
    "\n",
    "samples = posterior.sample((10000,), x=x_0)\n",
    "fig, axes = analysis.pairplot(\n",
    "    samples,\n",
    "    limits=[[0.1, 1], [0.1, 2]],\n",
    "    ticks=[[0.1, 1], [0.1, 2]],\n",
    "    figsize=(5, 5),\n",
    "    points=true_params,\n",
    "    points_offdiag={\"markersize\": 6},\n",
    "    points_colors=\"r\",\n",
    ")"
   ]
  },
  {
   "cell_type": "code",
   "execution_count": 60,
   "metadata": {},
   "outputs": [
    {
     "name": "stderr",
     "output_type": "stream",
     "text": [
      "Drawing 10000 posterior samples: 100%|██████████| 10000/10000 [00:00<00:00, 23049.70it/s]\n"
     ]
    },
    {
     "data": {
      "image/png": "[encoded data removed]",
      "text/plain": [
       "<Figure size 360x360 with 4 Axes>"
      ]
     },
     "metadata": {
      "needs_background": "light"
     },
     "output_type": "display_data"
    }
   ],
   "source": [
    "true_params = (0.2, 1.0)\n",
    "x_0 = simulate_simple(true_params)\n",
    "\n",
    "posterior = inference.build_posterior().set_default_x(x_0)\n",
    "\n",
    "samples = posterior.sample((10000,), x=x_0)\n",
    "fig, axes = analysis.pairplot(\n",
    "    samples,\n",
    "    limits=[[0.1, 1], [0.1, 2]],\n",
    "    ticks=[[0.1, 1], [0.1, 2]],\n",
    "    figsize=(5, 5),\n",
    "    points=true_params,\n",
    "    points_offdiag={\"markersize\": 6},\n",
    "    points_colors=\"r\",\n",
    ")"
   ]
  },
  {
   "cell_type": "code",
   "execution_count": 61,
   "metadata": {},
   "outputs": [
    {
     "name": "stderr",
     "output_type": "stream",
     "text": [
      "Drawing 10000 posterior samples: 100%|██████████| 10000/10000 [00:00<00:00, 19692.24it/s]\n"
     ]
    },
    {
     "data": {
      "image/png": "[encoded data removed]",
      "text/plain": [
       "<Figure size 360x360 with 4 Axes>"
      ]
     },
     "metadata": {
      "needs_background": "light"
     },
     "output_type": "display_data"
    }
   ],
   "source": [
    "true_params = (0.5, 1.0)\n",
    "x_0 = simulate_simple(true_params)\n",
    "\n",
    "posterior = inference.build_posterior().set_default_x(x_0)\n",
    "\n",
    "samples = posterior.sample((10000,), x=x_0)\n",
    "fig, axes = analysis.pairplot(\n",
    "    samples,\n",
    "    limits=[[0.1, 1], [0.1, 2]],\n",
    "    ticks=[[0.1, 1], [0.1, 2]],\n",
    "    figsize=(5, 5),\n",
    "    points=true_params,\n",
    "    points_offdiag={\"markersize\": 6},\n",
    "    points_colors=\"r\",\n",
    ")"
   ]
  },
  {
   "cell_type": "code",
   "execution_count": 62,
   "metadata": {},
   "outputs": [
    {
     "name": "stderr",
     "output_type": "stream",
     "text": [
      "Drawing 10000 posterior samples: 10038it [00:00, 46116.50it/s]                          \n"
     ]
    },
    {
     "data": {
      "image/png": "[encoded data removed]",
      "text/plain": [
       "<Figure size 360x360 with 4 Axes>"
      ]
     },
     "metadata": {
      "needs_background": "light"
     },
     "output_type": "display_data"
    }
   ],
   "source": [
    "true_params = (0.7, 1.0)\n",
    "x_0 = simulate_simple(true_params)\n",
    "\n",
    "posterior = inference.build_posterior().set_default_x(x_0)\n",
    "\n",
    "samples = posterior.sample((10000,), x=x_0)\n",
    "fig, axes = analysis.pairplot(\n",
    "    samples,\n",
    "    limits=[[0.1, 1], [0.1, 2]],\n",
    "    ticks=[[0.1, 1], [0.1, 2]],\n",
    "    figsize=(5, 5),\n",
    "    points=true_params,\n",
    "    points_offdiag={\"markersize\": 6},\n",
    "    points_colors=\"r\",\n",
    ")"
   ]
  },
  {
   "cell_type": "code",
   "execution_count": 63,
   "metadata": {},
   "outputs": [
    {
     "name": "stderr",
     "output_type": "stream",
     "text": [
      "Drawing 10000 posterior samples: 11238it [00:00, 35857.40it/s]                          \n"
     ]
    },
    {
     "data": {
      "image/png": "[encoded data removed]",
      "text/plain": [
       "<Figure size 360x360 with 4 Axes>"
      ]
     },
     "metadata": {
      "needs_background": "light"
     },
     "output_type": "display_data"
    }
   ],
   "source": [
    "true_params = (0.9, 1.0)\n",
    "x_0 = simulate_simple(true_params)\n",
    "\n",
    "posterior = inference.build_posterior().set_default_x(x_0)\n",
    "\n",
    "samples = posterior.sample((10000,), x=x_0)\n",
    "fig, axes = analysis.pairplot(\n",
    "    samples,\n",
    "    limits=[[0.1, 1], [0.1, 2]],\n",
    "    ticks=[[0.1, 1], [0.1, 2]],\n",
    "    figsize=(5, 5),\n",
    "    points=true_params,\n",
    "    points_offdiag={\"markersize\": 6},\n",
    "    points_colors=\"r\",\n",
    ")"
   ]
  },
  {
   "cell_type": "code",
   "execution_count": 64,
   "metadata": {},
   "outputs": [
    {
     "name": "stderr",
     "output_type": "stream",
     "text": [
      "Drawing 10000 posterior samples: 10035it [00:00, 19971.94it/s]                          \n"
     ]
    },
    {
     "data": {
      "image/png": "[encoded data removed]",
      "text/plain": [
       "<Figure size 360x360 with 4 Axes>"
      ]
     },
     "metadata": {
      "needs_background": "light"
     },
     "output_type": "display_data"
    }
   ],
   "source": [
    "true_params = (0.5, 0.5)\n",
    "x_0 = simulate_simple(true_params)\n",
    "\n",
    "posterior = inference.build_posterior().set_default_x(x_0)\n",
    "\n",
    "samples = posterior.sample((10000,), x=x_0)\n",
    "fig, axes = analysis.pairplot(\n",
    "    samples,\n",
    "    limits=[[0.1, 1], [0.1, 2]],\n",
    "    ticks=[[0.1, 1], [0.1, 2]],\n",
    "    figsize=(5, 5),\n",
    "    points=true_params,\n",
    "    points_offdiag={\"markersize\": 6},\n",
    "    points_colors=\"r\",\n",
    ")"
   ]
  },
  {
   "cell_type": "code",
   "execution_count": 65,
   "metadata": {},
   "outputs": [
    {
     "name": "stderr",
     "output_type": "stream",
     "text": [
      "Drawing 10000 posterior samples:   0%|          | 0/10000 [00:00<?, ?it/s]"
     ]
    },
    {
     "name": "stderr",
     "output_type": "stream",
     "text": [
      "Drawing 10000 posterior samples: 100%|██████████| 10000/10000 [00:00<00:00, 13329.41it/s]\n"
     ]
    },
    {
     "data": {
      "image/png": "[encoded data removed]",
      "text/plain": [
       "<Figure size 360x360 with 4 Axes>"
      ]
     },
     "metadata": {
      "needs_background": "light"
     },
     "output_type": "display_data"
    }
   ],
   "source": [
    "true_params = (0.5, 1.5)\n",
    "x_0 = simulate_simple(true_params)\n",
    "\n",
    "posterior = inference.build_posterior().set_default_x(x_0)\n",
    "\n",
    "samples = posterior.sample((10000,), x=x_0)\n",
    "fig, axes = analysis.pairplot(\n",
    "    samples,\n",
    "    limits=[[0.1, 1], [0.1, 2]],\n",
    "    ticks=[[0.1, 1], [0.1, 2]],\n",
    "    figsize=(5, 5),\n",
    "    points=true_params,\n",
    "    points_offdiag={\"markersize\": 6},\n",
    "    points_colors=\"r\",\n",
    ")"
   ]
  },
  {
   "cell_type": "code",
   "execution_count": 2,
   "metadata": {},
   "outputs": [
    {
     "name": "stderr",
     "output_type": "stream",
     "text": [
      "Running 1000 simulations.:   0%|          | 1/1000 [00:00<04:01,  4.15it/s]"
     ]
    },
    {
     "name": "stderr",
     "output_type": "stream",
     "text": [
      "Running 1000 simulations.: 100%|██████████| 1000/1000 [01:11<00:00, 14.03it/s]\n"
     ]
    },
    {
     "name": "stdout",
     "output_type": "stream",
     "text": [
      " Neural network successfully converged after 26 epochs."
     ]
    },
    {
     "name": "stderr",
     "output_type": "stream",
     "text": [
      "Drawing 1000 posterior samples: 1086it [00:00, 6576.72it/s]                         \n",
      "Running 1000 simulations.: 100%|██████████| 1000/1000 [00:48<00:00, 20.57it/s]\n"
     ]
    },
    {
     "name": "stdout",
     "output_type": "stream",
     "text": [
      "Using SNPE-C with atomic loss\n",
      " Neural network successfully converged after 22 epochs."
     ]
    },
    {
     "name": "stderr",
     "output_type": "stream",
     "text": [
      "Drawing 1000 posterior samples: 1155it [00:00, 5048.08it/s]                         \n",
      "Running 1000 simulations.: 100%|██████████| 1000/1000 [00:43<00:00, 23.09it/s]\n"
     ]
    },
    {
     "name": "stdout",
     "output_type": "stream",
     "text": [
      "Using SNPE-C with atomic loss\n",
      " Neural network successfully converged after 22 epochs."
     ]
    },
    {
     "name": "stderr",
     "output_type": "stream",
     "text": [
      "Drawing 1000 posterior samples: 1296it [00:00, 1963.21it/s]                         \n",
      "Running 1000 simulations.: 100%|██████████| 1000/1000 [01:14<00:00, 13.41it/s]\n"
     ]
    },
    {
     "name": "stdout",
     "output_type": "stream",
     "text": [
      "Using SNPE-C with atomic loss\n",
      " Neural network successfully converged after 21 epochs."
     ]
    },
    {
     "name": "stderr",
     "output_type": "stream",
     "text": [
      "Drawing 1000 posterior samples: 1410it [00:00, 1831.13it/s]                         \n",
      "Running 1000 simulations.: 100%|██████████| 1000/1000 [00:49<00:00, 20.21it/s]\n"
     ]
    },
    {
     "name": "stdout",
     "output_type": "stream",
     "text": [
      "Using SNPE-C with atomic loss\n",
      " Neural network successfully converged after 22 epochs."
     ]
    },
    {
     "name": "stderr",
     "output_type": "stream",
     "text": [
      "Drawing 1000 posterior samples: 1220it [00:00, 4864.94it/s]                         \n",
      "Running 1000 simulations.: 100%|██████████| 1000/1000 [00:44<00:00, 22.50it/s]\n"
     ]
    },
    {
     "name": "stdout",
     "output_type": "stream",
     "text": [
      "Using SNPE-C with atomic loss\n",
      " Neural network successfully converged after 21 epochs."
     ]
    },
    {
     "name": "stderr",
     "output_type": "stream",
     "text": [
      "Drawing 1000 posterior samples: 1320it [00:00, 2794.28it/s]                         \n",
      "Running 1000 simulations.: 100%|██████████| 1000/1000 [00:42<00:00, 23.35it/s]\n"
     ]
    },
    {
     "name": "stdout",
     "output_type": "stream",
     "text": [
      "Using SNPE-C with atomic loss\n",
      " Neural network successfully converged after 22 epochs."
     ]
    },
    {
     "name": "stderr",
     "output_type": "stream",
     "text": [
      "Drawing 1000 posterior samples: 1172it [00:00, 5877.58it/s]                         \n",
      "Running 1000 simulations.: 100%|██████████| 1000/1000 [00:38<00:00, 25.94it/s]\n"
     ]
    },
    {
     "name": "stdout",
     "output_type": "stream",
     "text": [
      "Using SNPE-C with atomic loss\n",
      " Neural network successfully converged after 21 epochs."
     ]
    },
    {
     "name": "stderr",
     "output_type": "stream",
     "text": [
      "Drawing 1000 posterior samples: 1262it [00:00, 3955.81it/s]                         \n",
      "Running 1000 simulations.: 100%|██████████| 1000/1000 [00:39<00:00, 25.59it/s]\n"
     ]
    },
    {
     "name": "stdout",
     "output_type": "stream",
     "text": [
      "Using SNPE-C with atomic loss\n",
      " Neural network successfully converged after 21 epochs."
     ]
    },
    {
     "name": "stderr",
     "output_type": "stream",
     "text": [
      "Drawing 1000 posterior samples: 1158it [00:00, 5149.82it/s]                         \n",
      "Running 1000 simulations.: 100%|██████████| 1000/1000 [00:43<00:00, 23.14it/s]\n"
     ]
    },
    {
     "name": "stdout",
     "output_type": "stream",
     "text": [
      "Using SNPE-C with atomic loss\n",
      " Neural network successfully converged after 21 epochs."
     ]
    },
    {
     "name": "stderr",
     "output_type": "stream",
     "text": [
      "Drawing 10000 posterior samples: 11542it [00:01, 7921.01it/s]                          \n"
     ]
    },
    {
     "data": {
      "image/png": "[encoded data removed]",
      "text/plain": [
       "<Figure size 360x360 with 16 Axes>"
      ]
     },
     "metadata": {
      "needs_background": "light"
     },
     "output_type": "display_data"
    }
   ],
   "source": [
    "from spectralcomponents import DeltaEmissionLine\n",
    "\n",
    "\n",
    "c1 = PowerLaw()\n",
    "c2 = DeltaEmissionLine()\n",
    "prior = BoxUniform(low=torch.tensor([0.1, 0.1, 0.1, 0.1]), \n",
    "                    high=torch.tensor([1, 2, 5, 10]))\n",
    "spectrum = Spectrum(c1, c2)\n",
    "def simulate_simple(params):\n",
    "    simulator =  Simulator(spectrum, 1000, pileup='channels')\n",
    "    data = simulator(params)\n",
    "    return np.bincount(data[data>0], minlength=1024)\n",
    "\n",
    "true_params = (0.3, 1, 2, 5)\n",
    "\n",
    "simulator, prior = prepare_for_sbi(simulate_simple, prior)\n",
    "x_0 = simulate_simple(true_params)\n",
    "\n",
    "rounds = 10\n",
    "num_sims = 1000\n",
    "\n",
    "inference = SNPE(prior=prior)\n",
    "proposal = prior\n",
    "for _ in range(rounds):\n",
    "    theta, x = simulate_for_sbi(simulator, proposal, num_sims)\n",
    "    _ = inference.append_simulations(theta, x, proposal=proposal).train()\n",
    "    posterior = inference.build_posterior().set_default_x(x_0)\n",
    "    proposal = posterior\n",
    "\n",
    "samples = posterior.sample((10000,), x=x_0)\n",
    "fig, axes = analysis.pairplot(\n",
    "    samples,\n",
    "    limits=[[0.1, 1,], [0.1, 2], [0.1, 5], [0.1, 10]],\n",
    "    ticks=[[0.1, 1], [0.1, 2], [0.1, 5], [0.1, 10]],\n",
    "    figsize=(5, 5),\n",
    "    points=true_params,\n",
    "    points_offdiag={\"markersize\": 6},\n",
    "    points_colors=\"r\",\n",
    ")\n"
   ]
  },
  {
   "cell_type": "code",
   "execution_count": 3,
   "metadata": {},
   "outputs": [
    {
     "data": {
      "text/plain": [
       "[<matplotlib.lines.Line2D at 0x16039dd80>]"
      ]
     },
     "execution_count": 3,
     "metadata": {},
     "output_type": "execute_result"
    },
    {
     "data": {
      "image/png": "[encoded data removed]",
      "text/plain": [
       "<Figure size 432x288 with 1 Axes>"
      ]
     },
     "metadata": {
      "needs_background": "light"
     },
     "output_type": "display_data"
    }
   ],
   "source": [
    "from matplotlib import pyplot as plt\n",
    "plt.plot(spectrum.get_rate(true_params))"
   ]
  },
  {
   "cell_type": "code",
   "execution_count": 14,
   "metadata": {},
   "outputs": [
    {
     "data": {
      "text/plain": [
       "(array([182.,  28.,  59.,  56.,  50.,  50.,  36.,  43.,  32.,  35.,  27.,\n",
       "         31.,  33.,  38.,  30.,  30.,  28.,  24.,  25.,   9.,  12.,  21.,\n",
       "         15.,   8.,   6.,  11.,  11.,  12.,   9.,   8.,   5.,   6.,   9.,\n",
       "          5.,   3.,   3.,   3.,   4.,   1.,   2.]),\n",
       " array([-1.0000e+00,  2.4550e+01,  5.0100e+01,  7.5650e+01,  1.0120e+02,\n",
       "         1.2675e+02,  1.5230e+02,  1.7785e+02,  2.0340e+02,  2.2895e+02,\n",
       "         2.5450e+02,  2.8005e+02,  3.0560e+02,  3.3115e+02,  3.5670e+02,\n",
       "         3.8225e+02,  4.0780e+02,  4.3335e+02,  4.5890e+02,  4.8445e+02,\n",
       "         5.1000e+02,  5.3555e+02,  5.6110e+02,  5.8665e+02,  6.1220e+02,\n",
       "         6.3775e+02,  6.6330e+02,  6.8885e+02,  7.1440e+02,  7.3995e+02,\n",
       "         7.6550e+02,  7.9105e+02,  8.1660e+02,  8.4215e+02,  8.6770e+02,\n",
       "         8.9325e+02,  9.1880e+02,  9.4435e+02,  9.6990e+02,  9.9545e+02,\n",
       "         1.0210e+03]),\n",
       " <BarContainer object of 40 artists>)"
      ]
     },
     "execution_count": 14,
     "metadata": {},
     "output_type": "execute_result"
    },
    {
     "data": {
      "image/png": "[encoded data removed]",
      "text/plain": [
       "<Figure size 432x288 with 1 Axes>"
      ]
     },
     "metadata": {
      "needs_background": "light"
     },
     "output_type": "display_data"
    }
   ],
   "source": [
    "def simulate_simple(params):\n",
    "    simulator =  Simulator(spectrum, 1000, pileup='channels')\n",
    "    data = simulator(params)\n",
    "    return data\n",
    "plt.hist(simulate_simple((0.3, 1, 2, 5)), bins=40)"
   ]
  },
  {
   "cell_type": "code",
   "execution_count": null,
   "metadata": {},
   "outputs": [],
   "source": [
    "x_0 = simulate_simple(true_params)\n",
    "samples = posterior.sample((10000,), x=x_0)\n",
    "lb, ub = np.percentile(samples[:, 0], [2.5, 97.5], axis=0)\n",
    "if true_params[0] > lb[0] and true_params[0] < ub[0]:\n",
    "    print('Power law: correct')\n",
    "else:\n",
    "    print('Power law: incorrect')\n",
    "lb, ub = np.percentile(samples[:, 1], [2.5, 97.5], axis=0)\n",
    "if true_params[1] > lb[0] and true_params[1] < ub[0]:\n",
    "    print('Delta: correct')\n",
    "else:\n",
    "    print('Delta: incorrect')"
   ]
  }
 ],
 "metadata": {
  "kernelspec": {
   "display_name": "Python 3",
   "language": "python",
   "name": "python3"
  },
  "language_info": {
   "codemirror_mode": {
    "name": "ipython",
    "version": 3
   },
   "file_extension": ".py",
   "mimetype": "text/x-python",
   "name": "python",
   "nbconvert_exporter": "python",
   "pygments_lexer": "ipython3",
   "version": "3.10.1"
  }
 },
 "nbformat": 4,
 "nbformat_minor": 2
}
