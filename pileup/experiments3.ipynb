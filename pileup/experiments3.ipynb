{
 "cells": [
  {
   "cell_type": "code",
   "execution_count": 1,
   "metadata": {},
   "outputs": [
    {
     "name": "stderr",
     "output_type": "stream",
     "text": [
      "/Library/Frameworks/Python.framework/Versions/3.10/lib/python3.10/site-packages/tqdm/auto.py:21: TqdmWarning: IProgress not found. Please update jupyter and ipywidgets. See https://ipywidgets.readthedocs.io/en/stable/user_install.html\n",
      "  from .autonotebook import tqdm as notebook_tqdm\n",
      "2024-05-07 11:58:38.901456: I tensorflow/core/platform/cpu_feature_guard.cc:193] This TensorFlow binary is optimized with oneAPI Deep Neural Network Library (oneDNN) to use the following CPU instructions in performance-critical operations:  AVX2 AVX512F AVX512_VNNI FMA\n",
      "To enable them in other operations, rebuild TensorFlow with the appropriate compiler flags.\n"
     ]
    }
   ],
   "source": [
    "import numpy as np\n",
    "import torch\n",
    "from sbi import utils as utils\n",
    "from sbi import analysis as analysis\n",
    "from utils.data_formats import timeseries_to_channels\n",
    "from simulators import Simulator\n",
    "from spectralcomponents import PowerLaw, GaussianEmissionLine, Spectrum\n",
    "from sbi.inference import SNRE_B, SNLE, prepare_for_sbi, simulate_for_sbi\n",
    "from sbi.neural_nets.embedding_nets import FCEmbedding, CNNEmbedding, PermutationInvariantEmbedding\n",
    "from sbi_tools import BoxUniform\n",
    "from sbi.inference import SNPE\n",
    "from sbi.utils import posterior_nn, likelihood_nn\n",
    "from matplotlib import pyplot as plt\n",
    "\n",
    "\n",
    "\n",
    "c1 = PowerLaw()\n",
    "spectrum = Spectrum(c1)\n",
    "\n",
    "prior = BoxUniform(low=torch.tensor([0.1, 0.1]), high=torch.tensor([2, 2]))\n",
    "def simulate_simple(params):\n",
    "    simulator =  Simulator(spectrum, 10000, pileup='channels')\n",
    "    data = simulator(params)\n",
    "    return np.bincount(data, minlength=1025)[1:]"
   ]
  },
  {
   "cell_type": "markdown",
   "metadata": {},
   "source": [
    "# Simulate data for use in two parameter Power Law\n",
    "We simulate 10k instances of 10k frames in 10 chunks. This corresponds to a total ess of 100 million frames. (I think this ismore than enough)\n",
    "\n",
    "Prior is $\\alpha\\sim\\text{Uniform}([0.1,1]), \\beta\\sim\\text{Uniform}([0.1,2])$ independently"
   ]
  },
  {
   "cell_type": "code",
   "execution_count": 3,
   "metadata": {},
   "outputs": [
    {
     "name": "stderr",
     "output_type": "stream",
     "text": [
      "Running 1000 simulations.: 100%|██████████| 1000/1000 [05:38<00:00,  2.95it/s]\n",
      "Running 1000 simulations.: 100%|██████████| 1000/1000 [05:59<00:00,  2.78it/s]\n",
      "Running 1000 simulations.: 100%|██████████| 1000/1000 [06:44<00:00,  2.47it/s]\n",
      "Running 1000 simulations.: 100%|██████████| 1000/1000 [05:57<00:00,  2.79it/s]\n",
      "Running 1000 simulations.: 100%|██████████| 1000/1000 [05:58<00:00,  2.79it/s]\n",
      "Running 1000 simulations.: 100%|██████████| 1000/1000 [05:49<00:00,  2.86it/s]\n",
      "Running 1000 simulations.: 100%|██████████| 1000/1000 [06:31<00:00,  2.56it/s]\n",
      "Running 1000 simulations.: 100%|██████████| 1000/1000 [06:05<00:00,  2.74it/s]\n",
      "Running 1000 simulations.: 100%|██████████| 1000/1000 [06:45<00:00,  2.47it/s]\n",
      "Running 1000 simulations.: 100%|██████████| 1000/1000 [06:14<00:00,  2.67it/s]\n"
     ]
    }
   ],
   "source": [
    "# simulator, prior = prepare_for_sbi(simulate_simple, prior)\n",
    "# chunks = 10\n",
    "# for chunk in range(1, chunks+1):\n",
    "#     theta, x = simulate_for_sbi(simulator, prior, num_simulations=1000)\n",
    "#     np.save(f'simulated_data/power_law/x_chunk{chunk}_power_law.npy', x)\n",
    "#     np.save(f'simulated_data/power_law/theta_chunk{chunk}_power_law.npy', theta)"
   ]
  },
  {
   "cell_type": "markdown",
   "metadata": {},
   "source": [
    "# NPE amortised"
   ]
  },
  {
   "cell_type": "code",
   "execution_count": 2,
   "metadata": {},
   "outputs": [],
   "source": [
    "from copy import copy\n",
    "\n",
    "\n",
    "def save_posterior(inference: SNPE, chunk):\n",
    "    inference_copy = inference\n",
    "    _ = inference_copy.train(force_first_round_loss=True)\n",
    "    torch.manual_seed(0)\n",
    "    posterior = inference_copy.build_posterior()\n",
    "    torch.save(posterior, f'simulated_data/power_law/posterior_chunk{chunk}_power_law.pt')"
   ]
  },
  {
   "cell_type": "code",
   "execution_count": null,
   "metadata": {},
   "outputs": [],
   "source": [
    "\n",
    "embedding_net = FCEmbedding(input_dim=1024, output_dim=100, num_layers=3, num_hiddens=1024)\n",
    "neural_posterior = posterior_nn(\n",
    "    model=\"maf\", \n",
    "    embedding_net=embedding_net, \n",
    "    hidden_features=200, \n",
    "    num_transforms=5\n",
    ")\n",
    "\n",
    "inference = SNPE(\n",
    "    prior=prior, \n",
    "    density_estimator=neural_posterior\n",
    ")\n",
    "\n",
    "chunks = 10\n",
    "for chunk in range(chunks):\n",
    "    theta, x = np.load(f'simulated_data/power_law/theta_chunk{chunk+1}_power_law.npy'), np.load(f'simulated_data/power_law/x_chunk{chunk+1}_power_law.npy')\n",
    "    theta, x = torch.tensor(theta).float(), torch.tensor(x).float()\n",
    "    _ = inference.append_simulations(theta, x, proposal=prior)\n",
    "    save_posterior(inference, chunk + 1)"
   ]
  },
  {
   "cell_type": "code",
   "execution_count": null,
   "metadata": {},
   "outputs": [],
   "source": [
    "embedding_net = FCEmbedding(input_dim=1024, output_dim=100, num_layers=3, num_hiddens=1024)\n",
    "neural_posterior = posterior_nn(\n",
    "    model=\"maf\", \n",
    "    embedding_net=embedding_net, \n",
    "    hidden_features=200, \n",
    "    num_transforms=5\n",
    ")\n",
    "\n",
    "inference = SNPE(\n",
    "    prior=prior, \n",
    "    density_estimator=neural_posterior\n",
    ")\n",
    "\n",
    "rounds = 10\n",
    "for round in range(rounds):\n",
    "    theta, x = np.load(f'simulated_data/power_law/theta_chunk{chunk+1}_power_law.npy'), np.load(f'simulated_data/power_law/x_chunk{chunk+1}_power_law.npy')\n",
    "    theta, x = torch.tensor(theta).float(), torch.tensor(x).float()\n",
    "    _ = inference.append_simulations(theta, x, proposal=prior)\n",
    "    save_posterior(inference, chunk + 1)"
   ]
  },
  {
   "cell_type": "code",
   "execution_count": null,
   "metadata": {},
   "outputs": [],
   "source": [
    "for chunk in range(1, chunks + 1):\n",
    "    posterior = torch.load(f'simulated_data/power_law/posterior_chunk{chunk}_power_law.pt')    \n",
    "    true_params = (0.5, 1.5)\n",
    "    x_0 = simulate_simple(true_params)\n",
    "    posterior.set_default_x(x_0)\n",
    "    torch.manual_seed(0)\n",
    "    samples = posterior.sample((100000,), x=x_0)\n",
    "    fig, axes = analysis.pairplot(\n",
    "        samples,\n",
    "        limits=[[0.1, 1], [0.1, 2]],\n",
    "        ticks=[[0.1, 1], [0.1, 2]],\n",
    "        figsize=(5, 5),\n",
    "        points=true_params,\n",
    "        points_offdiag={\"markersize\": 6},\n",
    "        points_colors=\"r\",\n",
    "        labels=[r\"$\\alpha$\",r\"$\\beta$\"],\n",
    "        title=f\"{chunk}k simulations\",\n",
    "    )\n",
    "    fig.savefig(f'simulated_data/power_law/plots/post_alpha_{chunk}ksims_{true_params[0]}_beta_{true_params[1]}.png')"
   ]
  },
  {
   "cell_type": "code",
   "execution_count": 3,
   "metadata": {},
   "outputs": [],
   "source": [
    "from tqdm import tqdm\n",
    "\n",
    "def evaluate_confidence_intervals(posterior, simulate_func, total_trials, confidence_intervals, n_samples=1000, true_params=None, prior=None):\n",
    "    if true_params is None:\n",
    "        true_params = prior.sample()\n",
    "    num_params = len(true_params)\n",
    "    total_correct = np.zeros((len(confidence_intervals), num_params))\n",
    "    \n",
    "    for _ in tqdm(range(total_trials)):\n",
    "        x_0 = simulate_func(true_params)\n",
    "        posterior.set_default_x(x_0)\n",
    "        samples = posterior.sample((n_samples,), x=x_0, show_progress_bars=False)\n",
    "        \n",
    "        for i, ci in enumerate(confidence_intervals):\n",
    "            lower_bounds = np.percentile(samples, 100 * (ci/2), axis=0)\n",
    "            upper_bounds = np.percentile(samples, 100 * (1 - (ci/2)), axis=0)\n",
    "            \n",
    "            # Check if true parameters are within the bounds for each parameter\n",
    "            in_interval = (lower_bounds < true_params) & (true_params < upper_bounds)\n",
    "            \n",
    "            # Sum up the counts for each parameter\n",
    "            total_correct[i] += in_interval\n",
    "\n",
    "    # Normalize to get frequencies\n",
    "    correct_freq = total_correct / total_trials\n",
    "    return correct_freq"
   ]
  },
  {
   "cell_type": "code",
   "execution_count": 2,
   "metadata": {},
   "outputs": [],
   "source": [
    "posterior = torch.load('simulated_data/power_law/posterior_chunk10_power_law.pt')\n",
    "#evaluate_confidence_intervals(posterior, simulate_simple, 100, np.array([0.05, 0.33, 0.5]), true_params=(0.5,1.5), prior=prior)"
   ]
  },
  {
   "cell_type": "code",
   "execution_count": 28,
   "metadata": {},
   "outputs": [
    {
     "data": {
      "text/plain": [
       "tensor([-1271.7990])"
      ]
     },
     "execution_count": 28,
     "metadata": {},
     "output_type": "execute_result"
    }
   ],
   "source": [
    "\n",
    "posterior.log_prob(torch.tensor([0.5, 1.5]), x=simulate_simple((0.5, 1.5)))"
   ]
  },
  {
   "cell_type": "markdown",
   "metadata": {},
   "source": [
    "# NLE amortised"
   ]
  },
  {
   "cell_type": "code",
   "execution_count": 25,
   "metadata": {},
   "outputs": [
    {
     "name": "stdout",
     "output_type": "stream",
     "text": [
      " Neural network successfully converged after 89 epochs."
     ]
    }
   ],
   "source": [
    "\n",
    "embedding_net = FCEmbedding(input_dim=1024, output_dim=200, num_layers=3, num_hiddens=1024)\n",
    "neural_likelihood = likelihood_nn(\n",
    "    model=\"maf\", \n",
    "    hidden_features=200, \n",
    "    num_transforms=5\n",
    ")\n",
    "\n",
    "mcmc_parameters = {\"num_chains\": 20,\n",
    "                   \"thin\": 5}\n",
    "\n",
    "inference = SNLE(\n",
    "    prior=prior, \n",
    "    density_estimator=neural_likelihood,\n",
    "    embedding_net=embedding_net\n",
    ")\n",
    "\n",
    "chunks = 10\n",
    "for chunk in range(chunks):\n",
    "    theta, x = np.load(f'simulated_data/power_law/theta_chunk{chunk+1}_power_law.npy'), np.load(f'simulated_data/power_law/x_chunk{chunk+1}_power_law.npy')\n",
    "    theta, x = torch.tensor(theta).float(), torch.tensor(x).float()\n",
    "    _ = inference.append_simulations(theta, x)\n",
    "_ = inference.train()\n",
    "posterior = inference.build_posterior(mcmc_method=\"slice_np_vectorized\",\n",
    "                                      mcmc_parameters=mcmc_parameters)"
   ]
  },
  {
   "cell_type": "code",
   "execution_count": 37,
   "metadata": {},
   "outputs": [
    {
     "name": "stderr",
     "output_type": "stream",
     "text": [
      "/Library/Frameworks/Python.framework/Versions/3.10/lib/python3.10/site-packages/sbi/inference/posteriors/mcmc_posterior.py:172: UserWarning: `.log_prob()` is deprecated for methods that can only evaluate the\n",
      "            log-probability up to a normalizing constant. Use `.potential()` instead.\n",
      "  warn(\n",
      "/Library/Frameworks/Python.framework/Versions/3.10/lib/python3.10/site-packages/sbi/inference/posteriors/mcmc_posterior.py:176: UserWarning: The log-probability is unnormalized!\n",
      "  warn(\"The log-probability is unnormalized!\")\n"
     ]
    },
    {
     "data": {
      "text/plain": [
       "tensor([-3881.8169])"
      ]
     },
     "execution_count": 37,
     "metadata": {},
     "output_type": "execute_result"
    }
   ],
   "source": [
    "posterior = torch.load('simulated_data/power_law/posterior_nle_power_law.pt')\n",
    "posterior.log_prob(torch.tensor([0.5, 1.5]), x=simulate_simple((2.0, 1.5)))\n",
    "#evaluate_confidence_intervals(posterior, simulate_simple, 100, np.array([0.05, 0.33, 0.5]), true_params=(0.5,1.5), prior=prior, n_samples=100)"
   ]
  },
  {
   "cell_type": "markdown",
   "metadata": {},
   "source": [
    "# SNLE"
   ]
  },
  {
   "cell_type": "code",
   "execution_count": 20,
   "metadata": {},
   "outputs": [
    {
     "name": "stderr",
     "output_type": "stream",
     "text": [
      "Running 1000 simulations.:  12%|█▏        | 116/1000 [00:56<07:08,  2.06it/s]\n"
     ]
    },
    {
     "ename": "KeyboardInterrupt",
     "evalue": "",
     "output_type": "error",
     "traceback": [
      "\u001b[0;31m---------------------------------------------------------------------------\u001b[0m",
      "\u001b[0;31mKeyboardInterrupt\u001b[0m                         Traceback (most recent call last)",
      "Input \u001b[0;32mIn [20]\u001b[0m, in \u001b[0;36m<module>\u001b[0;34m\u001b[0m\n\u001b[1;32m     20\u001b[0m proposal \u001b[38;5;241m=\u001b[39m prior\n\u001b[1;32m     21\u001b[0m \u001b[38;5;28;01mfor\u001b[39;00m \u001b[38;5;28mround\u001b[39m \u001b[38;5;129;01min\u001b[39;00m \u001b[38;5;28mrange\u001b[39m(rounds):\n\u001b[0;32m---> 22\u001b[0m     theta, x \u001b[38;5;241m=\u001b[39m \u001b[43msimulate_for_sbi\u001b[49m\u001b[43m(\u001b[49m\u001b[43msimulator\u001b[49m\u001b[43m,\u001b[49m\u001b[43m \u001b[49m\u001b[43mproposal\u001b[49m\u001b[38;5;241;43m=\u001b[39;49m\u001b[43mproposal\u001b[49m\u001b[43m,\u001b[49m\u001b[43m \u001b[49m\u001b[43mnum_simulations\u001b[49m\u001b[38;5;241;43m=\u001b[39;49m\u001b[43mnum_sims\u001b[49m\u001b[43m)\u001b[49m\n\u001b[1;32m     23\u001b[0m     _ \u001b[38;5;241m=\u001b[39m inference\u001b[38;5;241m.\u001b[39mappend_simulations(theta, x)\u001b[38;5;241m.\u001b[39mtrain()\n\u001b[1;32m     24\u001b[0m     posterior \u001b[38;5;241m=\u001b[39m inference\u001b[38;5;241m.\u001b[39mbuild_posterior(mcmc_method\u001b[38;5;241m=\u001b[39m\u001b[38;5;124m\"\u001b[39m\u001b[38;5;124mslice_np_vectorized\u001b[39m\u001b[38;5;124m\"\u001b[39m,\n\u001b[1;32m     25\u001b[0m                                       mcmc_parameters\u001b[38;5;241m=\u001b[39mmcmc_parameters)\n",
      "File \u001b[0;32m/Library/Frameworks/Python.framework/Versions/3.10/lib/python3.10/site-packages/sbi/inference/base.py:495\u001b[0m, in \u001b[0;36msimulate_for_sbi\u001b[0;34m(simulator, proposal, num_simulations, num_workers, simulation_batch_size, seed, show_progress_bar)\u001b[0m\n\u001b[1;32m    465\u001b[0m \u001b[38;5;124mr\u001b[39m\u001b[38;5;124;03m\"\"\"Returns ($\\theta, x$) pairs obtained from sampling the proposal and simulating.\u001b[39;00m\n\u001b[1;32m    466\u001b[0m \n\u001b[1;32m    467\u001b[0m \u001b[38;5;124;03mThis function performs two steps:\u001b[39;00m\n\u001b[0;32m   (...)\u001b[0m\n\u001b[1;32m    490\u001b[0m \u001b[38;5;124;03mReturns: Sampled parameters $\\theta$ and simulation-outputs $x$.\u001b[39;00m\n\u001b[1;32m    491\u001b[0m \u001b[38;5;124;03m\"\"\"\u001b[39;00m\n\u001b[1;32m    493\u001b[0m theta \u001b[38;5;241m=\u001b[39m proposal\u001b[38;5;241m.\u001b[39msample((num_simulations,))\n\u001b[0;32m--> 495\u001b[0m x \u001b[38;5;241m=\u001b[39m \u001b[43msimulate_in_batches\u001b[49m\u001b[43m(\u001b[49m\n\u001b[1;32m    496\u001b[0m \u001b[43m    \u001b[49m\u001b[43msimulator\u001b[49m\u001b[38;5;241;43m=\u001b[39;49m\u001b[43msimulator\u001b[49m\u001b[43m,\u001b[49m\n\u001b[1;32m    497\u001b[0m \u001b[43m    \u001b[49m\u001b[43mtheta\u001b[49m\u001b[38;5;241;43m=\u001b[39;49m\u001b[43mtheta\u001b[49m\u001b[43m,\u001b[49m\n\u001b[1;32m    498\u001b[0m \u001b[43m    \u001b[49m\u001b[43msim_batch_size\u001b[49m\u001b[38;5;241;43m=\u001b[39;49m\u001b[43msimulation_batch_size\u001b[49m\u001b[43m,\u001b[49m\n\u001b[1;32m    499\u001b[0m \u001b[43m    \u001b[49m\u001b[43mnum_workers\u001b[49m\u001b[38;5;241;43m=\u001b[39;49m\u001b[43mnum_workers\u001b[49m\u001b[43m,\u001b[49m\n\u001b[1;32m    500\u001b[0m \u001b[43m    \u001b[49m\u001b[43mseed\u001b[49m\u001b[38;5;241;43m=\u001b[39;49m\u001b[43mseed\u001b[49m\u001b[43m,\u001b[49m\n\u001b[1;32m    501\u001b[0m \u001b[43m    \u001b[49m\u001b[43mshow_progress_bars\u001b[49m\u001b[38;5;241;43m=\u001b[39;49m\u001b[43mshow_progress_bar\u001b[49m\u001b[43m,\u001b[49m\n\u001b[1;32m    502\u001b[0m \u001b[43m\u001b[49m\u001b[43m)\u001b[49m\n\u001b[1;32m    504\u001b[0m \u001b[38;5;28;01mreturn\u001b[39;00m theta, x\n",
      "File \u001b[0;32m/Library/Frameworks/Python.framework/Versions/3.10/lib/python3.10/site-packages/sbi/simulators/simutils.py:88\u001b[0m, in \u001b[0;36msimulate_in_batches\u001b[0;34m(simulator, theta, sim_batch_size, num_workers, seed, show_progress_bars)\u001b[0m\n\u001b[1;32m     86\u001b[0m         simulation_outputs \u001b[38;5;241m=\u001b[39m []\n\u001b[1;32m     87\u001b[0m         \u001b[38;5;28;01mfor\u001b[39;00m batch \u001b[38;5;129;01min\u001b[39;00m batches:\n\u001b[0;32m---> 88\u001b[0m             simulation_outputs\u001b[38;5;241m.\u001b[39mappend(\u001b[43msimulator\u001b[49m\u001b[43m(\u001b[49m\u001b[43mbatch\u001b[49m\u001b[43m)\u001b[49m)\n\u001b[1;32m     89\u001b[0m             pbar\u001b[38;5;241m.\u001b[39mupdate(sim_batch_size)\n\u001b[1;32m     91\u001b[0m x \u001b[38;5;241m=\u001b[39m torch\u001b[38;5;241m.\u001b[39mcat(simulation_outputs, dim\u001b[38;5;241m=\u001b[39m\u001b[38;5;241m0\u001b[39m)\n",
      "File \u001b[0;32m/Library/Frameworks/Python.framework/Versions/3.10/lib/python3.10/site-packages/sbi/utils/user_input_checks.py:560\u001b[0m, in \u001b[0;36mget_batch_loop_simulator.<locals>.batch_loop_simulator\u001b[0;34m(theta)\u001b[0m\n\u001b[1;32m    558\u001b[0m \u001b[38;5;28;01massert\u001b[39;00m theta\u001b[38;5;241m.\u001b[39mndim \u001b[38;5;241m>\u001b[39m \u001b[38;5;241m1\u001b[39m, \u001b[38;5;124m\"\u001b[39m\u001b[38;5;124mTheta must have a batch dimension.\u001b[39m\u001b[38;5;124m\"\u001b[39m\n\u001b[1;32m    559\u001b[0m \u001b[38;5;66;03m# Simulate in loop\u001b[39;00m\n\u001b[0;32m--> 560\u001b[0m xs \u001b[38;5;241m=\u001b[39m \u001b[38;5;28;43mlist\u001b[39;49m\u001b[43m(\u001b[49m\u001b[38;5;28;43mmap\u001b[39;49m\u001b[43m(\u001b[49m\u001b[43msimulator\u001b[49m\u001b[43m,\u001b[49m\u001b[43m \u001b[49m\u001b[43mtheta\u001b[49m\u001b[43m)\u001b[49m\u001b[43m)\u001b[49m\n\u001b[1;32m    561\u001b[0m \u001b[38;5;66;03m# Stack over batch to keep x_shape\u001b[39;00m\n\u001b[1;32m    562\u001b[0m \u001b[38;5;28;01mreturn\u001b[39;00m torch\u001b[38;5;241m.\u001b[39mstack(xs)\n",
      "File \u001b[0;32m/Library/Frameworks/Python.framework/Versions/3.10/lib/python3.10/site-packages/sbi/utils/user_input_checks.py:524\u001b[0m, in \u001b[0;36mwrap_as_pytorch_simulator.<locals>.pytorch_simulator\u001b[0;34m(theta)\u001b[0m\n\u001b[1;32m    523\u001b[0m \u001b[38;5;28;01mdef\u001b[39;00m \u001b[38;5;21mpytorch_simulator\u001b[39m(theta: Tensor) \u001b[38;5;241m-\u001b[39m\u001b[38;5;241m>\u001b[39m Tensor:\n\u001b[0;32m--> 524\u001b[0m     \u001b[38;5;28;01mreturn\u001b[39;00m torch\u001b[38;5;241m.\u001b[39mas_tensor(\u001b[43msimulator\u001b[49m\u001b[43m(\u001b[49m\u001b[43mtheta\u001b[49m\u001b[43m)\u001b[49m, dtype\u001b[38;5;241m=\u001b[39mfloat32)\n",
      "Input \u001b[0;32mIn [1]\u001b[0m, in \u001b[0;36msimulate_simple\u001b[0;34m(params)\u001b[0m\n\u001b[1;32m     21\u001b[0m \u001b[38;5;28;01mdef\u001b[39;00m \u001b[38;5;21msimulate_simple\u001b[39m(params):\n\u001b[1;32m     22\u001b[0m     simulator \u001b[38;5;241m=\u001b[39m  Simulator(spectrum, \u001b[38;5;241m10000\u001b[39m, pileup\u001b[38;5;241m=\u001b[39m\u001b[38;5;124m'\u001b[39m\u001b[38;5;124mchannels\u001b[39m\u001b[38;5;124m'\u001b[39m)\n\u001b[0;32m---> 23\u001b[0m     data \u001b[38;5;241m=\u001b[39m \u001b[43msimulator\u001b[49m\u001b[43m(\u001b[49m\u001b[43mparams\u001b[49m\u001b[43m)\u001b[49m\n\u001b[1;32m     24\u001b[0m     \u001b[38;5;28;01mreturn\u001b[39;00m np\u001b[38;5;241m.\u001b[39mbincount(data, minlength\u001b[38;5;241m=\u001b[39m\u001b[38;5;241m1025\u001b[39m)[\u001b[38;5;241m1\u001b[39m:]\n",
      "File \u001b[0;32m~/Documents/_M4R/pileup/simulators.py:38\u001b[0m, in \u001b[0;36mSimulator.__call__\u001b[0;34m(self, params)\u001b[0m\n\u001b[1;32m     36\u001b[0m     \u001b[38;5;28;01mreturn\u001b[39;00m \u001b[38;5;28mself\u001b[39m\u001b[38;5;241m.\u001b[39m_simulate_bin_pileup(rate)\n\u001b[1;32m     37\u001b[0m \u001b[38;5;28;01melif\u001b[39;00m \u001b[38;5;28mself\u001b[39m\u001b[38;5;241m.\u001b[39mpileup \u001b[38;5;241m==\u001b[39m \u001b[38;5;124m'\u001b[39m\u001b[38;5;124mchannels\u001b[39m\u001b[38;5;124m'\u001b[39m:\n\u001b[0;32m---> 38\u001b[0m     \u001b[38;5;28;01mreturn\u001b[39;00m \u001b[38;5;28;43mself\u001b[39;49m\u001b[38;5;241;43m.\u001b[39;49m\u001b[43m_simulate_channel_pileup\u001b[49m\u001b[43m(\u001b[49m\u001b[43mrate\u001b[49m\u001b[43m)\u001b[49m\n\u001b[1;32m     39\u001b[0m \u001b[38;5;28;01melse\u001b[39;00m:\n\u001b[1;32m     40\u001b[0m     \u001b[38;5;28;01mraise\u001b[39;00m \u001b[38;5;167;01mValueError\u001b[39;00m(\u001b[38;5;124m'\u001b[39m\u001b[38;5;124mpileup must be one of \u001b[39m\u001b[38;5;124m\"\u001b[39m\u001b[38;5;124mbins\u001b[39m\u001b[38;5;124m\"\u001b[39m\u001b[38;5;124m, \u001b[39m\u001b[38;5;124m\"\u001b[39m\u001b[38;5;124mchannels\u001b[39m\u001b[38;5;124m\"\u001b[39m\u001b[38;5;124m'\u001b[39m)\n",
      "File \u001b[0;32m~/Documents/_M4R/pileup/simulators.py:64\u001b[0m, in \u001b[0;36mSimulator._simulate_channel_pileup\u001b[0;34m(self, rate)\u001b[0m\n\u001b[1;32m     61\u001b[0m \u001b[38;5;28;01mdef\u001b[39;00m \u001b[38;5;21m_simulate_channel_pileup\u001b[39m(\u001b[38;5;28mself\u001b[39m, rate):\n\u001b[1;32m     62\u001b[0m     \u001b[38;5;66;03m# records 0 if no photon recorded / photons sum to greater than total\u001b[39;00m\n\u001b[1;32m     63\u001b[0m     channel_rate \u001b[38;5;241m=\u001b[39m rate \u001b[38;5;241m@\u001b[39m \u001b[38;5;28mself\u001b[39m\u001b[38;5;241m.\u001b[39m_RMF\n\u001b[0;32m---> 64\u001b[0m     channel_indices \u001b[38;5;241m=\u001b[39m \u001b[43mnp\u001b[49m\u001b[38;5;241;43m.\u001b[39;49m\u001b[43mrandom\u001b[49m\u001b[38;5;241;43m.\u001b[39;49m\u001b[43mpoisson\u001b[49m\u001b[43m(\u001b[49m\n\u001b[1;32m     65\u001b[0m \u001b[43m        \u001b[49m\u001b[43mchannel_rate\u001b[49m\u001b[43m,\u001b[49m\u001b[43m \u001b[49m\u001b[43m(\u001b[49m\u001b[38;5;28;43mself\u001b[39;49m\u001b[38;5;241;43m.\u001b[39;49m\u001b[43mtime_steps\u001b[49m\u001b[43m,\u001b[49m\u001b[43m \u001b[49m\u001b[38;5;28;43mself\u001b[39;49m\u001b[38;5;241;43m.\u001b[39;49m\u001b[43mTOTAL_CHANNELS\u001b[49m\u001b[43m)\u001b[49m\u001b[43m)\u001b[49m\n\u001b[1;32m     66\u001b[0m     Nt \u001b[38;5;241m=\u001b[39m np\u001b[38;5;241m.\u001b[39msum(channel_indices, axis\u001b[38;5;241m=\u001b[39m\u001b[38;5;241m1\u001b[39m)\n\u001b[1;32m     67\u001b[0m     \u001b[38;5;66;03m# alpha ^ (Nt-1) is the probability that Nt photons arriving in a time step are recorded as an event\u001b[39;00m\n\u001b[1;32m     68\u001b[0m     \u001b[38;5;66;03m# in the same time step\u001b[39;00m\n",
      "File \u001b[0;32mmtrand.pyx:3600\u001b[0m, in \u001b[0;36mnumpy.random.mtrand.RandomState.poisson\u001b[0;34m()\u001b[0m\n",
      "File \u001b[0;32mmtrand.pyx:114\u001b[0m, in \u001b[0;36mnumpy.random.mtrand.int64_to_long\u001b[0;34m()\u001b[0m\n",
      "File \u001b[0;32m/Library/Frameworks/Python.framework/Versions/3.10/lib/python3.10/site-packages/numpy/core/numeric.py:1859\u001b[0m, in \u001b[0;36misscalar\u001b[0;34m(element)\u001b[0m\n\u001b[1;32m   1855\u001b[0m \u001b[38;5;28;01mdef\u001b[39;00m \u001b[38;5;21m_frombuffer\u001b[39m(buf, dtype, shape, order):\n\u001b[1;32m   1856\u001b[0m     \u001b[38;5;28;01mreturn\u001b[39;00m frombuffer(buf, dtype\u001b[38;5;241m=\u001b[39mdtype)\u001b[38;5;241m.\u001b[39mreshape(shape, order\u001b[38;5;241m=\u001b[39morder)\n\u001b[0;32m-> 1859\u001b[0m \u001b[38;5;129m@set_module\u001b[39m(\u001b[38;5;124m'\u001b[39m\u001b[38;5;124mnumpy\u001b[39m\u001b[38;5;124m'\u001b[39m)\n\u001b[1;32m   1860\u001b[0m \u001b[38;5;28;01mdef\u001b[39;00m \u001b[38;5;21misscalar\u001b[39m(element):\n\u001b[1;32m   1861\u001b[0m     \u001b[38;5;124;03m\"\"\"\u001b[39;00m\n\u001b[1;32m   1862\u001b[0m \u001b[38;5;124;03m    Returns True if the type of `element` is a scalar type.\u001b[39;00m\n\u001b[1;32m   1863\u001b[0m \n\u001b[0;32m   (...)\u001b[0m\n\u001b[1;32m   1933\u001b[0m \n\u001b[1;32m   1934\u001b[0m \u001b[38;5;124;03m    \"\"\"\u001b[39;00m\n\u001b[1;32m   1935\u001b[0m     \u001b[38;5;28;01mreturn\u001b[39;00m (\u001b[38;5;28misinstance\u001b[39m(element, generic)\n\u001b[1;32m   1936\u001b[0m             \u001b[38;5;129;01mor\u001b[39;00m \u001b[38;5;28mtype\u001b[39m(element) \u001b[38;5;129;01min\u001b[39;00m ScalarType\n\u001b[1;32m   1937\u001b[0m             \u001b[38;5;129;01mor\u001b[39;00m \u001b[38;5;28misinstance\u001b[39m(element, numbers\u001b[38;5;241m.\u001b[39mNumber))\n",
      "\u001b[0;31mKeyboardInterrupt\u001b[0m: "
     ]
    }
   ],
   "source": [
    "embedding_net = FCEmbedding(input_dim=1024, output_dim=200, num_layers=3, num_hiddens=1024)\n",
    "neural_likelihood = likelihood_nn(\n",
    "    model=\"maf\", \n",
    "    hidden_features=200, \n",
    "    num_transforms=5\n",
    ")\n",
    "\n",
    "mcmc_parameters = {\"num_chains\": 20,\n",
    "                   \"thin\": 5}\n",
    "\n",
    "inference = SNLE(\n",
    "    prior=prior, \n",
    "    density_estimator=neural_likelihood\n",
    ")\n",
    "\n",
    "rounds = 10\n",
    "num_sims = 1000\n",
    "\n",
    "simulator, prior = prepare_for_sbi(simulate_simple, prior)\n",
    "proposal = prior\n",
    "for round in range(rounds):\n",
    "    theta, x = simulate_for_sbi(simulator, proposal=proposal, num_simulations=num_sims)\n",
    "    _ = inference.append_simulations(theta, x).train()\n",
    "    posterior = inference.build_posterior(mcmc_method=\"slice_np_vectorized\",\n",
    "                                      mcmc_parameters=mcmc_parameters)\n",
    "    proposal = posterior\n",
    "torch.save(posterior, 'simulated_data/power_law/posterior_snle_power_law.pt')"
   ]
  },
  {
   "cell_type": "code",
   "execution_count": 34,
   "metadata": {},
   "outputs": [
    {
     "name": "stdout",
     "output_type": "stream",
     "text": [
      " Neural network successfully converged after 77 epochs."
     ]
    }
   ],
   "source": [
    "\n",
    "from sbi.inference import SNRE_A\n",
    "embedding_net = FCEmbedding(input_dim=1024, output_dim=200, num_layers=3, num_hiddens=1024)\n",
    "\n",
    "\n",
    "inference = SNRE_A(\n",
    "    prior=prior, \n",
    "    classifier='resnet',\n",
    ")\n",
    "\n",
    "chunks = 10\n",
    "for chunk in range(chunks):\n",
    "    theta, x = np.load(f'simulated_data/power_law/theta_chunk{chunk+1}_power_law.npy'), np.load(f'simulated_data/power_law/x_chunk{chunk+1}_power_law.npy')\n",
    "    theta, x = torch.tensor(theta).float(), torch.tensor(x).float()\n",
    "    _ = inference.append_simulations(theta, x)\n",
    "_ = inference.train()\n",
    "posterior = inference.build_posterior()\n",
    "torch.save(posterior, 'simulated_data/power_law/posterior_nre_a_power_law.pt')"
   ]
  },
  {
   "cell_type": "code",
   "execution_count": 42,
   "metadata": {},
   "outputs": [
    {
     "data": {
      "text/plain": [
       "tensor([-37.7201])"
      ]
     },
     "execution_count": 42,
     "metadata": {},
     "output_type": "execute_result"
    }
   ],
   "source": [
    "posterior = torch.load('simulated_data/power_law/posterior_nre_a_power_law.pt')\n",
    "posterior.log_prob(torch.tensor([0.5, 1.5]), x=simulate_simple((10, 1.5)))\n",
    "#evaluate_confidence_intervals(posterior, simulate_simple, 100, np.array([0.05, 0.33, 0.5]), true_params=(0.5,1.5), prior=prior, n_samples=100)"
   ]
  },
  {
   "cell_type": "markdown",
   "metadata": {},
   "source": [
    "# FOUR PARAMETERS\n"
   ]
  },
  {
   "cell_type": "code",
   "execution_count": 3,
   "metadata": {},
   "outputs": [
    {
     "name": "stderr",
     "output_type": "stream",
     "text": [
      "Running 10000 simulations.: 100%|██████████| 10000/10000 [1:02:38<00:00,  2.66it/s]\n",
      "Running 10000 simulations.: 100%|██████████| 10000/10000 [55:22<00:00,  3.01it/s] \n",
      "Running 10000 simulations.: 100%|██████████| 10000/10000 [47:35<00:00,  3.50it/s]\n",
      "Running 10000 simulations.: 100%|██████████| 10000/10000 [47:20<00:00,  3.52it/s]\n",
      "Running 10000 simulations.: 100%|██████████| 10000/10000 [46:54<00:00,  3.55it/s]\n",
      "Running 10000 simulations.: 100%|██████████| 10000/10000 [47:15<00:00,  3.53it/s]\n",
      "Running 10000 simulations.: 100%|██████████| 10000/10000 [46:43<00:00,  3.57it/s]\n",
      "Running 10000 simulations.: 100%|██████████| 10000/10000 [46:48<00:00,  3.56it/s]\n",
      "Running 10000 simulations.: 100%|██████████| 10000/10000 [47:54<00:00,  3.48it/s]\n",
      "Running 10000 simulations.: 100%|██████████| 10000/10000 [52:04<00:00,  3.20it/s] \n"
     ]
    }
   ],
   "source": [
    "from spectralcomponents import DeltaEmissionLine\n",
    "\n",
    "\n",
    "c1 = PowerLaw()\n",
    "c2 = DeltaEmissionLine()\n",
    "prior = BoxUniform(low=torch.tensor([0.1, 0.1, 5, 0.3]), \n",
    "                    high=torch.tensor([1, 2, 10, 11]))\n",
    "simulator, prior = prepare_for_sbi(simulate_simple, prior)\n",
    "chunks = 10\n",
    "for chunk in range(1, chunks+1):\n",
    "    theta, x = simulate_for_sbi(simulator, prior, num_simulations=10000)\n",
    "    np.save(f'simulated_data/power_law_emission_line/x_chunk{chunk}_power_law_emission_line.npy', x)\n",
    "    np.save(f'simulated_data/power_law_emission_line/theta_chunk{chunk}_power_law_emission_line.npy', theta)\n"
   ]
  },
  {
   "cell_type": "code",
   "execution_count": 4,
   "metadata": {},
   "outputs": [
    {
     "name": "stdout",
     "output_type": "stream",
     "text": [
      " Neural network successfully converged after 25 epochs."
     ]
    }
   ],
   "source": [
    "true_params = (0.3, 1, 8, 5)\n",
    "x_0 = simulate_simple(true_params)\n",
    "\n",
    "embedding_net = FCEmbedding(input_dim=1024, output_dim=40, num_layers=3, num_hiddens=1024)\n",
    "neural_posterior = posterior_nn(\n",
    "    model=\"maf\", \n",
    "    embedding_net=embedding_net, \n",
    "    hidden_features=400,\n",
    "    num_transforms=5\n",
    ")\n",
    "\n",
    "inference = SNPE(\n",
    "    prior=prior, \n",
    "    density_estimator=neural_posterior\n",
    ")\n",
    "\n",
    "for chunk in range(1, chunks+1):\n",
    "    theta, x = np.load(f'simulated_data/power_law_emission_line/theta_chunk{chunk}_power_law_emission_line.npy'), np.load(f'simulated_data/power_law_emission_line/x_chunk{chunk}_power_law_emission_line.npy')\n",
    "    theta, x = torch.tensor(theta).float(), torch.tensor(x).float()\n",
    "    _ = inference.append_simulations(theta, x, proposal=prior)\n",
    "_ = inference.train()\n",
    "posterior = inference.build_posterior().set_default_x(x_0)\n",
    "torch.save(posterior, 'simulated_data/power_law_emission_line/posterior.pt')"
   ]
  },
  {
   "cell_type": "code",
   "execution_count": 6,
   "metadata": {},
   "outputs": [
    {
     "name": "stderr",
     "output_type": "stream",
     "text": [
      "Drawing 10000 posterior samples: 10870it [00:04, 2501.34it/s]                          \n"
     ]
    },
    {
     "data": {
      "image/png": "[encoded data removed]",
      "text/plain": [
       "<Figure size 360x360 with 16 Axes>"
      ]
     },
     "metadata": {
      "needs_background": "light"
     },
     "output_type": "display_data"
    }
   ],
   "source": [
    "true_params = (0.3, 1, 9, 5)\n",
    "x_0 = simulate_simple(true_params)\n",
    "posterior = posterior.set_default_x(x_0)\n",
    "samples = posterior.sample((10000,), x=x_0)\n",
    "fig, axes = analysis.pairplot(\n",
    "    samples,\n",
    "    limits=[[0.1, 1,], [0.1, 2], [5, 10], [0.3, 11]],\n",
    "    ticks=[[0.1, 1], [0.1, 2], [5, 10], [0.3, 11]],\n",
    "    figsize=(5, 5),\n",
    "    points=true_params,\n",
    "    points_offdiag={\"markersize\": 6},\n",
    "    points_colors=\"r\",\n",
    ")"
   ]
  },
  {
   "cell_type": "code",
   "execution_count": 5,
   "metadata": {},
   "outputs": [
    {
     "name": "stderr",
     "output_type": "stream",
     "text": [
      "  0%|          | 0/1000 [00:00<?, ?it/s]"
     ]
    },
    {
     "name": "stderr",
     "output_type": "stream",
     "text": [
      "100%|██████████| 1000/1000 [17:37<00:00,  1.06s/it]\n"
     ]
    },
    {
     "data": {
      "text/plain": [
       "array([[0.969, 0.964, 1.   , 1.   ],\n",
       "       [0.737, 0.694, 0.   , 1.   ],\n",
       "       [0.555, 0.521, 0.   , 1.   ]])"
      ]
     },
     "execution_count": 5,
     "metadata": {},
     "output_type": "execute_result"
    }
   ],
   "source": [
    "posterior = torch.load('simulated_data/power_law_emission_line/posterior.pt')\n",
    "true_params = np.array([0.3, 1, 9, 5])\n",
    "evaluate_confidence_intervals(posterior, simulate_simple, 1000, np.array([0.05, 0.33, 0.5]), true_params=true_params, prior=prior, n_samples=1000)"
   ]
  },
  {
   "cell_type": "code",
   "execution_count": null,
   "metadata": {},
   "outputs": [],
   "source": []
  },
  {
   "cell_type": "code",
   "execution_count": 3,
   "metadata": {},
   "outputs": [],
   "source": [
    "embedding_net = FCEmbedding(input_dim=1024, output_dim=100, num_layers=3, num_hiddens=1024)\n",
    "neural_posterior = posterior_nn(\n",
    "    model=\"nsf\", \n",
    "    embedding_net=embedding_net, \n",
    "    hidden_features=200, \n",
    "    num_transforms=5\n",
    ")\n",
    "\n",
    "inference = SNPE(\n",
    "    prior=prior, \n",
    "    density_estimator=neural_posterior\n",
    ")\n",
    "\n",
    "chunks = 10\n",
    "for chunk in range(chunks):\n",
    "    theta, x = np.load(f'simulated_data/power_law/theta_chunk{chunk+1}_power_law.npy'), np.load(f'simulated_data/power_law/x_chunk{chunk+1}_power_law.npy')\n",
    "    theta, x = torch.tensor(theta).float(), torch.tensor(x).float()\n",
    "    _ = inference.append_simulations(theta, x, proposal=prior)"
   ]
  },
  {
   "cell_type": "code",
   "execution_count": 4,
   "metadata": {},
   "outputs": [
    {
     "name": "stdout",
     "output_type": "stream",
     "text": [
      " Neural network successfully converged after 30 epochs."
     ]
    }
   ],
   "source": [
    "_ = inference.train()\n",
    "true_params = (0.5, 1.5)\n",
    "x0 = simulate_simple(true_params)\n",
    "posterior = inference.build_posterior().set_default_x(x0)"
   ]
  },
  {
   "cell_type": "code",
   "execution_count": 8,
   "metadata": {},
   "outputs": [
    {
     "name": "stderr",
     "output_type": "stream",
     "text": [
      "Drawing 10000 posterior samples: 10086it [00:01, 7280.04it/s]                          \n"
     ]
    },
    {
     "data": {
      "image/png": "[encoded data removed]",
      "text/plain": [
       "<Figure size 360x360 with 4 Axes>"
      ]
     },
     "metadata": {
      "needs_background": "light"
     },
     "output_type": "display_data"
    }
   ],
   "source": [
    "samples = posterior.sample((10000,), x=x0)\n",
    "fig, axes = analysis.pairplot(\n",
    "    samples,\n",
    "    limits=[[0.1, 2,], [0.1, 2]],\n",
    "    ticks=[[0.1, 2], [0.1, 2]],\n",
    "    figsize=(5, 5),\n",
    "    points=true_params,\n",
    "    points_offdiag={\"markersize\": 6},\n",
    "    points_colors=\"r\",\n",
    ")"
   ]
  },
  {
   "cell_type": "code",
   "execution_count": 9,
   "metadata": {},
   "outputs": [],
   "source": [
    "from pileup.analytical import TruePosterior"
   ]
  },
  {
   "cell_type": "code",
   "execution_count": 10,
   "metadata": {},
   "outputs": [],
   "source": [
    "trueposterior = TruePosterior(prior=prior, spectrum=spectrum, obs=x0, pileup='channels')"
   ]
  },
  {
   "cell_type": "code",
   "execution_count": 11,
   "metadata": {},
   "outputs": [
    {
     "name": "stderr",
     "output_type": "stream",
     "text": [
      "Computing posterior:   0%|          | 0/200 [00:00<?, ?it/s]/Users/sebastiandixon/Documents/_M4R/pileup/classical_inference.py:132: RuntimeWarning: invalid value encountered in log\n",
      "  log_likelihood_of_x0 += np.log(likelihood[x])\n",
      "/Users/sebastiandixon/Documents/_M4R/pileup/classical_inference.py:132: RuntimeWarning: divide by zero encountered in log\n",
      "  log_likelihood_of_x0 += np.log(likelihood[x])\n",
      "/Users/sebastiandixon/Documents/_M4R/pileup/classical_inference.py:156: RuntimeWarning: invalid value encountered in subtract\n",
      "  posterior = np.exp(posterior - np.max(posterior))\n"
     ]
    }
   ],
   "source": [
    "alpha_grid = np.linspace(0.05, 2, 200)\n",
    "beta_grid = np.linspace(0.05, 2, 200)\n",
    "out = trueposterior.compute_grid_posterior(alpha_grid, beta_grid).T\n"
   ]
  },
  {
   "cell_type": "code",
   "execution_count": 12,
   "metadata": {},
   "outputs": [
    {
     "data": {
      "text/plain": [
       "<matplotlib.image.AxesImage at 0x1543a3c10>"
      ]
     },
     "execution_count": 12,
     "metadata": {},
     "output_type": "execute_result"
    },
    {
     "data": {
      "image/png": "[encoded data removed]",
      "text/plain": [
       "<Figure size 432x288 with 1 Axes>"
      ]
     },
     "metadata": {
      "needs_background": "light"
     },
     "output_type": "display_data"
    }
   ],
   "source": [
    "plt.imshow(out)"
   ]
  },
  {
   "cell_type": "code",
   "execution_count": null,
   "metadata": {},
   "outputs": [],
   "source": []
  }
 ],
 "metadata": {
  "kernelspec": {
   "display_name": "Python 3",
   "language": "python",
   "name": "python3"
  },
  "language_info": {
   "codemirror_mode": {
    "name": "ipython",
    "version": 3
   },
   "file_extension": ".py",
   "mimetype": "text/x-python",
   "name": "python",
   "nbconvert_exporter": "python",
   "pygments_lexer": "ipython3",
   "version": "3.10.1"
  }
 },
 "nbformat": 4,
 "nbformat_minor": 2
}
