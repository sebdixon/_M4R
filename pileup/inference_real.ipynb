{
 "cells": [
  {
   "cell_type": "code",
   "execution_count": 1,
   "metadata": {},
   "outputs": [],
   "source": [
    "import numpy as np\n",
    "from sherpa.astro import xspec\n",
    "from matplotlib import pyplot as plt\n",
    "\n",
    "\n",
    "\n",
    "# define energy bin lower and upper bounds\n",
    "e_lo = np.linspace(0.3, 10.99, 1070)\n",
    "e_hi = np.linspace(0.31, 11.00, 1070)\n",
    "e_bar = (e_lo + e_hi) / 2\n",
    "\n",
    "m = xspec.XSvapec()\n",
    "m.kT = 7.0\n",
    "m.norm = 4.0\n",
    "\n",
    "plt.plot(m(e_lo, e_hi))\n",
    "\n",
    "from simulators import Simulator\n",
    "from inputs import process_rmf\n",
    "\n",
    "RMF = process_rmf(np.loadtxt('source_analysis/rmf.txt'))\n",
    "ARF = np.loadtxt('source_analysis/arf.txt')\n",
    "x0 = np.loadtxt('source_analysis/counts.txt')\n",
    "\n",
    "T = 14479\n",
    "delta_t = 3.2\n",
    "delta_b = 0.01\n",
    "\n",
    "class XspecModel:\n",
    "    def __init__(self):\n",
    "        self.model = xspec.XSvapec()\n",
    "\n",
    "    def get_rate(self, params):\n",
    "        self.model.kT = params[0]\n",
    "        self.model.norm = params[1]\n",
    "        return self.model(e_lo, e_hi) * delta_t * delta_b * ARF\n",
    "\n",
    "def simulate_simple(params):\n",
    "    model = XspecModel()\n",
    "    simulator =  Simulator(\n",
    "        spectrum=model, \n",
    "        time_steps=T, \n",
    "        pileup='channels', \n",
    "        in_RMF=RMF, \n",
    "        in_ARF=ARF, \n",
    "        in_ENERGY_BINS=e_bar,\n",
    "        alpha=0.5)\n",
    "    data = simulator(params)\n",
    "    return np.bincount(data, minlength=1025)[1:]\n",
    "\n",
    "plt.plot(simulate_simple((2.2,3)))\n",
    "plt.plot(x0)\n",
    "\n",
    "# this is the instead of SBI stuff to see if it works\n",
    "from tqdm import tqdm\n",
    "\n",
    "def sample_prior():\n",
    "    return np.array([np.random.uniform(0.1, 50), np.random.uniform(0.1, 50)])\n",
    "\n",
    "num_sims = 10000\n",
    "\n",
    "xs = np.zeros((num_sims, 1024))\n",
    "thetas = np.zeros((num_sims, 2))\n",
    "\n",
    "for idx in tqdm(range(num_sims)):\n",
    "    thetas[idx] = sample_prior()\n",
    "    xs[idx] = simulate_simple(thetas[idx])\n",
    "\n",
    "np.save('xspec_outputs/theta_vapec.npy', thetas)\n",
    "np.save('xspec_outputs/x_vapec.npy', xs)"
   ]
  },
  {
   "cell_type": "markdown",
   "metadata": {},
   "source": [
    "# change kernal\n"
   ]
  },
  {
   "cell_type": "code",
   "execution_count": 1,
   "metadata": {},
   "outputs": [
    {
     "name": "stderr",
     "output_type": "stream",
     "text": [
      "/Library/Frameworks/Python.framework/Versions/3.10/lib/python3.10/site-packages/tqdm/auto.py:21: TqdmWarning: IProgress not found. Please update jupyter and ipywidgets. See https://ipywidgets.readthedocs.io/en/stable/user_install.html\n",
      "  from .autonotebook import tqdm as notebook_tqdm\n",
      "2024-04-19 18:55:25.097207: I tensorflow/core/platform/cpu_feature_guard.cc:193] This TensorFlow binary is optimized with oneAPI Deep Neural Network Library (oneDNN) to use the following CPU instructions in performance-critical operations:  AVX2 AVX512F AVX512_VNNI FMA\n",
      "To enable them in other operations, rebuild TensorFlow with the appropriate compiler flags.\n"
     ]
    }
   ],
   "source": [
    "# conda deactivate\n",
    "import torch\n",
    "import numpy as np\n",
    "\n",
    "from sbi import utils as utils\n",
    "from sbi import analysis as analysis\n",
    "from sbi.neural_nets.embedding_nets import FCEmbedding, CNNEmbedding, PermutationInvariantEmbedding\n",
    "from sbi.inference import SNPE\n",
    "from sbi.utils import posterior_nn\n",
    "\n",
    "theta = torch.Tensor(np.load('xspec_outputs/theta_vapec.npy'))\n",
    "x = torch.Tensor(np.load('xspec_outputs/x_vapec.npy'))\n",
    "x0 = torch.Tensor(np.loadtxt('source_analysis/counts.txt'))"
   ]
  },
  {
   "cell_type": "code",
   "execution_count": 3,
   "metadata": {},
   "outputs": [
    {
     "name": "stdout",
     "output_type": "stream",
     "text": [
      " Neural network successfully converged after 38 epochs."
     ]
    }
   ],
   "source": [
    "from sbi_tools import BoxUniform\n",
    "from sbi.inference import prepare_for_sbi, simulate_for_sbi\n",
    "\n",
    "prior = BoxUniform(low=torch.tensor([0.1, 0.1]), high=torch.tensor([50, 50]))\n",
    "#embedding_net = FCEmbedding(input_dim=1024, output_dim=100, num_layers=3, num_hiddens=1024)\n",
    "neural_posterior = posterior_nn(\n",
    "    model=\"maf\", \n",
    "    #embedding_net=embedding_net, \n",
    "    hidden_features=1024, \n",
    "    num_transforms=5\n",
    ")\n",
    "\n",
    "inference = SNPE(\n",
    "    prior=prior, \n",
    "    density_estimator=neural_posterior\n",
    ")\n",
    "\n",
    "\n",
    "_ = inference.append_simulations(theta, x, proposal=prior).train()\n",
    "posterior = inference.build_posterior().set_default_x(x0)\n"
   ]
  },
  {
   "cell_type": "code",
   "execution_count": 4,
   "metadata": {},
   "outputs": [
    {
     "name": "stderr",
     "output_type": "stream",
     "text": [
      "Drawing 100000 posterior samples:   0%|          | 0/100000 [00:00<?, ?it/s]"
     ]
    },
    {
     "name": "stderr",
     "output_type": "stream",
     "text": [
      "Drawing 100000 posterior samples: 102025it [02:12, 771.14it/s]                           \n"
     ]
    },
    {
     "data": {
      "image/png": "[encoded data removed]",
      "text/plain": [
       "<Figure size 360x360 with 4 Axes>"
      ]
     },
     "metadata": {
      "needs_background": "light"
     },
     "output_type": "display_data"
    }
   ],
   "source": [
    "samples = posterior.sample((100000,), x=x0)\n",
    "fig, axes = analysis.pairplot(\n",
    "    samples,\n",
    "    limits=[[0.1, 10], [0.1, 10]],\n",
    "    ticks=[[0.1, 1,2,3,4,5,6,7,8,9,10], [0.1, 1,2,3,4,5,6,7,8,9,10]],\n",
    "    figsize=(5, 5),\n",
    "    points_offdiag={\"markersize\": 6},\n",
    "    points_colors=\"r\",\n",
    ")"
   ]
  },
  {
   "cell_type": "code",
   "execution_count": 5,
   "metadata": {},
   "outputs": [
    {
     "name": "stderr",
     "output_type": "stream",
     "text": [
      "Drawing 10000 posterior samples: 11358it [00:12, 942.42it/s]\n"
     ]
    }
   ],
   "source": [
    "posterior = torch.load('xspec_outputs/posterior_vapec.pt')\n",
    "proposals = posterior.sample((10000,), x=x0)\n",
    "np.save('xspec_outputs/proposals_vapec.npy', proposals)"
   ]
  },
  {
   "cell_type": "markdown",
   "metadata": {},
   "source": [
    "# CHANGE BACK KERNEL TO CIAO"
   ]
  },
  {
   "cell_type": "code",
   "execution_count": 2,
   "metadata": {},
   "outputs": [
    {
     "name": "stderr",
     "output_type": "stream",
     "text": [
      "100%|██████████| 10000/10000 [1:29:45<00:00,  1.86it/s]\n"
     ]
    }
   ],
   "source": [
    "import numpy as np\n",
    "from sherpa.astro import xspec\n",
    "from matplotlib import pyplot as plt\n",
    "\n",
    "proposals = np.load('xspec_outputs/proposals_vapec.npy')\n",
    "\n",
    "# define energy bin lower and upper bounds\n",
    "e_lo = np.linspace(0.3, 10.99, 1070)\n",
    "e_hi = np.linspace(0.31, 11.00, 1070)\n",
    "e_bar = (e_lo + e_hi) / 2\n",
    "\n",
    "from simulators import Simulator\n",
    "from inputs import process_rmf\n",
    "\n",
    "RMF = process_rmf(np.loadtxt('source_analysis/rmf.txt'))\n",
    "ARF = np.loadtxt('source_analysis/arf.txt')\n",
    "x0 = np.loadtxt('source_analysis/counts.txt')\n",
    "\n",
    "T = 14479\n",
    "delta_t = 3.2\n",
    "delta_b = 0.01\n",
    "\n",
    "class XspecModel:\n",
    "    def __init__(self):\n",
    "        self.model = xspec.XSvapec()\n",
    "\n",
    "    def get_rate(self, params):\n",
    "        self.model.kT = params[0]\n",
    "        self.model.norm = params[1]\n",
    "        return self.model(e_lo, e_hi) * delta_t * delta_b * ARF\n",
    "\n",
    "def simulate_simple(params):\n",
    "    model = XspecModel()\n",
    "    simulator =  Simulator(\n",
    "        spectrum=model, \n",
    "        time_steps=T, \n",
    "        pileup='channels', \n",
    "        in_RMF=RMF, \n",
    "        in_ARF=ARF, \n",
    "        in_ENERGY_BINS=e_bar,\n",
    "        alpha=0.5)\n",
    "    data = simulator(params)\n",
    "    return np.bincount(data, minlength=1025)[1:]\n",
    "\n",
    "\n",
    "from tqdm import tqdm\n",
    "\n",
    "num_sims = 10000\n",
    "\n",
    "xs = np.zeros((num_sims, 1024))\n",
    "\n",
    "for idx in tqdm(range(num_sims)):\n",
    "    xs[idx] = simulate_simple(proposals[idx])\n",
    "\n",
    "np.save('xspec_outputs/theta_vapec_1.npy', proposals)\n",
    "np.save('xspec_outputs/x_vapec_1.npy', xs)"
   ]
  },
  {
   "cell_type": "markdown",
   "metadata": {},
   "source": [
    "# CHANGE KERNEL TO BASE"
   ]
  },
  {
   "cell_type": "code",
   "execution_count": 2,
   "metadata": {},
   "outputs": [
    {
     "name": "stdout",
     "output_type": "stream",
     "text": [
      " Neural network successfully converged after 25 epochs."
     ]
    }
   ],
   "source": [
    "import torch\n",
    "import numpy as np\n",
    "\n",
    "from sbi import utils as utils\n",
    "from sbi import analysis as analysis\n",
    "from sbi.neural_nets.embedding_nets import FCEmbedding\n",
    "from sbi.inference import SNPE\n",
    "from sbi.utils import posterior_nn\n",
    "from sbi_tools import BoxUniform\n",
    "\n",
    "theta = torch.Tensor(np.load('xspec_outputs/theta_vapec_1.npy'))\n",
    "x = torch.Tensor(np.load('xspec_outputs/x_vapec_1.npy'))\n",
    "x0 = torch.Tensor(np.loadtxt('source_analysis/counts.txt'))\n",
    "prior = BoxUniform(low=torch.tensor([0.1, 0.1]), high=torch.tensor([50, 50]))\n",
    "embedding_net = FCEmbedding(input_dim=1024, output_dim=100, num_layers=3, num_hiddens=1024)\n",
    "neural_posterior = posterior_nn(\n",
    "    model=\"maf\", \n",
    "    embedding_net=embedding_net, \n",
    "    hidden_features=300, \n",
    "    num_transforms=5\n",
    ")\n",
    "\n",
    "inference = SNPE(\n",
    "    prior=prior, \n",
    "    density_estimator=neural_posterior\n",
    ")\n",
    "\n",
    "\n",
    "_ = inference.append_simulations(theta, x, proposal=prior).train()\n",
    "posterior = inference.build_posterior().set_default_x(x0)\n"
   ]
  },
  {
   "cell_type": "code",
   "execution_count": 5,
   "metadata": {},
   "outputs": [
    {
     "name": "stderr",
     "output_type": "stream",
     "text": [
      "Drawing 100000 posterior samples:   0%|          | 0/100000 [00:00<?, ?it/s]"
     ]
    },
    {
     "name": "stderr",
     "output_type": "stream",
     "text": [
      "Drawing 100000 posterior samples: 100%|██████████| 100000/100000 [00:10<00:00, 9513.26it/s]\n"
     ]
    },
    {
     "data": {
      "image/png": "[encoded data removed]",
      "text/plain": [
       "<Figure size 360x360 with 4 Axes>"
      ]
     },
     "metadata": {
      "needs_background": "light"
     },
     "output_type": "display_data"
    }
   ],
   "source": [
    "samples = posterior.sample((100000,), x=x0)\n",
    "fig, axes = analysis.pairplot(\n",
    "    samples,\n",
    "    limits=[[0.1, 50], [0.1, 50]],\n",
    "    ticks=[[0.1, 50], [0.1, 1,2,3,4,5,6,7,8,9,10]],\n",
    "    figsize=(5, 5),\n",
    "    points_offdiag={\"markersize\": 6},\n",
    "    points_colors=\"r\",\n",
    "    labels=['kT', 'norm']\n",
    ")"
   ]
  },
  {
   "cell_type": "code",
   "execution_count": 12,
   "metadata": {},
   "outputs": [
    {
     "data": {
      "text/plain": [
       "array([3.1243284, 2.1991422], dtype=float32)"
      ]
     },
     "execution_count": 12,
     "metadata": {},
     "output_type": "execute_result"
    }
   ],
   "source": [
    "np.mean(np.array(samples), axis=0)"
   ]
  },
  {
   "cell_type": "code",
   "execution_count": null,
   "metadata": {},
   "outputs": [],
   "source": []
  }
 ],
 "metadata": {
  "kernelspec": {
   "display_name": "sherpa",
   "language": "python",
   "name": "python3"
  },
  "language_info": {
   "codemirror_mode": {
    "name": "ipython",
    "version": 3
   },
   "file_extension": ".py",
   "mimetype": "text/x-python",
   "name": "python",
   "nbconvert_exporter": "python",
   "pygments_lexer": "ipython3",
   "version": "3.10.1"
  }
 },
 "nbformat": 4,
 "nbformat_minor": 2
}
