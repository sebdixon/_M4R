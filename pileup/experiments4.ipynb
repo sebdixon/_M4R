{
 "cells": [
  {
   "cell_type": "code",
   "execution_count": 1,
   "metadata": {},
   "outputs": [
    {
     "name": "stderr",
     "output_type": "stream",
     "text": [
      "/Library/Frameworks/Python.framework/Versions/3.10/lib/python3.10/site-packages/tqdm/auto.py:21: TqdmWarning: IProgress not found. Please update jupyter and ipywidgets. See https://ipywidgets.readthedocs.io/en/stable/user_install.html\n",
      "  from .autonotebook import tqdm as notebook_tqdm\n",
      "2024-05-09 11:54:03.328823: I tensorflow/core/platform/cpu_feature_guard.cc:193] This TensorFlow binary is optimized with oneAPI Deep Neural Network Library (oneDNN) to use the following CPU instructions in performance-critical operations:  AVX2 AVX512F AVX512_VNNI FMA\n",
      "To enable them in other operations, rebuild TensorFlow with the appropriate compiler flags.\n"
     ]
    }
   ],
   "source": [
    "import numpy as np\n",
    "import torch\n",
    "from sbi import utils as utils\n",
    "from sbi import analysis as analysis\n",
    "from utils.data_formats import timeseries_to_channels\n",
    "from simulators import Simulator\n",
    "from spectralcomponents import PowerLaw, DeltaEmissionLine, Spectrum, BrokenPowerLaw\n",
    "from sbi.inference import SNRE_B, SNLE, prepare_for_sbi, simulate_for_sbi\n",
    "from sbi.neural_nets.embedding_nets import FCEmbedding, CNNEmbedding, PermutationInvariantEmbedding\n",
    "from sbi_tools import BoxUniform\n",
    "from sbi.inference import SNPE\n",
    "from sbi.utils import posterior_nn, likelihood_nn\n",
    "from matplotlib import pyplot as plt\n",
    "\n",
    "\n",
    "\n",
    "c1 = PowerLaw()\n",
    "c2 = DeltaEmissionLine()\n",
    "spectrum = Spectrum(c1, c2)\n",
    "\n",
    "prior = BoxUniform(low=torch.tensor([0.1, 0.1, 0.1, 0.1]), \n",
    "                   high=torch.tensor([2, 5, 100, 11]))\n",
    "def simulate_simple(params):\n",
    "    #alpha = float(params[-1].numpy())\n",
    "    simulator =  Simulator(spectrum, 10000, pileup='channels', alpha=0.7)\n",
    "    data = simulator(params)\n",
    "    return np.bincount(data, minlength=1025)[1:]"
   ]
  },
  {
   "cell_type": "code",
   "execution_count": 2,
   "metadata": {},
   "outputs": [
    {
     "data": {
      "text/plain": [
       "[<matplotlib.lines.Line2D at 0x15298ebf0>]"
      ]
     },
     "execution_count": 2,
     "metadata": {},
     "output_type": "execute_result"
    },
    {
     "data": {
      "image/png": "[encoded data removed]",
      "text/plain": [
       "<Figure size 432x288 with 1 Axes>"
      ]
     },
     "metadata": {
      "needs_background": "light"
     },
     "output_type": "display_data"
    }
   ],
   "source": [
    "true_params = (0.4,2, 10,2)\n",
    "x0 = simulate_simple(true_params)\n",
    "plt.plot(x0)"
   ]
  },
  {
   "cell_type": "markdown",
   "metadata": {},
   "source": [
    "# SNPE"
   ]
  },
  {
   "cell_type": "code",
   "execution_count": 3,
   "metadata": {},
   "outputs": [
    {
     "name": "stderr",
     "output_type": "stream",
     "text": [
      "Running 200 simulations.: 100%|██████████| 200/200 [01:21<00:00,  2.44it/s]\n"
     ]
    },
    {
     "name": "stdout",
     "output_type": "stream",
     "text": [
      " Neural network successfully converged after 32 epochs."
     ]
    },
    {
     "name": "stderr",
     "output_type": "stream",
     "text": [
      "Drawing 200 posterior samples:   0%|          | 0/200 [00:00<?, ?it/s]/Library/Frameworks/Python.framework/Versions/3.10/lib/python3.10/site-packages/nflows/transforms/lu.py:80: UserWarning: torch.triangular_solve is deprecated in favor of torch.linalg.solve_triangularand will be removed in a future PyTorch release.\n",
      "torch.linalg.solve_triangular has its arguments reversed and does not return a copy of one of the inputs.\n",
      "X = torch.triangular_solve(B, A).solution\n",
      "should be replaced with\n",
      "X = torch.linalg.solve_triangular(A, B). (Triggered internally at /Users/runner/work/pytorch/pytorch/pytorch/aten/src/ATen/native/BatchLinearAlgebra.cpp:2198.)\n",
      "  outputs, _ = torch.triangular_solve(\n",
      "Drawing 200 posterior samples: 248it [00:00, 2102.44it/s]             \n",
      "Running 200 simulations.: 100%|██████████| 200/200 [01:40<00:00,  1.99it/s]\n"
     ]
    },
    {
     "name": "stdout",
     "output_type": "stream",
     "text": [
      "Using SNPE-C with atomic loss\n",
      " Neural network successfully converged after 34 epochs."
     ]
    },
    {
     "name": "stderr",
     "output_type": "stream",
     "text": [
      "Drawing 200 posterior samples: 224it [00:00, 1787.25it/s]             \n",
      "Running 200 simulations.: 100%|██████████| 200/200 [01:33<00:00,  2.13it/s]\n"
     ]
    },
    {
     "name": "stdout",
     "output_type": "stream",
     "text": [
      "Using SNPE-C with atomic loss\n",
      " Neural network successfully converged after 67 epochs."
     ]
    },
    {
     "name": "stderr",
     "output_type": "stream",
     "text": [
      "Drawing 200 posterior samples: 234it [00:00, 2410.73it/s]             \n",
      "Running 200 simulations.: 100%|██████████| 200/200 [01:12<00:00,  2.75it/s]\n"
     ]
    },
    {
     "name": "stdout",
     "output_type": "stream",
     "text": [
      "Using SNPE-C with atomic loss\n",
      " Neural network successfully converged after 41 epochs."
     ]
    },
    {
     "name": "stderr",
     "output_type": "stream",
     "text": [
      "Drawing 200 posterior samples: 236it [00:00, 655.47it/s]                        \n",
      "Running 200 simulations.: 100%|██████████| 200/200 [01:46<00:00,  1.88it/s]\n"
     ]
    },
    {
     "name": "stdout",
     "output_type": "stream",
     "text": [
      "Using SNPE-C with atomic loss\n",
      " Neural network successfully converged after 28 epochs."
     ]
    },
    {
     "name": "stderr",
     "output_type": "stream",
     "text": [
      "Drawing 200 posterior samples: 246it [00:00, 1838.09it/s]             \n",
      "Running 200 simulations.: 100%|██████████| 200/200 [01:36<00:00,  2.06it/s]\n"
     ]
    },
    {
     "name": "stdout",
     "output_type": "stream",
     "text": [
      "Using SNPE-C with atomic loss\n",
      " Neural network successfully converged after 58 epochs."
     ]
    },
    {
     "name": "stderr",
     "output_type": "stream",
     "text": [
      "Drawing 200 posterior samples: 231it [00:00, 1370.00it/s]             \n",
      "Running 200 simulations.: 100%|██████████| 200/200 [01:19<00:00,  2.52it/s]\n"
     ]
    },
    {
     "name": "stdout",
     "output_type": "stream",
     "text": [
      "Using SNPE-C with atomic loss\n",
      " Neural network successfully converged after 28 epochs."
     ]
    },
    {
     "name": "stderr",
     "output_type": "stream",
     "text": [
      "Drawing 200 posterior samples: 270it [00:00, 2307.99it/s]             \n",
      "Running 200 simulations.: 100%|██████████| 200/200 [01:40<00:00,  1.98it/s]\n"
     ]
    },
    {
     "name": "stdout",
     "output_type": "stream",
     "text": [
      "Using SNPE-C with atomic loss\n",
      " Neural network successfully converged after 49 epochs."
     ]
    },
    {
     "name": "stderr",
     "output_type": "stream",
     "text": [
      "Drawing 200 posterior samples: 248it [00:00, 1439.00it/s]             \n",
      "Running 200 simulations.: 100%|██████████| 200/200 [01:27<00:00,  2.28it/s]\n"
     ]
    },
    {
     "name": "stdout",
     "output_type": "stream",
     "text": [
      "Using SNPE-C with atomic loss\n",
      " Neural network successfully converged after 35 epochs."
     ]
    },
    {
     "name": "stderr",
     "output_type": "stream",
     "text": [
      "Drawing 200 posterior samples: 235it [00:00, 2423.16it/s]             \n",
      "Running 200 simulations.: 100%|██████████| 200/200 [01:29<00:00,  2.22it/s]\n"
     ]
    },
    {
     "name": "stdout",
     "output_type": "stream",
     "text": [
      "Using SNPE-C with atomic loss\n",
      " Neural network successfully converged after 21 epochs."
     ]
    }
   ],
   "source": [
    "\n",
    "embedding_net = FCEmbedding(input_dim=1024, output_dim=100, num_layers=3, num_hiddens=1024)\n",
    "neural_posterior = posterior_nn(\n",
    "    model=\"nsf\", \n",
    "    embedding_net=embedding_net, \n",
    "    hidden_features=200, \n",
    "    num_transforms=5\n",
    ")\n",
    "\n",
    "inference = SNPE(\n",
    "    prior=prior, \n",
    "    density_estimator=neural_posterior\n",
    ")\n",
    "\n",
    "simulator, prior = prepare_for_sbi(simulate_simple, prior)\n",
    "\n",
    "proposal = prior\n",
    "num_rounds = 10\n",
    "num_sims = 200\n",
    "for _ in range(num_rounds):\n",
    "    theta, x = simulate_for_sbi(simulator, proposal, num_sims)\n",
    "    _ = inference.append_simulations(theta, x, proposal=proposal).train()\n",
    "    posterior = inference.build_posterior().set_default_x(x0)\n",
    "    proposal = posterior"
   ]
  },
  {
   "cell_type": "code",
   "execution_count": 7,
   "metadata": {},
   "outputs": [
    {
     "name": "stderr",
     "output_type": "stream",
     "text": [
      "Drawing 100000 posterior samples: 100353it [00:22, 4460.53it/s]                           \n"
     ]
    },
    {
     "data": {
      "text/plain": [
       "(<Figure size 720x720 with 16 Axes>,\n",
       " array([[<AxesSubplot:xlabel='alpha'>, <AxesSubplot:>, <AxesSubplot:>,\n",
       "         <AxesSubplot:>],\n",
       "        [<AxesSubplot:>, <AxesSubplot:xlabel='beta'>, <AxesSubplot:>,\n",
       "         <AxesSubplot:>],\n",
       "        [<AxesSubplot:>, <AxesSubplot:>,\n",
       "         <AxesSubplot:xlabel='scale of line'>, <AxesSubplot:>],\n",
       "        [<AxesSubplot:>, <AxesSubplot:>, <AxesSubplot:>,\n",
       "         <AxesSubplot:xlabel='line_position'>]], dtype=object))"
      ]
     },
     "execution_count": 7,
     "metadata": {},
     "output_type": "execute_result"
    },
    {
     "data": {
      "image/png": "[encoded data removed]",
      "text/plain": [
       "<Figure size 720x720 with 16 Axes>"
      ]
     },
     "metadata": {
      "needs_background": "light"
     },
     "output_type": "display_data"
    }
   ],
   "source": [
    "samples = posterior.sample((100000,), x=x0)\n",
    "\n",
    "analysis.pairplot(samples, \n",
    "                  limits=[[0, 2], [0, 5], [0, 100], [0, 11]], \n",
    "                  points=true_params, \n",
    "                  points_offdiag={'markersize': 6}, \n",
    "                  points_colors='r',\n",
    "                  labels=['alpha', 'beta', 'scale of line', 'line_position'],)"
   ]
  },
  {
   "cell_type": "code",
   "execution_count": 8,
   "metadata": {},
   "outputs": [],
   "source": [
    "torch.save(posterior, 'simulated_data/power_law_emission_line/posterior_params0.2_4_10_2.pt')"
   ]
  },
  {
   "cell_type": "code",
   "execution_count": null,
   "metadata": {},
   "outputs": [],
   "source": [
    "# MCMC sampling on true posterior\n",
    "# "
   ]
  }
 ],
 "metadata": {
  "kernelspec": {
   "display_name": "Python 3",
   "language": "python",
   "name": "python3"
  },
  "language_info": {
   "codemirror_mode": {
    "name": "ipython",
    "version": 3
   },
   "file_extension": ".py",
   "mimetype": "text/x-python",
   "name": "python",
   "nbconvert_exporter": "python",
   "pygments_lexer": "ipython3",
   "version": "3.10.1"
  }
 },
 "nbformat": 4,
 "nbformat_minor": 2
}
