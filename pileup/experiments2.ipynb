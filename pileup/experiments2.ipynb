{
 "cells": [
  {
   "cell_type": "code",
   "execution_count": 2,
   "metadata": {},
   "outputs": [
    {
     "name": "stderr",
     "output_type": "stream",
     "text": [
      "/Library/Frameworks/Python.framework/Versions/3.10/lib/python3.10/site-packages/tqdm/auto.py:21: TqdmWarning: IProgress not found. Please update jupyter and ipywidgets. See https://ipywidgets.readthedocs.io/en/stable/user_install.html\n",
      "  from .autonotebook import tqdm as notebook_tqdm\n",
      "2024-03-05 14:33:45.741827: I tensorflow/core/platform/cpu_feature_guard.cc:193] This TensorFlow binary is optimized with oneAPI Deep Neural Network Library (oneDNN) to use the following CPU instructions in performance-critical operations:  AVX2 AVX512F AVX512_VNNI FMA\n",
      "To enable them in other operations, rebuild TensorFlow with the appropriate compiler flags.\n"
     ]
    }
   ],
   "source": [
    "import numpy as np\n",
    "import torch\n",
    "from matplotlib import pyplot as plt\n",
    "from sbi.inference.base import infer\n",
    "from sbi import utils as utils\n",
    "from sbi import analysis as analysis\n",
    "from torch.distributions import Normal"
   ]
  },
  {
   "cell_type": "code",
   "execution_count": 3,
   "metadata": {},
   "outputs": [],
   "source": [
    "from sbi_tools import TruncatedNormal, get_SNPE_posterior, SymmetricTruncatedNormal\n",
    "from simulators import Simulator\n",
    "from spectralcomponents import PowerLaw, GaussianEmissionLine"
   ]
  },
  {
   "cell_type": "code",
   "execution_count": 1,
   "metadata": {},
   "outputs": [],
   "source": [
    "def get_SNPE_posterior(prior, simulator, **args):\n",
    "    simulator, prior = prepare_for_sbi(simulator, prior)\n",
    "    inference = SNPE(prior)\n",
    "    theta, x = simulate_for_sbi(simulator, proposal=prior, **args)\n",
    "    density_estimator = inference.append_simulations(theta, x).train()\n",
    "    posterior = inference.build_posterior(density_estimator)\n",
    "    return posterior\n",
    "\n",
    "\n",
    "def get_SNRE_posterior(prior, simulator, num_sims, x_o):\n",
    "    # Amortized inference\n",
    "    # This doesn't yet work\n",
    "    inference = SNRE_C(prior)\n",
    "    proposal = prior\n",
    "    theta = proposal.sample((num_sims,))\n",
    "    x = simulator(theta)\n",
    "    _ = inference.append_simulations(theta, x).train(\n",
    "        num_classes=5,\n",
    "        gamma=1.0,\n",
    "    )\n",
    "    posterior = inference.build_posterior()\n",
    "    return posterior"
   ]
  },
  {
   "cell_type": "code",
   "execution_count": 4,
   "metadata": {},
   "outputs": [
    {
     "name": "stderr",
     "output_type": "stream",
     "text": [
      "/Library/Frameworks/Python.framework/Versions/3.10/lib/python3.10/site-packages/sbi/utils/user_input_checks.py:76: UserWarning: Prior was provided as a sequence of 2 priors. They will be\n",
      "            interpreted as independent of each other and matched in order to the\n",
      "            components of the parameter.\n",
      "  warnings.warn(\n",
      "Running 1000 simulations.:  61%|██████    | 607/1000 [00:45<01:04,  6.11it/s]"
     ]
    }
   ],
   "source": [
    "c1 = PowerLaw()\n",
    "true_params = (1, 1)\n",
    "\n",
    "prior = [SymmetricTruncatedNormal(loc=torch.tensor([0.0]), scale=torch.tensor([1.0])),\n",
    "         SymmetricTruncatedNormal(loc=torch.tensor([0.0]), scale=torch.tensor([1.0])),]\n",
    "\n",
    "def simulate_simple(params):\n",
    "    simulator =  Simulator(c1, 1000, pileup='channels')\n",
    "    return simulator((params))\n",
    "\n",
    "posterior = get_SNPE_posterior(prior, simulate_simple, num_simulations=1000)"
   ]
  },
  {
   "cell_type": "code",
   "execution_count": null,
   "metadata": {},
   "outputs": [],
   "source": []
  }
 ],
 "metadata": {
  "kernelspec": {
   "display_name": "Python 3",
   "language": "python",
   "name": "python3"
  },
  "language_info": {
   "codemirror_mode": {
    "name": "ipython",
    "version": 3
   },
   "file_extension": ".py",
   "mimetype": "text/x-python",
   "name": "python",
   "nbconvert_exporter": "python",
   "pygments_lexer": "ipython3",
   "version": "3.10.1"
  }
 },
 "nbformat": 4,
 "nbformat_minor": 2
}
