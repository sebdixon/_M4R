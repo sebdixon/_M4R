{
 "cells": [
  {
   "cell_type": "code",
   "execution_count": 1,
   "id": "a0720742",
   "metadata": {},
   "outputs": [
    {
     "name": "stdout",
     "output_type": "stream",
     "text": [
      "Collecting sbi\n",
      "  Downloading sbi-0.21.0-py2.py3-none-any.whl (269 kB)\n",
      "\u001b[2K     \u001b[90m━━━━━━━━━━━━━━━━━━━━━━━━━━━━━━━━━━━━━━━\u001b[0m \u001b[32m269.3/269.3 kB\u001b[0m \u001b[31m5.1 MB/s\u001b[0m eta \u001b[36m0:00:00\u001b[0m00:01\u001b[0m\n",
      "\u001b[?25hCollecting pyro-ppl>=1.3.1\n",
      "  Downloading pyro_ppl-1.8.6-py3-none-any.whl (732 kB)\n",
      "\u001b[2K     \u001b[90m━━━━━━━━━━━━━━━━━━━━━━━━━━━━━━━━━━━━━━━\u001b[0m \u001b[32m732.8/732.8 kB\u001b[0m \u001b[31m3.9 MB/s\u001b[0m eta \u001b[36m0:00:00\u001b[0m00:01\u001b[0m00:01\u001b[0m\n",
      "\u001b[?25hRequirement already satisfied: scikit-learn in /Users/sebastiandixon/opt/anaconda3/lib/python3.9/site-packages (from sbi) (1.0.2)\n",
      "Requirement already satisfied: pillow in /Users/sebastiandixon/opt/anaconda3/lib/python3.9/site-packages (from sbi) (9.4.0)\n",
      "Requirement already satisfied: joblib>=1.0.0 in /Users/sebastiandixon/opt/anaconda3/lib/python3.9/site-packages (from sbi) (1.1.1)\n",
      "Requirement already satisfied: tqdm in /Users/sebastiandixon/opt/anaconda3/lib/python3.9/site-packages (from sbi) (4.64.1)\n",
      "Collecting arviz\n",
      "  Downloading arviz-0.16.1-py3-none-any.whl (1.7 MB)\n",
      "\u001b[2K     \u001b[90m━━━━━━━━━━━━━━━━━━━━━━━━━━━━━━━━━━━━━━━━\u001b[0m \u001b[32m1.7/1.7 MB\u001b[0m \u001b[31m4.1 MB/s\u001b[0m eta \u001b[36m0:00:00\u001b[0m00:01\u001b[0m00:01\u001b[0mm\n",
      "\u001b[?25hRequirement already satisfied: numpy in /Users/sebastiandixon/opt/anaconda3/lib/python3.9/site-packages (from sbi) (1.23.5)\n",
      "Collecting pyknos>=0.15.1\n",
      "  Downloading pyknos-0.15.1-py2.py3-none-any.whl (21 kB)\n",
      "Requirement already satisfied: matplotlib in /Users/sebastiandixon/opt/anaconda3/lib/python3.9/site-packages (from sbi) (3.7.0)\n",
      "Requirement already satisfied: tensorboard in /Users/sebastiandixon/opt/anaconda3/lib/python3.9/site-packages (from sbi) (2.10.0)\n",
      "Collecting torch>=1.8.0\n",
      "  Downloading torch-2.1.0-cp39-none-macosx_10_9_x86_64.whl (147.0 MB)\n",
      "\u001b[2K     \u001b[90m━━━━━━━━━━━━━━━━━━━━━━━━━━━━━━━━━━━━━━━\u001b[0m \u001b[32m147.0/147.0 MB\u001b[0m \u001b[31m2.2 MB/s\u001b[0m eta \u001b[36m0:00:00\u001b[0m00:01\u001b[0m00:01\u001b[0m\n",
      "\u001b[?25hRequirement already satisfied: scipy in /Users/sebastiandixon/opt/anaconda3/lib/python3.9/site-packages (from sbi) (1.10.0)\n",
      "Collecting nflows==0.14\n",
      "  Downloading nflows-0.14.tar.gz (45 kB)\n",
      "\u001b[2K     \u001b[90m━━━━━━━━━━━━━━━━━━━━━━━━━━━━━━━━━━━━━━━━\u001b[0m \u001b[32m45.8/45.8 kB\u001b[0m \u001b[31m1.4 MB/s\u001b[0m eta \u001b[36m0:00:00\u001b[0m\n",
      "\u001b[?25h  Preparing metadata (setup.py) ... \u001b[?25ldone\n",
      "\u001b[?25hRequirement already satisfied: opt-einsum>=2.3.2 in /Users/sebastiandixon/opt/anaconda3/lib/python3.9/site-packages (from pyro-ppl>=1.3.1->sbi) (3.3.0)\n",
      "Collecting pyro-api>=0.1.1\n",
      "  Downloading pyro_api-0.1.2-py3-none-any.whl (11 kB)\n",
      "Requirement already satisfied: sympy in /Users/sebastiandixon/opt/anaconda3/lib/python3.9/site-packages (from torch>=1.8.0->sbi) (1.11.1)\n",
      "Requirement already satisfied: fsspec in /Users/sebastiandixon/opt/anaconda3/lib/python3.9/site-packages (from torch>=1.8.0->sbi) (2022.11.0)\n",
      "Requirement already satisfied: typing-extensions in /Users/sebastiandixon/opt/anaconda3/lib/python3.9/site-packages (from torch>=1.8.0->sbi) (4.4.0)\n",
      "Requirement already satisfied: networkx in /Users/sebastiandixon/opt/anaconda3/lib/python3.9/site-packages (from torch>=1.8.0->sbi) (2.8.4)\n",
      "Requirement already satisfied: filelock in /Users/sebastiandixon/opt/anaconda3/lib/python3.9/site-packages (from torch>=1.8.0->sbi) (3.9.0)\n",
      "Requirement already satisfied: jinja2 in /Users/sebastiandixon/opt/anaconda3/lib/python3.9/site-packages (from torch>=1.8.0->sbi) (2.11.3)\n",
      "Collecting xarray-einstats>=0.3\n",
      "  Downloading xarray_einstats-0.6.0-py3-none-any.whl (31 kB)\n",
      "Requirement already satisfied: xarray>=0.21.0 in /Users/sebastiandixon/opt/anaconda3/lib/python3.9/site-packages (from arviz->sbi) (2022.11.0)\n",
      "Requirement already satisfied: setuptools>=60.0.0 in /Users/sebastiandixon/opt/anaconda3/lib/python3.9/site-packages (from arviz->sbi) (65.6.3)\n",
      "Collecting h5netcdf>=1.0.2\n",
      "  Downloading h5netcdf-1.2.0-py3-none-any.whl (43 kB)\n",
      "\u001b[2K     \u001b[90m━━━━━━━━━━━━━━━━━━━━━━━━━━━━━━━━━━━━━━━━\u001b[0m \u001b[32m43.3/43.3 kB\u001b[0m \u001b[31m1.4 MB/s\u001b[0m eta \u001b[36m0:00:00\u001b[0m\n",
      "\u001b[?25hRequirement already satisfied: packaging in /Users/sebastiandixon/opt/anaconda3/lib/python3.9/site-packages (from arviz->sbi) (22.0)\n",
      "Requirement already satisfied: pandas>=1.3.0 in /Users/sebastiandixon/opt/anaconda3/lib/python3.9/site-packages (from arviz->sbi) (1.4.4)\n",
      "Requirement already satisfied: python-dateutil>=2.7 in /Users/sebastiandixon/opt/anaconda3/lib/python3.9/site-packages (from matplotlib->sbi) (2.8.2)\n",
      "Requirement already satisfied: importlib-resources>=3.2.0 in /Users/sebastiandixon/opt/anaconda3/lib/python3.9/site-packages (from matplotlib->sbi) (5.2.0)\n",
      "Requirement already satisfied: contourpy>=1.0.1 in /Users/sebastiandixon/opt/anaconda3/lib/python3.9/site-packages (from matplotlib->sbi) (1.0.5)\n",
      "Requirement already satisfied: cycler>=0.10 in /Users/sebastiandixon/opt/anaconda3/lib/python3.9/site-packages (from matplotlib->sbi) (0.11.0)\n",
      "Requirement already satisfied: kiwisolver>=1.0.1 in /Users/sebastiandixon/opt/anaconda3/lib/python3.9/site-packages (from matplotlib->sbi) (1.4.4)\n",
      "Requirement already satisfied: pyparsing>=2.3.1 in /Users/sebastiandixon/opt/anaconda3/lib/python3.9/site-packages (from matplotlib->sbi) (3.0.9)\n",
      "Requirement already satisfied: fonttools>=4.22.0 in /Users/sebastiandixon/opt/anaconda3/lib/python3.9/site-packages (from matplotlib->sbi) (4.25.0)\n",
      "Requirement already satisfied: threadpoolctl>=2.0.0 in /Users/sebastiandixon/opt/anaconda3/lib/python3.9/site-packages (from scikit-learn->sbi) (2.2.0)\n",
      "Requirement already satisfied: grpcio>=1.24.3 in /Users/sebastiandixon/opt/anaconda3/lib/python3.9/site-packages (from tensorboard->sbi) (1.42.0)\n",
      "Requirement already satisfied: tensorboard-data-server<0.7.0,>=0.6.0 in /Users/sebastiandixon/opt/anaconda3/lib/python3.9/site-packages (from tensorboard->sbi) (0.6.1)\n",
      "Requirement already satisfied: wheel>=0.26 in /Users/sebastiandixon/opt/anaconda3/lib/python3.9/site-packages (from tensorboard->sbi) (0.35.1)\n",
      "Collecting protobuf<3.20,>=3.9.2\n",
      "  Downloading protobuf-3.19.6-cp39-cp39-macosx_10_9_x86_64.whl (980 kB)\n",
      "\u001b[2K     \u001b[90m━━━━━━━━━━━━━━━━━━━━━━━━━━━━━━━━━━━━━━━\u001b[0m \u001b[32m980.5/980.5 kB\u001b[0m \u001b[31m6.2 MB/s\u001b[0m eta \u001b[36m0:00:00\u001b[0m00:01\u001b[0m00:01\u001b[0m\n",
      "\u001b[?25hRequirement already satisfied: requests<3,>=2.21.0 in /Users/sebastiandixon/opt/anaconda3/lib/python3.9/site-packages (from tensorboard->sbi) (2.28.1)\n",
      "Requirement already satisfied: google-auth<3,>=1.6.3 in /Users/sebastiandixon/opt/anaconda3/lib/python3.9/site-packages (from tensorboard->sbi) (2.6.0)\n",
      "Requirement already satisfied: tensorboard-plugin-wit>=1.6.0 in /Users/sebastiandixon/opt/anaconda3/lib/python3.9/site-packages (from tensorboard->sbi) (1.6.0)\n",
      "Requirement already satisfied: werkzeug>=1.0.1 in /Users/sebastiandixon/opt/anaconda3/lib/python3.9/site-packages (from tensorboard->sbi) (2.0.3)\n",
      "Requirement already satisfied: markdown>=2.6.8 in /Users/sebastiandixon/opt/anaconda3/lib/python3.9/site-packages (from tensorboard->sbi) (3.4.1)\n",
      "Requirement already satisfied: google-auth-oauthlib<0.5,>=0.4.1 in /Users/sebastiandixon/opt/anaconda3/lib/python3.9/site-packages (from tensorboard->sbi) (0.4.4)\n",
      "Requirement already satisfied: absl-py>=0.4 in /Users/sebastiandixon/opt/anaconda3/lib/python3.9/site-packages (from tensorboard->sbi) (1.3.0)\n",
      "Requirement already satisfied: cachetools<6.0,>=2.0.0 in /Users/sebastiandixon/opt/anaconda3/lib/python3.9/site-packages (from google-auth<3,>=1.6.3->tensorboard->sbi) (4.2.2)\n",
      "Requirement already satisfied: pyasn1-modules>=0.2.1 in /Users/sebastiandixon/opt/anaconda3/lib/python3.9/site-packages (from google-auth<3,>=1.6.3->tensorboard->sbi) (0.2.8)\n",
      "Requirement already satisfied: rsa<5,>=3.1.4 in /Users/sebastiandixon/opt/anaconda3/lib/python3.9/site-packages (from google-auth<3,>=1.6.3->tensorboard->sbi) (4.7.2)\n",
      "Requirement already satisfied: six>=1.9.0 in /Users/sebastiandixon/opt/anaconda3/lib/python3.9/site-packages (from google-auth<3,>=1.6.3->tensorboard->sbi) (1.16.0)\n",
      "Requirement already satisfied: requests-oauthlib>=0.7.0 in /Users/sebastiandixon/opt/anaconda3/lib/python3.9/site-packages (from google-auth-oauthlib<0.5,>=0.4.1->tensorboard->sbi) (1.3.0)\n",
      "Requirement already satisfied: h5py in /Users/sebastiandixon/opt/anaconda3/lib/python3.9/site-packages (from h5netcdf>=1.0.2->arviz->sbi) (3.7.0)\n",
      "Requirement already satisfied: zipp>=3.1.0 in /Users/sebastiandixon/opt/anaconda3/lib/python3.9/site-packages (from importlib-resources>=3.2.0->matplotlib->sbi) (3.11.0)\n"
     ]
    },
    {
     "name": "stdout",
     "output_type": "stream",
     "text": [
      "Requirement already satisfied: importlib-metadata>=4.4 in /Users/sebastiandixon/opt/anaconda3/lib/python3.9/site-packages (from markdown>=2.6.8->tensorboard->sbi) (4.11.3)\n",
      "Requirement already satisfied: pytz>=2020.1 in /Users/sebastiandixon/opt/anaconda3/lib/python3.9/site-packages (from pandas>=1.3.0->arviz->sbi) (2022.7)\n",
      "Requirement already satisfied: certifi>=2017.4.17 in /Users/sebastiandixon/opt/anaconda3/lib/python3.9/site-packages (from requests<3,>=2.21.0->tensorboard->sbi) (2022.12.7)\n",
      "Requirement already satisfied: urllib3<1.27,>=1.21.1 in /Users/sebastiandixon/opt/anaconda3/lib/python3.9/site-packages (from requests<3,>=2.21.0->tensorboard->sbi) (1.26.14)\n",
      "Requirement already satisfied: charset-normalizer<3,>=2 in /Users/sebastiandixon/opt/anaconda3/lib/python3.9/site-packages (from requests<3,>=2.21.0->tensorboard->sbi) (2.0.4)\n",
      "Requirement already satisfied: idna<4,>=2.5 in /Users/sebastiandixon/opt/anaconda3/lib/python3.9/site-packages (from requests<3,>=2.21.0->tensorboard->sbi) (3.4)\n",
      "Requirement already satisfied: MarkupSafe>=0.23 in /Users/sebastiandixon/opt/anaconda3/lib/python3.9/site-packages (from jinja2->torch>=1.8.0->sbi) (2.0.1)\n",
      "Requirement already satisfied: mpmath>=0.19 in /Users/sebastiandixon/opt/anaconda3/lib/python3.9/site-packages (from sympy->torch>=1.8.0->sbi) (1.2.1)\n",
      "Requirement already satisfied: pyasn1<0.5.0,>=0.4.6 in /Users/sebastiandixon/opt/anaconda3/lib/python3.9/site-packages (from pyasn1-modules>=0.2.1->google-auth<3,>=1.6.3->tensorboard->sbi) (0.4.8)\n",
      "Requirement already satisfied: oauthlib>=3.0.0 in /Users/sebastiandixon/opt/anaconda3/lib/python3.9/site-packages (from requests-oauthlib>=0.7.0->google-auth-oauthlib<0.5,>=0.4.1->tensorboard->sbi) (3.2.1)\n",
      "Building wheels for collected packages: nflows\n",
      "  Building wheel for nflows (setup.py) ... \u001b[?25ldone\n",
      "\u001b[?25h  Created wheel for nflows: filename=nflows-0.14-py3-none-any.whl size=53654 sha256=f545c3646288bfc56c2114970217e3a894e1da681f5219b87643bedfed47fc6e\n",
      "  Stored in directory: /Users/sebastiandixon/Library/Caches/pip/wheels/e1/08/10/19b7420ee82c99f10c57f6b50c982f7416722490133cc85bc3\n",
      "Successfully built nflows\n",
      "Installing collected packages: pyro-api, protobuf, torch, h5netcdf, pyro-ppl, xarray-einstats, nflows, arviz, pyknos, sbi\n",
      "  Attempting uninstall: protobuf\n",
      "    Found existing installation: protobuf 3.20.3\n",
      "    Uninstalling protobuf-3.20.3:\n",
      "      Successfully uninstalled protobuf-3.20.3\n",
      "\u001b[31mERROR: pip's dependency resolver does not currently take into account all the packages that are installed. This behaviour is the source of the following dependency conflicts.\n",
      "tensorflow 2.10.0 requires libclang>=13.0.0, which is not installed.\n",
      "tensorflow 2.10.0 requires tensorflow-io-gcs-filesystem>=0.23.1, which is not installed.\u001b[0m\u001b[31m\n",
      "\u001b[0mSuccessfully installed arviz-0.16.1 h5netcdf-1.2.0 nflows-0.14 protobuf-3.19.6 pyknos-0.15.1 pyro-api-0.1.2 pyro-ppl-1.8.6 sbi-0.21.0 torch-2.1.0 xarray-einstats-0.6.0\n",
      "Note: you may need to restart the kernel to use updated packages.\n"
     ]
    }
   ],
   "source": [
    "#pip install sbi"
   ]
  },
  {
   "cell_type": "code",
   "execution_count": 2,
   "id": "5f167597",
   "metadata": {},
   "outputs": [
    {
     "name": "stderr",
     "output_type": "stream",
     "text": [
      "2023-11-01 18:06:11.478593: I tensorflow/core/platform/cpu_feature_guard.cc:193] This TensorFlow binary is optimized with oneAPI Deep Neural Network Library (oneDNN) to use the following CPU instructions in performance-critical operations:  SSE4.1 SSE4.2 AVX AVX2 AVX512F AVX512_VNNI FMA\n",
      "To enable them in other operations, rebuild TensorFlow with the appropriate compiler flags.\n"
     ]
    },
    {
     "data": {
      "application/vnd.jupyter.widget-view+json": {
       "model_id": "9ece02cc20594f9fa9884fdecfef1481",
       "version_major": 2,
       "version_minor": 0
      },
      "text/plain": [
       "Running 500 simulations.:   0%|          | 0/500 [00:00<?, ?it/s]"
      ]
     },
     "metadata": {},
     "output_type": "display_data"
    },
    {
     "name": "stdout",
     "output_type": "stream",
     "text": [
      " Neural network successfully converged after 47 epochs."
     ]
    },
    {
     "data": {
      "application/vnd.jupyter.widget-view+json": {
       "model_id": "e2752d8df2bb4a7ea3e5e8dfcefc881b",
       "version_major": 2,
       "version_minor": 0
      },
      "text/plain": [
       "Drawing 100 posterior samples:   0%|          | 0/100 [00:00<?, ?it/s]"
      ]
     },
     "metadata": {},
     "output_type": "display_data"
    },
    {
     "name": "stdout",
     "output_type": "stream",
     "text": [
      "Posterior conditional density p(θ|x) of type DirectPosterior. It samples the posterior network and rejects samples that\n",
      "            lie outside of the prior bounds.\n"
     ]
    }
   ],
   "source": [
    "from sbi.examples.minimal import simple\n",
    "posterior = simple()\n",
    "print(posterior)"
   ]
  },
  {
   "cell_type": "code",
   "execution_count": 2,
   "id": "e2400cce",
   "metadata": {},
   "outputs": [],
   "source": [
    "import torch\n",
    "import numpy as np\n",
    "import pandas as pd\n",
    "from matplotlib import pyplot as plt"
   ]
  },
  {
   "cell_type": "code",
   "execution_count": 3,
   "id": "5aab60af",
   "metadata": {},
   "outputs": [],
   "source": [
    "def lambda_E(E, alpha, beta=1):\n",
    "    return alpha * torch.tensor(E) ** -beta"
   ]
  },
  {
   "cell_type": "code",
   "execution_count": 54,
   "id": "45bd060f",
   "metadata": {},
   "outputs": [],
   "source": [
    "ARF = np.loadtxt('arf.txt') #value of element i is the probability that a photon \n",
    "#arriving with energy in the i-th bin is NOT detected\n",
    "energy_bins = np.loadtxt('energy_bins.txt') \n",
    "RMF = np.loadtxt('rmf.txt') #RMF is prob that photon with energy in bin j is recorded in channel i\n"
   ]
  },
  {
   "cell_type": "code",
   "execution_count": 55,
   "id": "950cd205",
   "metadata": {},
   "outputs": [],
   "source": [
    "RMF = (RMF.T / RMF.sum(axis=1)).T"
   ]
  },
  {
   "cell_type": "code",
   "execution_count": 56,
   "id": "f1cd1b4a",
   "metadata": {},
   "outputs": [
    {
     "data": {
      "text/plain": [
       "array([1., 1., 1., ..., 1., 1., 1.])"
      ]
     },
     "execution_count": 56,
     "metadata": {},
     "output_type": "execute_result"
    }
   ],
   "source": []
  },
  {
   "cell_type": "code",
   "execution_count": null,
   "id": "df30f8dd",
   "metadata": {},
   "outputs": [],
   "source": []
  },
  {
   "cell_type": "code",
   "execution_count": 6,
   "id": "1a9e459b",
   "metadata": {},
   "outputs": [],
   "source": [
    "e_bar = energy_bins + 0.005"
   ]
  },
  {
   "cell_type": "code",
   "execution_count": 7,
   "id": "25b46ef9",
   "metadata": {},
   "outputs": [
    {
     "data": {
      "text/plain": [
       "166.27875834713615"
      ]
     },
     "execution_count": 7,
     "metadata": {},
     "output_type": "execute_result"
    }
   ],
   "source": [
    "(1 / e_bar) @ ARF"
   ]
  },
  {
   "cell_type": "code",
   "execution_count": 8,
   "id": "035c6368",
   "metadata": {},
   "outputs": [],
   "source": [
    "def find_alpha(alpha_range=np.linspace(0.45,0.55,11)):\n",
    "    best_alpha = 0\n",
    "    for alpha in alpha_range:\n",
    "        T = 100000\n",
    "        pileup = 0\n",
    "        bin_width = 0.01\n",
    "        time_width = 1\n",
    "        e_bar = energy_bins + bin_width / 2\n",
    "        lambda_alpha = alpha / e_bar\n",
    "        for t in range(T):\n",
    "            xi_alpha = lambda_alpha @ ARF\n",
    "            rate = bin_width * time_width * np.sum(xi_alpha)\n",
    "            pileup_occurred = np.random.poisson(rate)\n",
    "            if pileup_occurred > 1:\n",
    "                pileup += 1\n",
    "        pileup_ratio = pileup / T\n",
    "        print (f'{alpha}: {pileup_ratio}')\n",
    "        if abs(pileup_ratio - 0.2) < 0.01:\n",
    "            return alpha"
   ]
  },
  {
   "cell_type": "code",
   "execution_count": 9,
   "id": "f414388a",
   "metadata": {},
   "outputs": [
    {
     "name": "stdout",
     "output_type": "stream",
     "text": [
      "0.45: 0.17187\n",
      "0.46: 0.18126\n",
      "0.47000000000000003: 0.18425\n",
      "0.48000000000000004: 0.19142\n"
     ]
    }
   ],
   "source": [
    "true_alpha = find_alpha()"
   ]
  },
  {
   "cell_type": "code",
   "execution_count": 10,
   "id": "8c54d08f",
   "metadata": {},
   "outputs": [],
   "source": [
    "true_alpha = 0.5"
   ]
  },
  {
   "cell_type": "code",
   "execution_count": 11,
   "id": "79e47fb2",
   "metadata": {},
   "outputs": [
    {
     "data": {
      "text/plain": [
       "array([ 0.305,  0.315,  0.325, ..., 10.975, 10.985, 10.995])"
      ]
     },
     "execution_count": 11,
     "metadata": {},
     "output_type": "execute_result"
    }
   ],
   "source": [
    "e_bar"
   ]
  },
  {
   "cell_type": "code",
   "execution_count": 12,
   "id": "c6858dc3",
   "metadata": {},
   "outputs": [
    {
     "data": {
      "text/plain": [
       "[<matplotlib.lines.Line2D at 0x7faa7502f8b0>]"
      ]
     },
     "execution_count": 12,
     "metadata": {},
     "output_type": "execute_result"
    },
    {
     "data": {
      "image/png": "[encoded data removed]",
      "text/plain": [
       "<Figure size 640x480 with 1 Axes>"
      ]
     },
     "metadata": {},
     "output_type": "display_data"
    }
   ],
   "source": [
    "plt.plot(np.linspace(0,1,100), lambda_E(np.linspace(0, 1, 100), true_alpha))"
   ]
  },
  {
   "cell_type": "code",
   "execution_count": 13,
   "id": "c08d9e3a",
   "metadata": {},
   "outputs": [],
   "source": [
    "alpha = 1\n",
    "beta = 1\n",
    "T = 1000\n",
    "bin_width = 0.01\n",
    "time_width = 1\n",
    "e_bar = energy_bins + bin_width / 2\n",
    "lambda_alpha = alpha / e_bar\n"
   ]
  },
  {
   "cell_type": "code",
   "execution_count": 14,
   "id": "69744999",
   "metadata": {},
   "outputs": [
    {
     "data": {
      "text/plain": [
       "(1070,)"
      ]
     },
     "execution_count": 14,
     "metadata": {},
     "output_type": "execute_result"
    }
   ],
   "source": [
    "e_bar.shape"
   ]
  },
  {
   "cell_type": "code",
   "execution_count": 15,
   "id": "fcb1a25c",
   "metadata": {},
   "outputs": [
    {
     "data": {
      "text/plain": [
       "(1070, 1024)"
      ]
     },
     "execution_count": 15,
     "metadata": {},
     "output_type": "execute_result"
    }
   ],
   "source": [
    "RMF.shape"
   ]
  },
  {
   "cell_type": "code",
   "execution_count": 16,
   "id": "70ddef1a",
   "metadata": {},
   "outputs": [
    {
     "data": {
      "text/plain": [
       "0.305"
      ]
     },
     "execution_count": 16,
     "metadata": {},
     "output_type": "execute_result"
    }
   ],
   "source": [
    "e_bar[0]"
   ]
  },
  {
   "cell_type": "code",
   "execution_count": 17,
   "id": "1d3acf2e",
   "metadata": {},
   "outputs": [
    {
     "data": {
      "text/plain": [
       "30.0"
      ]
     },
     "execution_count": 17,
     "metadata": {},
     "output_type": "execute_result"
    }
   ],
   "source": [
    "0.3/0.01"
   ]
  },
  {
   "cell_type": "code",
   "execution_count": 18,
   "id": "e132941f",
   "metadata": {},
   "outputs": [
    {
     "data": {
      "text/plain": [
       "[<matplotlib.lines.Line2D at 0x7faa75317d60>]"
      ]
     },
     "execution_count": 18,
     "metadata": {},
     "output_type": "execute_result"
    },
    {
     "data": {
      "image/png": "[encoded data removed]",
      "text/plain": [
       "<Figure size 640x480 with 1 Axes>"
      ]
     },
     "metadata": {},
     "output_type": "display_data"
    }
   ],
   "source": [
    "plt.plot(ARF)"
   ]
  },
  {
   "cell_type": "code",
   "execution_count": 19,
   "id": "8445b3e2",
   "metadata": {},
   "outputs": [
    {
     "data": {
      "text/plain": [
       "<matplotlib.image.AxesImage at 0x7faa75360cd0>"
      ]
     },
     "execution_count": 19,
     "metadata": {},
     "output_type": "execute_result"
    },
    {
     "data": {
      "image/png": "[encoded data removed]",
      "text/plain": [
       "<Figure size 640x480 with 1 Axes>"
      ]
     },
     "metadata": {},
     "output_type": "display_data"
    }
   ],
   "source": [
    "plt.imshow(RMF)"
   ]
  },
  {
   "cell_type": "code",
   "execution_count": 20,
   "id": "efbf9921",
   "metadata": {},
   "outputs": [
    {
     "data": {
      "text/plain": [
       "(1070,)"
      ]
     },
     "execution_count": 20,
     "metadata": {},
     "output_type": "execute_result"
    }
   ],
   "source": [
    "e_bar.shape"
   ]
  },
  {
   "cell_type": "code",
   "execution_count": 57,
   "id": "0a60ffc2",
   "metadata": {},
   "outputs": [],
   "source": [
    "RMF = np.vstack((np.zeros((30, 1024)), RMF))"
   ]
  },
  {
   "cell_type": "code",
   "execution_count": 27,
   "id": "11fc2448",
   "metadata": {},
   "outputs": [],
   "source": [
    "data = np.zeros((T, 1024))"
   ]
  },
  {
   "cell_type": "code",
   "execution_count": 35,
   "id": "11bb1150",
   "metadata": {},
   "outputs": [
    {
     "data": {
      "text/plain": [
       "(1100,)"
      ]
     },
     "execution_count": 35,
     "metadata": {},
     "output_type": "execute_result"
    }
   ],
   "source": [
    "rate = time_width * bin_width * lambda_E(e_bar, alpha, beta)\n",
    "rate = np.concatenate((np.zeros(30), np.array(rate)))\n",
    "rate *= np.concatenate((np.zeros(30), ARF))\n",
    "rate.shape"
   ]
  },
  {
   "cell_type": "code",
   "execution_count": 100,
   "id": "2d169924",
   "metadata": {},
   "outputs": [],
   "source": [
    "def simulate_data(alpha, beta):\n",
    "    T = 1000\n",
    "    data = []\n",
    "    for t in range(T):\n",
    "        rate = time_width * bin_width * lambda_E(e_bar, alpha, beta)\n",
    "        rate = np.concatenate((np.zeros(30), rate))\n",
    "        rate *= np.concatenate((np.zeros(30), ARF)) #effective area- how big the detector is\n",
    "        photons = np.random.poisson(rate) #bin space 1 to 1100\n",
    "        total_energy = 0\n",
    "        for i, n in enumerate(photons):\n",
    "            if n:\n",
    "                total_energy += n * i\n",
    "        #need to extend bins to 0\n",
    "        if total_energy == 0:\n",
    "            #data.append(0)\n",
    "            continue\n",
    "        \n",
    "        if total_energy < len(rate):\n",
    "            #need to get bin index from total energy\n",
    "            dist = np.random.multinomial(1, RMF[total_energy])\n",
    "            #assume photon takes lower bound of energy bin\n",
    "            #pad RMF to be 1100 x 1024\n",
    "            for i, n in enumerate(dist):\n",
    "                if n:\n",
    "                    data.append(i)\n",
    "                    continue\n",
    "    return np.array(data)\n"
   ]
  },
  {
   "cell_type": "code",
   "execution_count": 2,
   "id": "137f5a37",
   "metadata": {},
   "outputs": [],
   "source": [
    "class SpectralComponent():\n",
    "    def __init__(self, params):\n",
    "        self.params = params\n",
    "    def get_rate(self):\n",
    "        raise NotImplementedError()\n",
    "\n",
    "class PowerLaw(SpectralComponent):\n",
    "    def get_rate(self):\n",
    "        "
   ]
  },
  {
   "cell_type": "code",
   "execution_count": 1,
   "id": "545c3e95",
   "metadata": {},
   "outputs": [
    {
     "ename": "NameError",
     "evalue": "name 'simulate_data' is not defined",
     "output_type": "error",
     "traceback": [
      "\u001b[0;31m---------------------------------------------------------------------------\u001b[0m",
      "\u001b[0;31mNameError\u001b[0m                                 Traceback (most recent call last)",
      "Cell \u001b[0;32mIn[1], line 1\u001b[0m\n\u001b[0;32m----> 1\u001b[0m data \u001b[38;5;241m=\u001b[39m \u001b[43msimulate_data\u001b[49m(\u001b[38;5;241m1\u001b[39m,\u001b[38;5;241m1\u001b[39m)\n",
      "\u001b[0;31mNameError\u001b[0m: name 'simulate_data' is not defined"
     ]
    }
   ],
   "source": [
    "def simulator(rate:np.array):\n",
    "    "
   ]
  },
  {
   "cell_type": "code",
   "execution_count": 106,
   "id": "809c68ed",
   "metadata": {},
   "outputs": [
    {
     "data": {
      "text/plain": [
       "0"
      ]
     },
     "execution_count": 106,
     "metadata": {},
     "output_type": "execute_result"
    }
   ],
   "source": [
    "110 // 150"
   ]
  },
  {
   "cell_type": "code",
   "execution_count": 123,
   "id": "6c269764",
   "metadata": {},
   "outputs": [],
   "source": [
    "def compress_data(alpha):\n",
    "    output = np.zeros(5)\n",
    "    data = simulate_data(alpha, 1)\n",
    "    for bin_index in data:\n",
    "        output[bin_index // 200] += 1\n",
    "    return output"
   ]
  },
  {
   "cell_type": "code",
   "execution_count": 125,
   "id": "2af7924f",
   "metadata": {},
   "outputs": [],
   "source": [
    "compressed_data = compress_data(0.5)"
   ]
  },
  {
   "cell_type": "code",
   "execution_count": 126,
   "id": "7b94a41d",
   "metadata": {},
   "outputs": [
    {
     "data": {
      "text/plain": [
       "array([313., 142.,  60.,  16.,   0.])"
      ]
     },
     "execution_count": 126,
     "metadata": {},
     "output_type": "execute_result"
    }
   ],
   "source": [
    "compressed_data"
   ]
  },
  {
   "cell_type": "code",
   "execution_count": 127,
   "id": "99db7e69",
   "metadata": {},
   "outputs": [
    {
     "data": {
      "image/png": "[encoded data removed]",
      "text/plain": [
       "<Figure size 640x480 with 1 Axes>"
      ]
     },
     "metadata": {},
     "output_type": "display_data"
    }
   ],
   "source": [
    "plt.hist(data, bins=20)\n",
    "plt.xlabel('Channel')\n",
    "plt.ylabel('Count')\n",
    "plt.show()"
   ]
  },
  {
   "cell_type": "code",
   "execution_count": 128,
   "id": "b7534ee9",
   "metadata": {},
   "outputs": [],
   "source": [
    "from sbi.inference import infer"
   ]
  },
  {
   "cell_type": "code",
   "execution_count": 184,
   "id": "15ccf811",
   "metadata": {},
   "outputs": [
    {
     "name": "stderr",
     "output_type": "stream",
     "text": [
      "/Users/sebastiandixon/opt/anaconda3/lib/python3.9/site-packages/sbi/utils/user_input_checks.py:200: UserWarning: Casting 1D Uniform prior to BoxUniform to match sbi batch requirements.\n",
      "  warnings.warn(\n"
     ]
    },
    {
     "data": {
      "application/vnd.jupyter.widget-view+json": {
       "model_id": "0e99ec58984d479c92d1ed8d43db6621",
       "version_major": 2,
       "version_minor": 0
      },
      "text/plain": [
       "Running 100 simulations.:   0%|          | 0/100 [00:00<?, ?it/s]"
      ]
     },
     "metadata": {},
     "output_type": "display_data"
    },
    {
     "name": "stderr",
     "output_type": "stream",
     "text": [
      "/Users/sebastiandixon/opt/anaconda3/lib/python3.9/site-packages/sbi/neural_nets/flow.py:141: UserWarning: In one-dimensional output space, this flow is limited to Gaussians\n",
      "  warn(\"In one-dimensional output space, this flow is limited to Gaussians\")\n"
     ]
    },
    {
     "name": "stdout",
     "output_type": "stream",
     "text": [
      " Neural network successfully converged after 84 epochs."
     ]
    }
   ],
   "source": [
    "#create data channels\n",
    "#1,...5\n",
    "#look into approximate bayesian computation\n",
    "#\n",
    "\n",
    "#experiment with univariate normal / bivariate / simple distribibution\n",
    "\n",
    "prior = torch.distributions.Uniform(torch.tensor([0.0]), torch.tensor([2.0]))\n",
    "alpha_posterior = infer(compress_data, prior, method='SNPE', num_simulations=100)\n",
    "\n",
    "#need to sample posterior conditioal on actual data\n"
   ]
  },
  {
   "cell_type": "code",
   "execution_count": 170,
   "id": "2bd85516",
   "metadata": {},
   "outputs": [
    {
     "data": {
      "application/vnd.jupyter.widget-view+json": {
       "model_id": "277f055b2a7c49e49f3e1964858f048e",
       "version_major": 2,
       "version_minor": 0
      },
      "text/plain": [
       "Drawing 2000 posterior samples:   0%|          | 0/2000 [00:00<?, ?it/s]"
      ]
     },
     "metadata": {},
     "output_type": "display_data"
    }
   ],
   "source": []
  },
  {
   "cell_type": "code",
   "execution_count": 273,
   "id": "2f84893f",
   "metadata": {},
   "outputs": [
    {
     "data": {
      "application/vnd.jupyter.widget-view+json": {
       "model_id": "e66c0973cf374184bfd5bbe4b8adbce2",
       "version_major": 2,
       "version_minor": 0
      },
      "text/plain": [
       "Drawing 10000 posterior samples:   0%|          | 0/10000 [00:00<?, ?it/s]"
      ]
     },
     "metadata": {},
     "output_type": "display_data"
    },
    {
     "name": "stderr",
     "output_type": "stream",
     "text": [
      "/var/folders/17/2brgtwwj25d0g2886hjmjkyc0000gn/T/ipykernel_51262/2313517008.py:4: UserWarning: \n",
      "\n",
      "`distplot` is a deprecated function and will be removed in seaborn v0.14.0.\n",
      "\n",
      "Please adapt your code to use either `displot` (a figure-level function with\n",
      "similar flexibility) or `kdeplot` (an axes-level function for kernel density plots).\n",
      "\n",
      "For a guide to updating your code to use the new functions, please see\n",
      "https://gist.github.com/mwaskom/de44147ed2974457ad6372750bbe5751\n",
      "\n",
      "  sns.distplot(np.array(posterior), bins=30, hist=False, kde=True, label='Posterior distribution')\n"
     ]
    },
    {
     "data": {
      "image/png": "[encoded data removed]",
      "text/plain": [
       "<Figure size 640x480 with 1 Axes>"
      ]
     },
     "metadata": {},
     "output_type": "display_data"
    }
   ],
   "source": [
    "alpha=0.5\n",
    "x = compress_data(alpha)\n",
    "posterior = alpha_posterior.sample((10000,), x=x)\n",
    "sns.distplot(np.array(posterior), bins=30, hist=False, kde=True, label='Posterior distribution')\n",
    "plt.axvline(alpha, label='true alpha', color='y')\n",
    "plt.legend()\n",
    "plt.show()\n"
   ]
  },
  {
   "cell_type": "code",
   "execution_count": 211,
   "id": "6dce7106",
   "metadata": {},
   "outputs": [],
   "source": [
    "def ABC(prior_sample, simulator, summary_statistic, data, ϵ, max_iters, n_samples):\n",
    "    samples = []\n",
    "    n_iters = 0\n",
    "    while len(samples) < n_samples:\n",
    "        params = prior_sample()\n",
    "        summary = summary_statistic(simulator(params))\n",
    "        summary_data = summary_statistic(data)\n",
    "        if np.linalg.norm(summary - summary_data) < ϵ:\n",
    "            samples.append(params)\n",
    "        n_iters += 1\n",
    "        if n_iters > max_iters:\n",
    "            return \"did not converge\"\n",
    "    return samples"
   ]
  },
  {
   "cell_type": "code",
   "execution_count": 196,
   "id": "84af8d7f",
   "metadata": {},
   "outputs": [
    {
     "name": "stderr",
     "output_type": "stream",
     "text": [
      "WARNING (pytensor.tensor.blas): Using NumPy C-API based implementation for BLAS functions.\n"
     ]
    }
   ],
   "source": [
    "import pymc as pm"
   ]
  },
  {
   "cell_type": "code",
   "execution_count": 228,
   "id": "81c0c92f",
   "metadata": {},
   "outputs": [],
   "source": [
    "import seaborn as sns"
   ]
  },
  {
   "cell_type": "code",
   "execution_count": 200,
   "id": "acbfe61f",
   "metadata": {},
   "outputs": [
    {
     "data": {
      "text/plain": [
       "array([-0.03927825,  0.98624814])"
      ]
     },
     "execution_count": 200,
     "metadata": {},
     "output_type": "execute_result"
    }
   ],
   "source": [
    "def normal_simulator(params):\n",
    "    μ, σ = params\n",
    "    return np.random.normal(μ, σ, 1000)\n",
    "\n",
    "def summary_statistic(data):\n",
    "    return np.array((np.mean(data), np.std(data)))\n",
    "\n",
    "def prior_sample():\n",
    "    return (np.random.uniform(-1,1), np.random.uniform(0,1))\n",
    "\n",
    "summary_statistic(normal_simulator((0,1)))"
   ]
  },
  {
   "cell_type": "code",
   "execution_count": 216,
   "id": "2f4856a0",
   "metadata": {},
   "outputs": [],
   "source": [
    "ABC_normal = ABC(prior_sample, normal_simulator, summary_statistic, normal_simulator((0,1)), 0.1, 100000, 500)\n",
    "\n",
    "\n"
   ]
  },
  {
   "cell_type": "code",
   "execution_count": 253,
   "id": "a4230f2d",
   "metadata": {},
   "outputs": [
    {
     "name": "stderr",
     "output_type": "stream",
     "text": [
      "/var/folders/17/2brgtwwj25d0g2886hjmjkyc0000gn/T/ipykernel_51262/2180018758.py:2: UserWarning: \n",
      "\n",
      "`distplot` is a deprecated function and will be removed in seaborn v0.14.0.\n",
      "\n",
      "Please adapt your code to use either `displot` (a figure-level function with\n",
      "similar flexibility) or `histplot` (an axes-level function for histograms).\n",
      "\n",
      "For a guide to updating your code to use the new functions, please see\n",
      "https://gist.github.com/mwaskom/de44147ed2974457ad6372750bbe5751\n",
      "\n",
      "  sns.distplot(ABC_normal[:, 0])\n"
     ]
    },
    {
     "data": {
      "image/png": "[encoded data removed]",
      "text/plain": [
       "<Figure size 640x480 with 1 Axes>"
      ]
     },
     "metadata": {},
     "output_type": "display_data"
    }
   ],
   "source": [
    "ABC_normal = np.array(ABC_normal)\n",
    "sns.distplot(ABC_normal[:, 0])\n",
    "plt.title(\"Posterior for $\\mu$\")\n",
    "plt.axvline(0, label='true $\\mu$', color='y')\n",
    "plt.legend()\n",
    "plt.show()"
   ]
  },
  {
   "cell_type": "code",
   "execution_count": 254,
   "id": "d7a2408f",
   "metadata": {},
   "outputs": [
    {
     "name": "stderr",
     "output_type": "stream",
     "text": [
      "/var/folders/17/2brgtwwj25d0g2886hjmjkyc0000gn/T/ipykernel_51262/4189332132.py:1: UserWarning: \n",
      "\n",
      "`distplot` is a deprecated function and will be removed in seaborn v0.14.0.\n",
      "\n",
      "Please adapt your code to use either `displot` (a figure-level function with\n",
      "similar flexibility) or `histplot` (an axes-level function for histograms).\n",
      "\n",
      "For a guide to updating your code to use the new functions, please see\n",
      "https://gist.github.com/mwaskom/de44147ed2974457ad6372750bbe5751\n",
      "\n",
      "  sns.distplot(ABC_normal[:, 1])\n"
     ]
    },
    {
     "data": {
      "image/png": "[encoded data removed]",
      "text/plain": [
       "<Figure size 640x480 with 1 Axes>"
      ]
     },
     "metadata": {},
     "output_type": "display_data"
    }
   ],
   "source": [
    "sns.distplot(ABC_normal[:, 1])\n",
    "plt.title(\"Posterior for $\\sigma$\")\n",
    "plt.axvline(1, label='true $\\mu$', color='y')\n",
    "plt.legend()\n",
    "plt.show()"
   ]
  },
  {
   "cell_type": "code",
   "execution_count": 267,
   "id": "18b926ea",
   "metadata": {},
   "outputs": [],
   "source": [
    "def ABC_for_photons(prior, simulator, data, ϵ=50, n_samples=100):\n",
    "    samples = []\n",
    "    n_iters = 0\n",
    "    while len(samples) < n_samples:\n",
    "        params = prior.sample()\n",
    "        data_sample = simulator(params)\n",
    "        if np.linalg.norm(data_sample - data) < ϵ:\n",
    "            samples.append(params)\n",
    "            print (params)\n",
    "        n_iters += 1\n",
    "        if n_iters > 100000:\n",
    "            return \"did not converge\"\n",
    "    return samples"
   ]
  },
  {
   "cell_type": "code",
   "execution_count": 268,
   "id": "c2f0a2ae",
   "metadata": {},
   "outputs": [
    {
     "name": "stdout",
     "output_type": "stream",
     "text": [
      "tensor([0.3889])\n",
      "tensor([0.5976])\n",
      "tensor([0.4403])\n",
      "tensor([0.5809])\n",
      "tensor([0.4205])\n",
      "tensor([0.4680])\n",
      "tensor([0.4788])\n",
      "tensor([0.4026])\n",
      "tensor([0.5235])\n",
      "tensor([0.4872])\n",
      "tensor([0.5670])\n",
      "tensor([0.4623])\n",
      "tensor([0.6069])\n",
      "tensor([0.4677])\n",
      "tensor([0.5028])\n",
      "tensor([0.4452])\n",
      "tensor([0.4986])\n",
      "tensor([0.4298])\n",
      "tensor([0.5525])\n",
      "tensor([0.4205])\n",
      "tensor([0.3868])\n",
      "tensor([0.3922])\n",
      "tensor([0.4713])\n",
      "tensor([0.5417])\n",
      "tensor([0.6576])\n",
      "tensor([0.4749])\n",
      "tensor([0.4922])\n",
      "tensor([0.3862])\n",
      "tensor([0.5788])\n",
      "tensor([0.4948])\n",
      "tensor([0.5916])\n",
      "tensor([0.5207])\n",
      "tensor([0.5346])\n",
      "tensor([0.5300])\n",
      "tensor([0.5303])\n",
      "tensor([0.4173])\n",
      "tensor([0.4089])\n",
      "tensor([0.4825])\n",
      "tensor([0.5980])\n",
      "tensor([0.5109])\n",
      "tensor([0.4658])\n",
      "tensor([0.4350])\n",
      "tensor([0.4819])\n",
      "tensor([0.4627])\n",
      "tensor([0.5042])\n",
      "tensor([0.5413])\n",
      "tensor([0.4907])\n",
      "tensor([0.4418])\n",
      "tensor([0.5680])\n",
      "tensor([0.4264])\n",
      "tensor([0.5204])\n",
      "tensor([0.3650])\n",
      "tensor([0.5411])\n",
      "tensor([0.5506])\n",
      "tensor([0.4884])\n",
      "tensor([0.5169])\n",
      "tensor([0.5173])\n",
      "tensor([0.5062])\n",
      "tensor([0.5408])\n",
      "tensor([0.4640])\n",
      "tensor([0.5248])\n",
      "tensor([0.3567])\n",
      "tensor([0.5708])\n",
      "tensor([0.4158])\n",
      "tensor([0.5308])\n",
      "tensor([0.4548])\n",
      "tensor([0.4624])\n",
      "tensor([0.5115])\n",
      "tensor([0.4492])\n",
      "tensor([0.4655])\n",
      "tensor([0.5870])\n",
      "tensor([0.5408])\n",
      "tensor([0.5393])\n",
      "tensor([0.4212])\n",
      "tensor([0.4927])\n",
      "tensor([0.5376])\n",
      "tensor([0.4174])\n",
      "tensor([0.5919])\n",
      "tensor([0.4726])\n",
      "tensor([0.5981])\n",
      "tensor([0.6134])\n",
      "tensor([0.5763])\n",
      "tensor([0.4451])\n",
      "tensor([0.6067])\n",
      "tensor([0.4751])\n",
      "tensor([0.4222])\n",
      "tensor([0.5590])\n",
      "tensor([0.5691])\n",
      "tensor([0.4417])\n",
      "tensor([0.6276])\n",
      "tensor([0.6111])\n",
      "tensor([0.3606])\n",
      "tensor([0.5292])\n",
      "tensor([0.4914])\n",
      "tensor([0.4457])\n",
      "tensor([0.3716])\n",
      "tensor([0.4923])\n",
      "tensor([0.3953])\n",
      "tensor([0.4241])\n",
      "tensor([0.5024])\n"
     ]
    }
   ],
   "source": [
    "alpha1 = 0.5\n",
    "prior = torch.distributions.Uniform(torch.tensor([0.0]), torch.tensor([1.0]))\n",
    "data = ABC_for_photons(prior, compress_data, compress_data(alpha1))\n",
    "\n"
   ]
  },
  {
   "cell_type": "code",
   "execution_count": 272,
   "id": "f63db9ff",
   "metadata": {},
   "outputs": [
    {
     "data": {
      "application/vnd.jupyter.widget-view+json": {
       "model_id": "2f6c29fb136c46069e537ad91b87e93e",
       "version_major": 2,
       "version_minor": 0
      },
      "text/plain": [
       "Drawing 100 posterior samples:   0%|          | 0/100 [00:00<?, ?it/s]"
      ]
     },
     "metadata": {},
     "output_type": "display_data"
    },
    {
     "name": "stderr",
     "output_type": "stream",
     "text": [
      "/var/folders/17/2brgtwwj25d0g2886hjmjkyc0000gn/T/ipykernel_51262/1657373523.py:4: UserWarning: \n",
      "\n",
      "`distplot` is a deprecated function and will be removed in seaborn v0.14.0.\n",
      "\n",
      "Please adapt your code to use either `displot` (a figure-level function with\n",
      "similar flexibility) or `kdeplot` (an axes-level function for kernel density plots).\n",
      "\n",
      "For a guide to updating your code to use the new functions, please see\n",
      "https://gist.github.com/mwaskom/de44147ed2974457ad6372750bbe5751\n",
      "\n",
      "  sns.distplot(np.array(posterior), bins=30, hist=False, kde=True, label='SNPE Posterior distribution')\n",
      "/var/folders/17/2brgtwwj25d0g2886hjmjkyc0000gn/T/ipykernel_51262/1657373523.py:5: UserWarning: \n",
      "\n",
      "`distplot` is a deprecated function and will be removed in seaborn v0.14.0.\n",
      "\n",
      "Please adapt your code to use either `displot` (a figure-level function with\n",
      "similar flexibility) or `kdeplot` (an axes-level function for kernel density plots).\n",
      "\n",
      "For a guide to updating your code to use the new functions, please see\n",
      "https://gist.github.com/mwaskom/de44147ed2974457ad6372750bbe5751\n",
      "\n",
      "  sns.distplot(data, bins=30, hist=False, kde=True, label='ABC Posterior Distribution')\n",
      "/Users/sebastiandixon/opt/anaconda3/lib/python3.9/site-packages/seaborn/distributions.py:2458: FutureWarning: The input object of type 'Tensor' is an array-like implementing one of the corresponding protocols (`__array__`, `__array_interface__` or `__array_struct__`); but not a sequence (or 0-D). In the future, this object will be coerced as if it was first converted using `np.array(obj)`. To retain the old behaviour, you have to either modify the type 'Tensor', or assign to an empty array created with `np.empty(correct_shape, dtype=object)`.\n",
      "  a = np.asarray(a, float)\n"
     ]
    },
    {
     "data": {
      "image/png": "[encoded data removed]",
      "text/plain": [
       "<Figure size 640x480 with 1 Axes>"
      ]
     },
     "metadata": {},
     "output_type": "display_data"
    }
   ],
   "source": [
    "alpha=0.5\n",
    "x = compress_data(alpha)\n",
    "posterior = alpha_posterior.sample((100,), x=x)\n",
    "sns.distplot(np.array(posterior), bins=30, hist=False, kde=True, label='SNPE Posterior distribution')\n",
    "sns.distplot(data, bins=30, hist=False, kde=True, label='ABC Posterior Distribution')\n",
    "plt.axvline(alpha, label='true alpha', color='y')\n",
    "plt.legend()\n",
    "plt.show()"
   ]
  },
  {
   "cell_type": "code",
   "execution_count": null,
   "id": "e7221a78",
   "metadata": {},
   "outputs": [],
   "source": []
  }
 ],
 "metadata": {
  "kernelspec": {
   "display_name": "Python 3 (ipykernel)",
   "language": "python",
   "name": "python3"
  },
  "language_info": {
   "codemirror_mode": {
    "name": "ipython",
    "version": 3
   },
   "file_extension": ".py",
   "mimetype": "text/x-python",
   "name": "python",
   "nbconvert_exporter": "python",
   "pygments_lexer": "ipython3",
   "version": "3.9.13"
  }
 },
 "nbformat": 4,
 "nbformat_minor": 5
}
